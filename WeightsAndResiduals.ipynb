{
 "cells": [
  {
   "cell_type": "code",
   "execution_count": 1,
   "metadata": {
    "collapsed": true
   },
   "outputs": [],
   "source": [
    "import pandas as pd\n",
    "import numpy as np\n",
    "import matplotlib.pyplot as plt\n",
    "import glob\n",
    "import datetime\n",
    "import itertools\n",
    "from time import sleep\n",
    "import os\n",
    "import seaborn as sns"
   ]
  },
  {
   "cell_type": "code",
   "execution_count": 2,
   "metadata": {
    "collapsed": false
   },
   "outputs": [
    {
     "name": "stdout",
     "output_type": "stream",
     "text": [
      "2017-05-19 07:43:37.880091\n",
      "Using this many files 995\n"
     ]
    }
   ],
   "source": [
    "# get the DF used for setting the weights and analysis\n",
    "print datetime.datetime.now()\n",
    "validFilePaths = []\n",
    "for f in os.listdir(\"data/anomaly_data\"):\n",
    "    filePath = os.path.join(\"data/anomaly_data\", f)\n",
    "    if os.path.isdir(filePath):\n",
    "        continue\n",
    "    if os.stat(filePath).st_size <= 3:\n",
    "        continue\n",
    "    validFilePaths.append(filePath)\n",
    "    \n",
    "numF = int(0.1 * len(validFilePaths))\n",
    "print 'Using this many files {0}'.format(numF)\n",
    "validFilePaths = np.random.choice(validFilePaths, numF, replace=False)\n",
    "df_list = (pd.read_csv(f) for f in validFilePaths)\n",
    "df = pd.concat(df_list, ignore_index=True)\n",
    "df1 = df[df['radiant_win'].notnull()]"
   ]
  },
  {
   "cell_type": "code",
   "execution_count": 3,
   "metadata": {
    "collapsed": true
   },
   "outputs": [],
   "source": [
    "\n",
    "df2 = pd.DataFrame(np.loadtxt('data/goodAnomaliesResidual.csv', delimiter = ','), \n",
    "                 columns = [\"match_id\", \"residual\"])\n",
    "\n",
    "df = df1.merge(df2, left_on='match_id', right_on='match_id')\n",
    "\n",
    "matchDictionary = {}\n",
    "heroColumns = [filter(lambda x: z in x, df.columns) for z in ['hero_id']][0]\n",
    "\n",
    "# for each row, this function will return all the heroes that the match belongs in\n",
    "# for example, if the match had an AM and Spectre, we should place this match in each of those bags\n",
    "def heroesForMatch(row):\n",
    "    pass"
   ]
  },
  {
   "cell_type": "code",
   "execution_count": 4,
   "metadata": {
    "collapsed": false
   },
   "outputs": [],
   "source": [
    "df = df[~df['match_id'].duplicated()]"
   ]
  },
  {
   "cell_type": "code",
   "execution_count": 5,
   "metadata": {
    "collapsed": false
   },
   "outputs": [],
   "source": [
    "df = df.sort_values(by='residual', ascending=False)"
   ]
  },
  {
   "cell_type": "code",
   "execution_count": 6,
   "metadata": {
    "collapsed": false
   },
   "outputs": [
    {
     "data": {
      "text/plain": [
       "[3123855616,\n",
       " 3123784960,\n",
       " 3123784448,\n",
       " 3123927040,\n",
       " 3123664384,\n",
       " 3123780608,\n",
       " 3123939584,\n",
       " 3123936768,\n",
       " 3123949056,\n",
       " 3123798784,\n",
       " 3123779328,\n",
       " 3123583232,\n",
       " 3123720960,\n",
       " 3123711744,\n",
       " 3123879424,\n",
       " 3123732480,\n",
       " 3123439872,\n",
       " 3123624704,\n",
       " 3123616512,\n",
       " 3123303936,\n",
       " 3123820800,\n",
       " 3123728128,\n",
       " 3123762432,\n",
       " 3123457024,\n",
       " 3123582976,\n",
       " 3123739904,\n",
       " 3123549952,\n",
       " 3123660032,\n",
       " 3123738368,\n",
       " 3123437312,\n",
       " 3123510528,\n",
       " 3123248384,\n",
       " 3123585792,\n",
       " 3123465216,\n",
       " 3123254016,\n",
       " 3123768064,\n",
       " 3123259904,\n",
       " 3123005184,\n",
       " 3123094016,\n",
       " 3123872768,\n",
       " 3123165440,\n",
       " 3123599360,\n",
       " 3123570176,\n",
       " 3123349504,\n",
       " 3123313152,\n",
       " 3123266048,\n",
       " 3122989056,\n",
       " 3123288064,\n",
       " 3123439616,\n",
       " 3123261184,\n",
       " 3123273472,\n",
       " 3122991872,\n",
       " 3123658496,\n",
       " 3123283456,\n",
       " 3123216128,\n",
       " 3123192832,\n",
       " 3123229440,\n",
       " 3123179008,\n",
       " 3123207424,\n",
       " 3123015424]"
      ]
     },
     "execution_count": 6,
     "metadata": {},
     "output_type": "execute_result"
    }
   ],
   "source": [
    "df['match_id'].values.tolist()"
   ]
  },
  {
   "cell_type": "code",
   "execution_count": 10,
   "metadata": {
    "collapsed": false
   },
   "outputs": [
    {
     "data": {
      "text/plain": [
       "<matplotlib.axes._subplots.AxesSubplot at 0x7f8d84a08410>"
      ]
     },
     "execution_count": 10,
     "metadata": {},
     "output_type": "execute_result"
    }
   ],
   "source": [
    "sns.distplot(df['residual'].values.tolist())"
   ]
  },
  {
   "cell_type": "code",
   "execution_count": 11,
   "metadata": {
    "collapsed": false
   },
   "outputs": [
    {
     "data": {
      "image/png": "[encoded data removed]",
      "text/plain": [
       "<matplotlib.figure.Figure at 0x7f8d842e83d0>"
      ]
     },
     "metadata": {},
     "output_type": "display_data"
    }
   ],
   "source": [
    "plt.show()"
   ]
  },
  {
   "cell_type": "code",
   "execution_count": 9,
   "metadata": {
    "collapsed": false
   },
   "outputs": [
    {
     "data": {
      "text/plain": [
       "60"
      ]
     },
     "execution_count": 9,
     "metadata": {},
     "output_type": "execute_result"
    }
   ],
   "source": [
    "len(df)"
   ]
  },
  {
   "cell_type": "code",
   "execution_count": 53,
   "metadata": {
    "collapsed": false
   },
   "outputs": [],
   "source": [
    "plt.close()"
   ]
  },
  {
   "cell_type": "code",
   "execution_count": 66,
   "metadata": {
    "collapsed": false
   },
   "outputs": [],
   "source": [
    "residuals = df['residual'].values.tolist()"
   ]
  },
  {
   "cell_type": "code",
   "execution_count": 67,
   "metadata": {
    "collapsed": false
   },
   "outputs": [
    {
     "data": {
      "text/plain": [
       "4188012544.0"
      ]
     },
     "execution_count": 67,
     "metadata": {},
     "output_type": "execute_result"
    }
   ],
   "source": [
    "np.max(residuals) - np.min(residuals)"
   ]
  },
  {
   "cell_type": "code",
   "execution_count": 13,
   "metadata": {
    "collapsed": false
   },
   "outputs": [
    {
     "data": {
      "text/plain": [
       "248    1.504783e+12\n",
       "191    1.504780e+12\n",
       "9      1.504754e+12\n",
       "122    1.504753e+12\n",
       "237    1.504693e+12\n",
       "58     1.504686e+12\n",
       "63     1.504664e+12\n",
       "19     1.504656e+12\n",
       "43     1.504654e+12\n",
       "228    1.504611e+12\n",
       "97     1.504599e+12\n",
       "83     1.504587e+12\n",
       "218    1.504582e+12\n",
       "223    1.504571e+12\n",
       "98     1.504558e+12\n",
       "170    1.504546e+12\n",
       "212    1.504544e+12\n",
       "69     1.504520e+12\n",
       "114    1.504514e+12\n",
       "119    1.504504e+12\n",
       "110    1.504497e+12\n",
       "185    1.504486e+12\n",
       "87     1.504485e+12\n",
       "201    1.504482e+12\n",
       "243    1.504465e+12\n",
       "14     1.504461e+12\n",
       "139    1.504448e+12\n",
       "214    1.504441e+12\n",
       "101    1.504438e+12\n",
       "245    1.504433e+12\n",
       "35     1.504428e+12\n",
       "138    1.504423e+12\n",
       "6      1.504416e+12\n",
       "200    1.504403e+12\n",
       "127    1.504398e+12\n",
       "232    1.504392e+12\n",
       "105    1.504384e+12\n",
       "88     1.504364e+12\n",
       "183    1.504362e+12\n",
       "145    1.504353e+12\n",
       "53     1.504350e+12\n",
       "203    1.504336e+12\n",
       "76     1.504334e+12\n",
       "157    1.504329e+12\n",
       "0      1.504321e+12\n",
       "209    1.504315e+12\n",
       "169    1.504314e+12\n",
       "148    1.504310e+12\n",
       "193    1.504281e+12\n",
       "92     1.504280e+12\n",
       "71     1.504280e+12\n",
       "216    1.504269e+12\n",
       "240    1.504256e+12\n",
       "253    1.504227e+12\n",
       "133    1.504219e+12\n",
       "23     1.504202e+12\n",
       "182    1.504199e+12\n",
       "102    1.504193e+12\n",
       "85     1.504191e+12\n",
       "49     1.504078e+12\n",
       "Name: residual, dtype: float64"
      ]
     },
     "execution_count": 13,
     "metadata": {},
     "output_type": "execute_result"
    }
   ],
   "source": [
    "df['residual']"
   ]
  },
  {
   "cell_type": "code",
   "execution_count": null,
   "metadata": {
    "collapsed": true
   },
   "outputs": [],
   "source": []
  }
 ],
 "metadata": {
  "kernelspec": {
   "display_name": "Python 2",
   "language": "python",
   "name": "python2"
  },
  "language_info": {
   "codemirror_mode": {
    "name": "ipython",
    "version": 2
   },
   "file_extension": ".py",
   "mimetype": "text/x-python",
   "name": "python",
   "nbconvert_exporter": "python",
   "pygments_lexer": "ipython2",
   "version": "2.7.12"
  }
 },
 "nbformat": 4,
 "nbformat_minor": 2
}
