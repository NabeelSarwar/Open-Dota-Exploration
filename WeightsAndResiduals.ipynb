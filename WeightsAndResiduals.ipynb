{
 "cells": [
  {
   "cell_type": "code",
   "execution_count": 39,
   "metadata": {
    "collapsed": true
   },
   "outputs": [],
   "source": [
    "import pandas as pd\n",
    "import numpy as np\n",
    "import matplotlib.pyplot as plt\n",
    "import glob\n",
    "import datetime\n",
    "import itertools\n",
    "from time import sleep\n",
    "import os\n",
    "import seaborn as sns"
   ]
  },
  {
   "cell_type": "code",
   "execution_count": 40,
   "metadata": {
    "collapsed": false
   },
   "outputs": [
    {
     "name": "stdout",
     "output_type": "stream",
     "text": [
      "2017-05-18 18:51:12.748721\n",
      "Using this many files 995\n"
     ]
    }
   ],
   "source": [
    "# get the DF used for setting the weights and analysis\n",
    "print datetime.datetime.now()\n",
    "validFilePaths = []\n",
    "for f in os.listdir(\"data/anomaly_data\"):\n",
    "    filePath = os.path.join(\"data/anomaly_data\", f)\n",
    "    if os.path.isdir(filePath):\n",
    "        continue\n",
    "    if os.stat(filePath).st_size <= 3:\n",
    "        continue\n",
    "    validFilePaths.append(filePath)\n",
    "    \n",
    "numF = int(0.1 * len(validFilePaths))\n",
    "print 'Using this many files {0}'.format(numF)\n",
    "validFilePaths = np.random.choice(validFilePaths, numF, replace=False)\n",
    "df_list = (pd.read_csv(f) for f in validFilePaths)\n",
    "df = pd.concat(df_list, ignore_index=True)\n",
    "df1 = df[df['radiant_win'].notnull()]"
   ]
  },
  {
   "cell_type": "code",
   "execution_count": 42,
   "metadata": {
    "collapsed": true
   },
   "outputs": [],
   "source": [
    "\n",
    "df2 = pd.DataFrame(np.loadtxt('data/goodAnomaliesResidual.csv', delimiter = ','), \n",
    "                 columns = [\"match_id\", \"residual\"])\n",
    "\n",
    "df = df1.merge(df2, left_on='match_id', right_on='match_id')\n",
    "\n",
    "matchDictionary = {}\n",
    "heroColumns = [filter(lambda x: z in x, df.columns) for z in ['hero_id']][0]\n",
    "\n",
    "# for each row, this function will return all the heroes that the match belongs in\n",
    "# for example, if the match had an AM and Spectre, we should place this match in each of those bags\n",
    "def heroesForMatch(row):\n",
    "    pass"
   ]
  },
  {
   "cell_type": "code",
   "execution_count": 43,
   "metadata": {
    "collapsed": false
   },
   "outputs": [],
   "source": [
    "df = df[~df['match_id'].duplicated()]"
   ]
  },
  {
   "cell_type": "code",
   "execution_count": 71,
   "metadata": {
    "collapsed": false
   },
   "outputs": [],
   "source": [
    "df = df.sort_values(by='residual', ascending=False)"
   ]
  },
  {
   "cell_type": "code",
   "execution_count": 72,
   "metadata": {
    "collapsed": false
   },
   "outputs": [
    {
     "data": {
      "text/plain": [
       "[3123948032,\n",
       " 3123896576,\n",
       " 3123939584,\n",
       " 3123914240,\n",
       " 3123906560,\n",
       " 3123830272,\n",
       " 3123921408,\n",
       " 3123872000,\n",
       " 3123823616,\n",
       " 3123836928,\n",
       " 3123801856,\n",
       " 3123766016,\n",
       " 3123793920,\n",
       " 3123785728,\n",
       " 3123732992,\n",
       " 3123680512,\n",
       " 3123691776,\n",
       " 3123634944,\n",
       " 3123633408,\n",
       " 3123644160,\n",
       " 3123596800,\n",
       " 3123639552,\n",
       " 3123652352,\n",
       " 3123616512,\n",
       " 3123585024,\n",
       " 3123550976,\n",
       " 3123531520,\n",
       " 3123523328,\n",
       " 3123451392,\n",
       " 3123414272,\n",
       " 3123535360,\n",
       " 3123439872,\n",
       " 3123398144,\n",
       " 3123345152,\n",
       " 3123335168,\n",
       " 3123349760,\n",
       " 3123294976,\n",
       " 3123260928,\n",
       " 3123275520,\n",
       " 3123248384,\n",
       " 3123266048,\n",
       " 3123223296,\n",
       " 3123228928,\n",
       " 3123184384,\n",
       " 3123205888,\n",
       " 3123201792,\n",
       " 3123200256,\n",
       " 3123126528,\n",
       " 3123114496,\n",
       " 3122989568]"
      ]
     },
     "execution_count": 72,
     "metadata": {},
     "output_type": "execute_result"
    }
   ],
   "source": [
    "df['match_id'].values.tolist()"
   ]
  },
  {
   "cell_type": "code",
   "execution_count": 61,
   "metadata": {
    "collapsed": false
   },
   "outputs": [
    {
     "data": {
      "text/plain": [
       "<matplotlib.axes._subplots.AxesSubplot at 0x7f19b7fed210>"
      ]
     },
     "execution_count": 61,
     "metadata": {},
     "output_type": "execute_result"
    }
   ],
   "source": [
    "sns.distplot(np.log(df['residual'].values.tolist()))"
   ]
  },
  {
   "cell_type": "code",
   "execution_count": 62,
   "metadata": {
    "collapsed": false
   },
   "outputs": [
    {
     "data": {
      "image/png": "[encoded data removed]",
      "text/plain": [
       "<matplotlib.figure.Figure at 0x7f19b8874890>"
      ]
     },
     "metadata": {},
     "output_type": "display_data"
    }
   ],
   "source": [
    "plt.show()"
   ]
  },
  {
   "cell_type": "code",
   "execution_count": 49,
   "metadata": {
    "collapsed": false
   },
   "outputs": [
    {
     "data": {
      "text/plain": [
       "50"
      ]
     },
     "execution_count": 49,
     "metadata": {},
     "output_type": "execute_result"
    }
   ],
   "source": [
    "len(df)"
   ]
  },
  {
   "cell_type": "code",
   "execution_count": 53,
   "metadata": {
    "collapsed": false
   },
   "outputs": [],
   "source": [
    "plt.close()"
   ]
  },
  {
   "cell_type": "code",
   "execution_count": 66,
   "metadata": {
    "collapsed": false
   },
   "outputs": [],
   "source": [
    "residuals = df['residual'].values.tolist()"
   ]
  },
  {
   "cell_type": "code",
   "execution_count": 67,
   "metadata": {
    "collapsed": false
   },
   "outputs": [
    {
     "data": {
      "text/plain": [
       "4188012544.0"
      ]
     },
     "execution_count": 67,
     "metadata": {},
     "output_type": "execute_result"
    }
   ],
   "source": [
    "np.max(residuals) - np.min(residuals)"
   ]
  },
  {
   "cell_type": "code",
   "execution_count": null,
   "metadata": {
    "collapsed": true
   },
   "outputs": [],
   "source": []
  }
 ],
 "metadata": {
  "kernelspec": {
   "display_name": "Python 2",
   "language": "python",
   "name": "python2"
  },
  "language_info": {
   "codemirror_mode": {
    "name": "ipython",
    "version": 2
   },
   "file_extension": ".py",
   "mimetype": "text/x-python",
   "name": "python",
   "nbconvert_exporter": "python",
   "pygments_lexer": "ipython2",
   "version": "2.7.12"
  }
 },
 "nbformat": 4,
 "nbformat_minor": 2
}
