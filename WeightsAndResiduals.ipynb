{
 "cells": [
  {
   "cell_type": "code",
   "execution_count": null,
   "metadata": {
    "collapsed": true
   },
   "outputs": [],
   "source": [
    "import pandas as pd\n",
    "import numpy as np\n",
    "import matplotlib.pyplot as plt\n",
    "import glob\n",
    "import datetime\n",
    "import itertools\n",
    "from time import sleep\n",
    "import os\n",
    "import seaborn as sns\n",
    "from itertools import chain"
   ]
  },
  {
   "cell_type": "code",
   "execution_count": null,
   "metadata": {
    "collapsed": false
   },
   "outputs": [
    {
     "name": "stdout",
     "output_type": "stream",
     "text": [
      "2017-06-08 22:20:55.658795\n",
      "Using this many files 4088\n"
     ]
    }
   ],
   "source": [
    "print datetime.datetime.now()\n",
    "validFilePaths = []\n",
    "for f in os.listdir(\"data/anomaly_data\"):\n",
    "    filePath = os.path.join(\"data/anomaly_data\", f)\n",
    "    if os.path.isdir(filePath):\n",
    "        continue\n",
    "    if os.stat(filePath).st_size <= 3:\n",
    "        continue\n",
    "    validFilePaths.append(filePath)\n",
    "    \n",
    "numF = int(1 * len(validFilePaths))\n",
    "print 'Using this many files {0}'.format(numF)\n",
    "validFilePaths = np.random.choice(validFilePaths, numF, replace=False)\n",
    "df_list = (pd.read_csv(f) for f in validFilePaths)\n",
    "df = pd.concat(df_list, ignore_index=True)\n",
    "df = df[df['radiant_win'].notnull()]"
   ]
  },
  {
   "cell_type": "code",
   "execution_count": null,
   "metadata": {
    "collapsed": false
   },
   "outputs": [],
   "source": [
    "df2 = pd.DataFrame(np.loadtxt('data/goodAnomaliesResidual.csv', delimiter = ','), \n",
    "                 columns = [\"match_id\", \"residual\"])\n",
    "\n",
    "df = df.merge(df2, left_on='match_id', right_on='match_id')\n",
    "\n",
    "matchDictionary = {}\n",
    "heroColumns = [filter(lambda x: z in x, df.columns) for z in ['hero_id']][0]\n",
    "\n",
    "# for each row, this function will return all the heroes that the match belongs in\n",
    "# for example, if the match had an AM and Spectre, we should place this match in each of those bags\n",
    "def heroesForMatch(row):\n",
    "    pass"
   ]
  },
  {
   "cell_type": "code",
   "execution_count": null,
   "metadata": {
    "collapsed": false
   },
   "outputs": [],
   "source": [
    "df = df[~df['match_id'].duplicated()]"
   ]
  },
  {
   "cell_type": "code",
   "execution_count": null,
   "metadata": {
    "collapsed": false
   },
   "outputs": [],
   "source": [
    "df = df.sort_values(by='residual', ascending=False)"
   ]
  },
  {
   "cell_type": "code",
   "execution_count": null,
   "metadata": {
    "collapsed": false
   },
   "outputs": [],
   "source": [
    "columns = df.columns\n",
    "numericalFeatures = ['match_id', 'positive_votes', 'negative_votes', 'first_blood_time', 'radiant_win',\n",
    "                    'duration', 'kills', 'deaths', 'assists', 'apm', 'kpm', 'kda', 'hero_dmg',\n",
    "                    'gpm', 'hero_heal', 'xpm', 'totalgold', 'totalxp', 'lasthits', 'denies',\n",
    "                    'tower_kills', 'courier_kills', 'gold_spent', 'observer_uses', 'sentry_uses',\n",
    "                    'ancient_kills', 'neutral_kills', 'camps_stacked', 'pings', 'rune_pickups', 'abandons',\n",
    "                    'residual']\n",
    "numFeatures = [filter(lambda x: z in x, columns) for z in numericalFeatures]\n",
    "numFeatures = list(chain(*numFeatures))\n",
    "df = df[numFeatures]"
   ]
  },
  {
   "cell_type": "code",
   "execution_count": null,
   "metadata": {
    "collapsed": false
   },
   "outputs": [],
   "source": [
    "df['match_id'].values.tolist()"
   ]
  },
  {
   "cell_type": "code",
   "execution_count": null,
   "metadata": {
    "collapsed": false
   },
   "outputs": [],
   "source": [
    "df['residual'].values.tolist()"
   ]
  },
  {
   "cell_type": "code",
   "execution_count": null,
   "metadata": {
    "collapsed": false
   },
   "outputs": [],
   "source": [
    "sns.distplot(df['residual'],  kde=False, rug=True)\n",
    "plt.show()"
   ]
  },
  {
   "cell_type": "code",
   "execution_count": null,
   "metadata": {
    "collapsed": false
   },
   "outputs": [],
   "source": [
    "len(df)"
   ]
  },
  {
   "cell_type": "code",
   "execution_count": null,
   "metadata": {
    "collapsed": false
   },
   "outputs": [],
   "source": [
    "plt.close()"
   ]
  },
  {
   "cell_type": "code",
   "execution_count": null,
   "metadata": {
    "collapsed": false
   },
   "outputs": [],
   "source": [
    "residuals = df['residual'].values.tolist()"
   ]
  },
  {
   "cell_type": "code",
   "execution_count": null,
   "metadata": {
    "collapsed": false
   },
   "outputs": [],
   "source": [
    "np.max(residuals) - np.min(residuals)"
   ]
  },
  {
   "cell_type": "code",
   "execution_count": null,
   "metadata": {
    "collapsed": false
   },
   "outputs": [],
   "source": [
    "df['residual']"
   ]
  },
  {
   "cell_type": "code",
   "execution_count": null,
   "metadata": {
    "collapsed": false
   },
   "outputs": [],
   "source": [
    "def RadiantDireDifference(row, column):\n",
    "    faction = ['radiant', 'dire']\n",
    "    poss = ['pos1', 'pos2', 'pos3', 'pos4', 'pos5']\n",
    "    radiantSum = 0\n",
    "    direSum = 0\n",
    "    for pos in poss:\n",
    "        radiantSum += row['radiant_'+ pos + '_' + column]\n",
    "        direSum += row['dire_'+ pos + '_' + column]\n",
    "    return radiantSum - direSum\n",
    "\n",
    "def reject_outliers(data, m=1.5):\n",
    "    return abs(data - np.mean(data)) < m * np.std(data)\n",
    "\n",
    "\n",
    "def heroKDAdeficit(row):\n",
    "    faction = ['radiant', 'dire']\n",
    "    poss = ['pos1', 'pos2', 'pos3', 'pos4', 'pos5']\n",
    "    largestAbsoluteSoFar = -1\n",
    "    returnVal = -1\n",
    "    for pos in poss:\n",
    "        for fac in faction:\n",
    "            value = row[fac + '_' + pos + '_kills'] + \\\n",
    "                        row[fac + '_' + pos + '_assists'] - \\\n",
    "                        row[fac + '_' + pos + '_deaths']\n",
    "            if abs(value) >= largestAbsoluteSoFar:\n",
    "                largestAbsoluteSoFar = abs(value)\n",
    "                returnVal = value\n",
    "    return returnVal\n",
    "\n",
    "def heroKDdeficit(row):\n",
    "    faction = ['radiant', 'dire']\n",
    "    poss = ['pos1', 'pos2', 'pos3', 'pos4', 'pos5']\n",
    "    largestAbsoluteSoFar = -1\n",
    "    returnVal = -1\n",
    "    for pos in poss:\n",
    "        for fac in faction:\n",
    "            value = row[fac + '_' + pos + '_kills'] - \\\n",
    "                        row[fac + '_' + pos + '_deaths']\n",
    "            if abs(value) >= largestAbsoluteSoFar:\n",
    "                largestAbsoluteSoFar = abs(value)\n",
    "                returnVal = value\n",
    "    return returnVal\n",
    "\n",
    "def heroKD(row):\n",
    "    faction = ['radiant', 'dire']\n",
    "    poss = ['pos1', 'pos2', 'pos3', 'pos4', 'pos5']\n",
    "    largestAbsoluteSoFar = -1\n",
    "    returnVal = -1\n",
    "    for pos in poss:\n",
    "        for fac in faction:\n",
    "            value = row[fac + '_' + pos + '_kills'] - \\\n",
    "                        row[fac + '_' + pos + '_deaths']\n",
    "            if abs(value) >= largestAbsoluteSoFar:\n",
    "                largestAbsoluteSoFar = abs(value)\n",
    "                returnVal = int(pos[3:4])\n",
    "    return returnVal\n"
   ]
  },
  {
   "cell_type": "code",
   "execution_count": null,
   "metadata": {
    "collapsed": false
   },
   "outputs": [],
   "source": [
    "kill_difference = np.abs(df.apply(RadiantDireDifference, args=('kills',), axis=1))\n",
    "sns.regplot(kill_difference, df['residual'])\n",
    "ax = plt.gca()\n",
    "ax.set_xlabel(\"Kill difference\")\n",
    "plt.show()"
   ]
  },
  {
   "cell_type": "code",
   "execution_count": null,
   "metadata": {
    "collapsed": false
   },
   "outputs": [],
   "source": [
    "death_difference = df.apply(RadiantDireDifference, args=('deaths',), axis=1)\n",
    "sns.regplot(np.abs(death_difference), df['residual'])\n",
    "ax = plt.gca()\n",
    "ax.set_xlabel(\"Death difference\")\n",
    "plt.show()"
   ]
  },
  {
   "cell_type": "code",
   "execution_count": null,
   "metadata": {
    "collapsed": false
   },
   "outputs": [],
   "source": [
    "gold_difference = df.apply(RadiantDireDifference, args=('gpm',), axis=1)\n",
    "above_ = np.abs(gold_difference) <= 5000\n",
    "\n",
    "indices = np.where(above_)[0]\n",
    "sns.regplot(np.abs(gold_difference)[above_], df['residual'].iloc[indices])\n",
    "ax = plt.gca()\n",
    "ax.set_xlabel(\"GPM difference\")\n",
    "plt.show()"
   ]
  },
  {
   "cell_type": "code",
   "execution_count": null,
   "metadata": {
    "collapsed": false
   },
   "outputs": [],
   "source": [
    "apm_difference = df.apply(RadiantDireDifference, args=('apm',), axis=1)\n",
    "sns.regplot(np.abs(apm_difference), df['residual'])\n",
    "ax = plt.gca()\n",
    "ax.set_xlabel(\"APM difference\")\n",
    "plt.show()"
   ]
  },
  {
   "cell_type": "code",
   "execution_count": null,
   "metadata": {
    "collapsed": false
   },
   "outputs": [],
   "source": [
    "kda = df.apply(heroKDAdeficit, axis=1)\n",
    "sns.regplot(kda, df['residual'])\n",
    "ax = plt.gca()\n",
    "ax.set_xlabel(\"K + A - D\")\n",
    "plt.show()"
   ]
  },
  {
   "cell_type": "code",
   "execution_count": null,
   "metadata": {
    "collapsed": false
   },
   "outputs": [],
   "source": [
    "kd = df.apply(heroKDdeficit, axis=1)\n",
    "sns.regplot(np.abs(kd), df['residual'])\n",
    "ax = plt.gca()\n",
    "ax.set_xlabel(\"Absolute(K - D)\")\n",
    "plt.show()"
   ]
  },
  {
   "cell_type": "code",
   "execution_count": null,
   "metadata": {
    "collapsed": false
   },
   "outputs": [],
   "source": [
    "kda = df.apply(heroKDAdeficit, axis=1)\n",
    "kda_mean = np.mean(kda)\n",
    "kda_std = np.std(kda)\n",
    "indices = np.where(np.logical_and(kda <= kda_mean + 1.5*kda_std, kda >= kda_mean-1.5*kda_std))[0]\n",
    "sns.regplot(kda[indices], df['residual'].iloc[indices])\n",
    "ax = plt.gca()\n",
    "ax.set_xlabel(\"K + A - D No outliers\")\n",
    "plt.show()"
   ]
  },
  {
   "cell_type": "code",
   "execution_count": null,
   "metadata": {
    "collapsed": false
   },
   "outputs": [],
   "source": [
    "sns.regplot(df['dire_pos2_kills'], df['residual'])\n",
    "ax = plt.gca()\n",
    "ax.set_xlabel(\"Dire Pos 2 Kills\")\n",
    "plt.show()"
   ]
  },
  {
   "cell_type": "code",
   "execution_count": null,
   "metadata": {
    "collapsed": false
   },
   "outputs": [],
   "source": [
    "sns.regplot(df['radiant_pos1_kills'], df['residual'])\n",
    "ax = plt.gca()\n",
    "ax.set_xlabel(\"Radiant Pos 1 Kills\")\n",
    "plt.show()"
   ]
  },
  {
   "cell_type": "code",
   "execution_count": null,
   "metadata": {
    "collapsed": false
   },
   "outputs": [],
   "source": [
    "sns.regplot(np.abs(df['radiant_pos1_kills'] - df['radiant_pos1_deaths']), df['residual'])\n",
    "ax = plt.gca()\n",
    "ax.set_xlabel(\"Radiant Pos 1 Kills - Deaths\")\n",
    "plt.show()"
   ]
  },
  {
   "cell_type": "code",
   "execution_count": null,
   "metadata": {
    "collapsed": false
   },
   "outputs": [],
   "source": [
    "sns.regplot(df['radiant_pos5_kills'] - df['radiant_pos5_deaths'], df['residual'])\n",
    "ax = plt.gca()\n",
    "ax.set_xlabel(\"Radiant Pos 5 Kills - Deaths\")\n",
    "plt.show()"
   ]
  },
  {
   "cell_type": "code",
   "execution_count": null,
   "metadata": {
    "collapsed": false
   },
   "outputs": [],
   "source": [
    "sns.regplot(df.apply(heroKD, axis=1), df['residual'])\n",
    "ax = plt.gca()\n",
    "ax.set_xlabel(\"Hero Pos\")\n",
    "plt.show()"
   ]
  },
  {
   "cell_type": "code",
   "execution_count": null,
   "metadata": {
    "collapsed": false
   },
   "outputs": [],
   "source": [
    "df[df['residual'] > 17]"
   ]
  },
  {
   "cell_type": "code",
   "execution_count": null,
   "metadata": {
    "collapsed": false
   },
   "outputs": [],
   "source": [
    "df[df['residual'] < 7.5].sample(10, random_state=1)"
   ]
  }
 ],
 "metadata": {
  "kernelspec": {
   "display_name": "Python 2",
   "language": "python",
   "name": "python2"
  },
  "language_info": {
   "codemirror_mode": {
    "name": "ipython",
    "version": 2
   },
   "file_extension": ".py",
   "mimetype": "text/x-python",
   "name": "python",
   "nbconvert_exporter": "python",
   "pygments_lexer": "ipython2",
   "version": "2.7.12"
  }
 },
 "nbformat": 4,
 "nbformat_minor": 2
}
