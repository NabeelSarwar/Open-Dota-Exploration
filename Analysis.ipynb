{
 "cells": [
  {
   "cell_type": "code",
   "execution_count": 1,
   "metadata": {
    "collapsed": false
   },
   "outputs": [],
   "source": [
    "import pandas\n",
    "import numpy as np\n",
    "import matplotlib.pyplot as plt\n",
    "from sklearn.feature_extraction import DictVectorizer\n",
    "from sklearn.preprocessing import OneHotEncoder\n",
    "%matplotlib inline\n",
    "import tensorflow as tf\n",
    "import glob"
   ]
  },
  {
   "cell_type": "code",
   "execution_count": 2,
   "metadata": {
    "collapsed": false
   },
   "outputs": [],
   "source": [
    "import os\n",
    "import os.path"
   ]
  },
  {
   "cell_type": "code",
   "execution_count": 3,
   "metadata": {
    "collapsed": false
   },
   "outputs": [],
   "source": [
    "validFilePaths = []\n",
    "for f in os.listdir(\"data/anomaly_data\"):\n",
    "    filePath = os.path.join(\"data/anomaly_data\", f)\n",
    "    if os.path.isdir(filePath):\n",
    "        continue\n",
    "    if os.stat(filePath).st_size <= 3:\n",
    "        continue\n",
    "    validFilePaths.append(filePath)\n",
    "\n",
    "df_list = (pandas.read_csv(f) for f in validFilePaths)\n",
    "df = pandas.concat(df_list, ignore_index=True)\n",
    "df = df[df['radiant_win'].notnull()]"
   ]
  },
  {
   "cell_type": "code",
   "execution_count": 4,
   "metadata": {
    "collapsed": false
   },
   "outputs": [],
   "source": [
    "df.shape\n",
    "columns = df.columns\n",
    "df_catInteger_features_example = filter(lambda x: 'hero_id' in x, columns)"
   ]
  },
  {
   "cell_type": "code",
   "execution_count": 5,
   "metadata": {
    "collapsed": false
   },
   "outputs": [],
   "source": [
    "from itertools import chain\n",
    "# these will require string processing on the column names to work\n",
    "numericalFeatures = ['match_id', 'positive_votes', 'negative_votes', 'first_blood_time', 'radiant_win',\n",
    "                    'duration', 'kills', 'deaths', 'assists', 'apm', 'kpm', 'kda', 'hero_dmg',\n",
    "                    'gpm', 'hero_heal', 'xpm', 'totalgold', 'totalxp', 'lasthits', 'denies',\n",
    "                    'tower_kills', 'courier_kills', 'gold_spent', 'observer_uses', 'sentry_uses',\n",
    "                    'ancient_kills', 'neutral_kills', 'camps_stacked', 'pings', 'rune_pickups']\n",
    "categoricalIntegerFeatures = ['barracks_status', 'tower_status', 'hero_id', \n",
    "                              'item0', 'item1', 'item2', 'item3', 'item4', 'item5']\n",
    "categoricalFullFeatures = ['patch']\n",
    "numFeatures = [filter(lambda x: z in x, columns) for z in numericalFeatures]\n",
    "categoricalIntegerFeatures  = [filter(lambda x: z in x, columns) for z in categoricalIntegerFeatures]\n",
    "catFull = [filter(lambda x: z in x, columns) for z in categoricalFullFeatures]\n",
    "numFeatures = list(chain(*numFeatures))\n",
    "categoricalIntegerFeatures = list(chain(*categoricalIntegerFeatures))\n",
    "catFull = list(chain(*catFull))"
   ]
  },
  {
   "cell_type": "code",
   "execution_count": 6,
   "metadata": {
    "collapsed": false
   },
   "outputs": [],
   "source": [
    "df_numerical = df[numFeatures].values\n",
    "df_cat_num = df[categoricalIntegerFeatures]\n",
    "df_cat = df[catFull]\n",
    "\n",
    "#scipy sparse\n",
    "vectorizer = DictVectorizer(sparse = True)\n",
    "df_cat = vectorizer.fit_transform(df_cat.fillna('NA').to_dict(orient=\"records\"))\n",
    "\n",
    "#scipy sparse\n",
    "enc = OneHotEncoder(sparse = True)\n",
    "df_cat_num = enc.fit_transform(df_cat_num)"
   ]
  },
  {
   "cell_type": "code",
   "execution_count": 7,
   "metadata": {
    "collapsed": false
   },
   "outputs": [
    {
     "name": "stdout",
     "output_type": "stream",
     "text": [
      "<type 'numpy.ndarray'>\n",
      "<class 'scipy.sparse.csr.csr_matrix'>\n",
      "<class 'scipy.sparse.csr.csr_matrix'>\n"
     ]
    }
   ],
   "source": [
    "print type(df_numerical)\n",
    "print type(df_cat_num)\n",
    "print type(df_cat)"
   ]
  },
  {
   "cell_type": "code",
   "execution_count": null,
   "metadata": {
    "collapsed": false
   },
   "outputs": [],
   "source": [
    "# df = pandas.concat([df_numerical, df_cat, df_cat_num], ignore_index=True)"
   ]
  },
  {
   "cell_type": "code",
   "execution_count": null,
   "metadata": {
    "collapsed": false
   },
   "outputs": [],
   "source": [
    "np.random.seed(1)\n",
    "x = np.random.rand(len(df))\n",
    "mask = x < 0.7\n",
    "mask1 = np.logical_and(x >= 0.7, x < 0.9) \n",
    "mask2 = np.logical_and(x >= 0.9)"
   ]
  },
  {
   "cell_type": "code",
   "execution_count": null,
   "metadata": {
    "collapsed": false
   },
   "outputs": [],
   "source": [
    "df_train = df[mask]\n",
    "df_validation = df[mask1]\n",
    "df_test = df[mask2]"
   ]
  },
  {
   "cell_type": "code",
   "execution_count": null,
   "metadata": {
    "collapsed": true
   },
   "outputs": [],
   "source": [
    "NumFeatures = len(df.columns)"
   ]
  },
  {
   "cell_type": "code",
   "execution_count": null,
   "metadata": {
    "collapsed": false
   },
   "outputs": [],
   "source": [
    "def construct(x, layer_size=[10, 10, NumFeatures], learning_rate=0.1):\n",
    "    y = x\n",
    "    #encoders\n",
    "    weights_1 = tf.Variable(tf.random_normal([NumFeatures, layer_size[0]]))\n",
    "    bias_1 = tf.Variable(tf.random_normal([layer_size[0]]))\n",
    "    weights_2 = tf.Variable(tf.random_normal([layer_size[0], layer_size[1]]))\n",
    "    bias_2 = tf.Variable(tf.random_normal([layer_size[1]]))\n",
    "    \n",
    "    #decoders\n",
    "    weights_3 = tf.Variable(tf.random_normal([layer_size[1], layer_size[2]]))\n",
    "    bias_3 = tf.Variable(tf.random_normal([layer_size[2]]))\n",
    "    weights_4 = tf.Variable(tf.random_normal([layer_size[2], NumFeatures]))\n",
    "    bias_4 = tf.Variable(tf.random_normal([NumFeatures]))\n",
    "    \n",
    "    layer1 = tf.nn.relu(tf.matmul(x, weights_1) + bias_1)\n",
    "    layer2 = tf.nn.relu(tf.matmul(layer1, weights_2) + bias_2)\n",
    "    layer3 = tf.nn.relu(tf.matmul(layer2, weights_3) + bias_3)\n",
    "    output = tf.nn.relu(tf.matmul(layer3, weights_4) + bias_4)\n",
    "    \n",
    "    cost = tf.reduce_mean(tf.pow(y-output, 2))\n",
    "    momentum = 0.5\n",
    "    optimizer = tf.train.MomentumOptimizer(learning_rate, momentum).minimize(cost)\n",
    "    \n",
    "    init = tf.global_variables_initializer()\n",
    "    \n",
    "    return init, optimizer     "
   ]
  },
  {
   "cell_type": "code",
   "execution_count": null,
   "metadata": {
    "collapsed": false
   },
   "outputs": [],
   "source": [
    "with tf.Session() as sess:\n",
    "    x = tf.placeholder(tf.float32, [None, NumFeatures])\n",
    "    init, optimizer = construct(x)\n",
    "    sess.run(init)\n",
    "    numEpochs = 1000\n",
    "    numBatches = 1000\n",
    "    batchSize = round(0.1 * len(df_train))\n",
    "    for epochIter in xrange(numEpochs):\n",
    "        for batchItr in xrange(numBatches):\n",
    "            batch = batchGetter(df, batchSize)\n",
    "            session.run(optimizer, feed_dict = {x : batch})"
   ]
  }
 ],
 "metadata": {
  "kernelspec": {
   "display_name": "Python 2",
   "language": "python",
   "name": "python2"
  },
  "language_info": {
   "codemirror_mode": {
    "name": "ipython",
    "version": 2
   },
   "file_extension": ".py",
   "mimetype": "text/x-python",
   "name": "python",
   "nbconvert_exporter": "python",
   "pygments_lexer": "ipython2",
   "version": "2.7.12"
  }
 },
 "nbformat": 4,
 "nbformat_minor": 2
}
