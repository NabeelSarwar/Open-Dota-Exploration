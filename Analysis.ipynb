{
 "cells": [
  {
   "cell_type": "code",
   "execution_count": null,
   "metadata": {
    "collapsed": false
   },
   "outputs": [],
   "source": [
    "import pandas\n",
    "import numpy as np\n",
    "import matplotlib.pyplot as plt\n",
    "from sklearn.feature_extraction import DictVectorizer\n",
    "from sklearn.preprocessing import OneHotEncoder\n",
    "import tensorflow as tf\n",
    "import glob\n",
    "import datetime\n",
    "import itertools\n",
    "from time import sleep"
   ]
  },
  {
   "cell_type": "code",
   "execution_count": null,
   "metadata": {
    "collapsed": true
   },
   "outputs": [],
   "source": [
    "np.random.seed(1)"
   ]
  },
  {
   "cell_type": "code",
   "execution_count": null,
   "metadata": {
    "collapsed": false
   },
   "outputs": [],
   "source": [
    "import os\n",
    "import os.path\n",
    "import gc"
   ]
  },
  {
   "cell_type": "code",
   "execution_count": null,
   "metadata": {
    "collapsed": false
   },
   "outputs": [],
   "source": [
    "import argparse\n",
    "parser = argparse.ArgumentParser(description = \"Please insert the train flag\")"
   ]
  },
  {
   "cell_type": "code",
   "execution_count": null,
   "metadata": {
    "collapsed": false
   },
   "outputs": [],
   "source": [
    "parser.add_argument('-t', '--train', action = \"store\",\n",
    "                    help='If true, we train and save. Else, otherwise.', required = True)"
   ]
  },
  {
   "cell_type": "code",
   "execution_count": null,
   "metadata": {
    "collapsed": false
   },
   "outputs": [],
   "source": [
    "my_args = vars(parser.parse_args())\n",
    "trainFlag = my_args['train']\n",
    "trainFlag = trainFlag.lower() in (\"True\", \"t\", \"true\", \"1\", 1)"
   ]
  },
  {
   "cell_type": "code",
   "execution_count": null,
   "metadata": {
    "collapsed": false
   },
   "outputs": [],
   "source": [
    "print datetime.datetime.now()\n",
    "validFilePaths = []\n",
    "for f in os.listdir(\"data/anomaly_data\"):\n",
    "    filePath = os.path.join(\"data/anomaly_data\", f)\n",
    "    if os.path.isdir(filePath):\n",
    "        continue\n",
    "    if os.stat(filePath).st_size <= 3:\n",
    "        continue\n",
    "    validFilePaths.append(filePath)\n",
    "    \n",
    "numF = int(1 * len(validFilePaths))\n",
    "print 'Using this many files {0}'.format(numF)\n",
    "validFilePaths = np.random.choice(validFilePaths, numF, replace=False)\n",
    "df_list = (pandas.read_csv(f) for f in validFilePaths)\n",
    "df = pandas.concat(df_list, ignore_index=True)\n",
    "df = df[df['radiant_win'].notnull()]"
   ]
  },
  {
   "cell_type": "code",
   "execution_count": null,
   "metadata": {
    "collapsed": false
   },
   "outputs": [],
   "source": [
    "print df.shape\n",
    "columns = df.columns\n",
    "df_catInteger_features_example = filter(lambda x: 'hero_id' in x, columns)"
   ]
  },
  {
   "cell_type": "code",
   "execution_count": null,
   "metadata": {
    "collapsed": false
   },
   "outputs": [],
   "source": [
    "from itertools import chain\n",
    "# these will require string processing on the column names to work\n",
    "numericalFeatures = ['positive_votes', 'negative_votes', 'first_blood_time', 'radiant_win',\n",
    "                    'duration', 'kills', 'deaths', 'assists', 'kpm', 'kda', 'hero_dmg',\n",
    "                    'gpm', 'hero_heal', 'xpm', 'totalgold', 'totalxp', 'lasthits', 'denies',\n",
    "                    'tower_kills', 'courier_kills', 'observer_uses', 'sentry_uses',\n",
    "                    'ancient_kills', 'camps_stacked', 'abandons'] #apm problem\n",
    "categoricalIntegerFeatures = ['hero_id']#['barracks_status', 'tower_status', 'hero_id'] \n",
    "                              #'item0', 'item1', 'item2', 'item3', 'item4', 'item5']\n",
    "categoricalFullFeatures = ['patch']\n",
    "numFeatures = [filter(lambda x: z in x, columns) for z in numericalFeatures]\n",
    "categoricalIntegerFeatures  = [filter(lambda x: z in x, columns) for z in categoricalIntegerFeatures]\n",
    "catFull = [filter(lambda x: z in x, columns) for z in categoricalFullFeatures]\n",
    "numFeatures = list(chain(*numFeatures))\n",
    "categoricalIntegerFeatures = list(chain(*categoricalIntegerFeatures))\n",
    "catFull = list(chain(*catFull))"
   ]
  },
  {
   "cell_type": "code",
   "execution_count": null,
   "metadata": {
    "collapsed": false
   },
   "outputs": [],
   "source": [
    "match_ids = df['match_id']\n",
    "df_numerical = df[numFeatures]\n",
    "df_numerical.loc[:, 'radiant_win'] = df_numerical.loc[:, 'radiant_win'].apply(lambda x : int(x))\n",
    "df_numerical.iloc[:, 1:len(df_numerical.columns)] = df_numerical.iloc[:, 1:len(df_numerical.columns)].apply(lambda x: (x - np.nanmean(x)) / (np.nanmax(x) - np.nanmin(x)))\n",
    "df_numerical = df_numerical.fillna(0)\n",
    "df_numerical['radiant_win'] = df_numerical['radiant_win'].apply(lambda x: 1 if x >= 0 else 0)\n",
    "df = df_numerical"
   ]
  },
  {
   "cell_type": "code",
   "execution_count": null,
   "metadata": {
    "collapsed": false
   },
   "outputs": [],
   "source": [
    "x = np.random.rand(df.shape[0])\n",
    "mask = np.where(x < 0.75)[0]\n",
    "mask2 = np.where(x >= 0.75)[0]\n",
    "df_train = df.iloc[mask, :]\n",
    "df_test = df.iloc[mask2, :]\n",
    "match_ids_train = match_ids.iloc[mask]\n",
    "match_ids_test = match_ids.iloc[mask2]"
   ]
  },
  {
   "cell_type": "code",
   "execution_count": null,
   "metadata": {
    "collapsed": false
   },
   "outputs": [],
   "source": [
    "NumFeatures = df.shape[1]\n",
    "layer_size = [int(NumFeatures * 0.75), NumFeatures]"
   ]
  },
  {
   "cell_type": "code",
   "execution_count": null,
   "metadata": {
    "collapsed": false
   },
   "outputs": [],
   "source": [
    "print NumFeatures"
   ]
  },
  {
   "cell_type": "code",
   "execution_count": null,
   "metadata": {
    "collapsed": false
   },
   "outputs": [],
   "source": [
    "print df_train.shape"
   ]
  },
  {
   "cell_type": "code",
   "execution_count": null,
   "metadata": {
    "collapsed": false
   },
   "outputs": [],
   "source": [
    "x = tf.placeholder(tf.float32, [None, NumFeatures])\n",
    "y = x\n",
    "#encoders\n",
    "weights_1 = tf.Variable(tf.random_normal([NumFeatures, layer_size[0]], stddev = 1.0/NumFeatures/100), name='weights_1')\n",
    "bias_1 = tf.Variable(tf.random_normal([layer_size[0]], stddev = 1.0/NumFeatures/100), name='bias_1')\n",
    "\n",
    "#decoders\n",
    "weights_2 = tf.Variable(tf.random_normal([layer_size[0], layer_size[1]], stddev = 1.0/NumFeatures/100), name='weights_2')\n",
    "bias_2 = tf.Variable(tf.random_normal([layer_size[1]], stddev = 1.0/NumFeatures/100), name='bias_2')\n",
    "  \n",
    "layer1 = tf.tanh(tf.matmul(x, weights_1) + bias_1)\n",
    "output = tf.tanh(tf.matmul(layer1, weights_2) + bias_2)\n",
    "\n",
    "cost = tf.reduce_mean(tf.reduce_sum(tf.pow(y-output, 2), 1))\n",
    "rank = tf.rank(cost)\n",
    "\n",
    "learning_rate = 0.000001\n",
    "beta1 = 0.5\n",
    "beta2 = 0.5\n",
    "optimizer = tf.train.AdamOptimizer(learning_rate=learning_rate, beta1=beta1, beta2=beta2)\n",
    "gradients, variables = zip(*optimizer.compute_gradients(cost))\n",
    "gradients, _ = tf.clip_by_global_norm(gradients, 5.0)\n",
    "train_op = optimizer.apply_gradients(zip(gradients, variables))\n",
    "    \n",
    "variable_dict = {'weights_1': weights_1, 'weights_2': weights_2,\n",
    "                     'bias_1': bias_1, 'bias_2': bias_2}\n",
    "saver = tf.train.Saver(variable_dict)\n",
    "init = tf.global_variables_initializer()\n",
    "\n",
    "ckpoint_dir = os.path.join(os.getcwd(), 'model-backups/model.ckpt')"
   ]
  },
  {
   "cell_type": "code",
   "execution_count": null,
   "metadata": {
    "collapsed": true
   },
   "outputs": [],
   "source": [
    "flatten = lambda l: [item for sublist in l for item in sublist]\n",
    "import requests\n",
    "import json\n",
    "\n",
    "def canIAnalyzeThisMatch(currentMatchID):\n",
    "    host = \"https://api.opendota.com/api/matches/\" + str(currentMatchID)\n",
    "    data = {'match_id': currentMatchID}\n",
    "    data = requests.get(host, data)\n",
    "    return data.status_code == 200\n",
    "\n",
    "def test(sess, test_data):\n",
    "    batch = test_data\n",
    "    data = batch.as_matrix()\n",
    "    data = data.astype(np.float32)\n",
    "    layer1 = tf.tanh(tf.matmul(data, weights_1) + bias_1)\n",
    "    output = tf.tanh(tf.matmul(layer1, weights_2) + bias_2)\n",
    "    residuals = tf.reduce_sum(tf.abs(output - tf.cast(data, tf.float32)), axis = 1)\n",
    "    output_results, residuals = sess.run([output, residuals])\n",
    "    indices = np.argsort(residuals)[::-1]\n",
    "    return data, output_results, indices, residuals"
   ]
  },
  {
   "cell_type": "code",
   "execution_count": null,
   "metadata": {
    "collapsed": false,
    "scrolled": true
   },
   "outputs": [],
   "source": [
    "def train():\n",
    "    numEpochs = 1000\n",
    "    numBatches = 1000\n",
    "    batchSize = int(round(0.01 * df_train.shape[0]))\n",
    "    for epochIter in xrange(numEpochs):\n",
    "        print 'Epoch: {0}'.format(epochIter)\n",
    "        gc.collect()\n",
    "        batch = df_train.sample(n=batchSize).as_matrix()\n",
    "        temp_out = sess.run(cost, feed_dict = {x: batch})\n",
    "        print temp_out\n",
    "        if (epochIter+1) % 50 == 0:\n",
    "            saver.save(sess, ckpoint_dir)\n",
    "        for batchItr in xrange(numBatches):\n",
    "            batch = df_train.sample(n=batchSize).as_matrix()\n",
    "            sess.run(train_op, feed_dict = {x : batch})\n",
    "\n",
    "with tf.Session() as sess:\n",
    "    if sess.run(rank) != 0:\n",
    "        raise Exception(\"Wrong dimenions of cost\")\n",
    "    if (trainFlag):\n",
    "        sess.run(init)\n",
    "        train()\n",
    "    else:\n",
    "        print 'Doing test'\n",
    "        saver.restore(sess, ckpoint_dir)\n",
    "        np.savetxt(\"data/weights1.csv\", weights_1.eval(), delimiter=\",\")\n",
    "        np.savetxt(\"data/bias1.csv\", bias_1.eval(), delimiter=\",\")\n",
    "        np.savetxt(\"data/weights2.csv\", weights_2.eval(), delimiter=\",\")\n",
    "        np.savetxt(\"data/bias2.csv\", bias_2.eval(), delimiter=\",\")\n",
    "        anomalies, output, indices_test, residuals = test(sess, df_test)\n",
    "        anomaliesSave = anomalies[indices_test, :]\n",
    "        output = output[indices_test, :]\n",
    "        print anomalies[0, 0:10]\n",
    "        print output[0, 0:10]\n",
    "        np.savetxt(\"data/anomalies.csv\", anomaliesSave, delimiter=\",\")\n",
    "        np.savetxt(\"data/output.csv\", output, delimiter=\",\")\n",
    "        np.savetxt('data/indices.csv', indices_test, delimiter = ',')\n",
    "        anomalizedAnalizable = match_ids_test.values\n",
    "        goodMatches = []\n",
    "        print len(anomalizedAnalizable)\n",
    "        for i in range(len(anomalizedAnalizable)):\n",
    "            an = anomalizedAnalizable[i]\n",
    "            residual = residuals[i]\n",
    "            goodMatches.append([int(an), residual])\n",
    "        np.savetxt('data/goodAnomaliesResidual.csv', np.array(goodMatches), delimiter = ',')"
   ]
  },
  {
   "cell_type": "code",
   "execution_count": null,
   "metadata": {
    "collapsed": false
   },
   "outputs": [],
   "source": [
    "print 'Done'\n",
    "print datetime.datetime.now()"
   ]
  },
  {
   "cell_type": "code",
   "execution_count": null,
   "metadata": {
    "collapsed": true
   },
   "outputs": [],
   "source": []
  }
 ],
 "metadata": {
  "kernelspec": {
   "display_name": "Python 2",
   "language": "python",
   "name": "python2"
  },
  "language_info": {
   "codemirror_mode": {
    "name": "ipython",
    "version": 2
   },
   "file_extension": ".py",
   "mimetype": "text/x-python",
   "name": "python",
   "nbconvert_exporter": "python",
   "pygments_lexer": "ipython2",
   "version": "2.7.12"
  }
 },
 "nbformat": 4,
 "nbformat_minor": 2
}
