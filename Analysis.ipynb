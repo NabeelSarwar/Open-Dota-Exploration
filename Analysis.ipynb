{
 "cells": [
  {
   "cell_type": "code",
   "execution_count": 31,
   "metadata": {
    "collapsed": false
   },
   "outputs": [],
   "source": [
    "import pandas\n",
    "import numpy as np\n",
    "import matplotlib.pyplot as plt\n",
    "from sklearn.feature_extraction import DictVectorizer\n",
    "from sklearn.preprocessing import OneHotEncoder\n",
    "import tensorflow as tf\n",
    "import glob\n",
    "import datetime\n",
    "import itertools"
   ]
  },
  {
   "cell_type": "code",
   "execution_count": 10,
   "metadata": {
    "collapsed": false
   },
   "outputs": [],
   "source": [
    "import os\n",
    "import os.path\n",
    "import gc"
   ]
  },
  {
   "cell_type": "code",
   "execution_count": 3,
   "metadata": {
    "collapsed": false
   },
   "outputs": [],
   "source": [
    "import argparse\n",
    "parser = argparse.ArgumentParser(description = \"Please insert the train flag\")"
   ]
  },
  {
   "cell_type": "code",
   "execution_count": 4,
   "metadata": {
    "collapsed": false
   },
   "outputs": [
    {
     "data": {
      "text/plain": [
       "_StoreAction(option_strings=['-t', '--train'], dest='train', nargs=None, const=None, default=None, type=None, choices=None, help='If true, we train and save. Else, otherwise.', metavar=None)"
      ]
     },
     "execution_count": 4,
     "metadata": {},
     "output_type": "execute_result"
    }
   ],
   "source": [
    "parser.add_argument('-t', '--train', action = \"store\",\n",
    "                    help='If true, we train and save. Else, otherwise.', required = True)"
   ]
  },
  {
   "cell_type": "code",
   "execution_count": 5,
   "metadata": {
    "collapsed": false
   },
   "outputs": [
    {
     "name": "stderr",
     "output_type": "stream",
     "text": [
      "usage: __main__.py [-h] -t TRAIN\n",
      "__main__.py: error: argument -t/--train is required\n"
     ]
    },
    {
     "ename": "SystemExit",
     "evalue": "2",
     "output_type": "error",
     "traceback": [
      "An exception has occurred, use %tb to see the full traceback.\n",
      "\u001b[0;31mSystemExit\u001b[0m\u001b[0;31m:\u001b[0m 2\n"
     ]
    },
    {
     "name": "stderr",
     "output_type": "stream",
     "text": [
      "/home/nabeel/miniconda2/lib/python2.7/site-packages/IPython/core/interactiveshell.py:2889: UserWarning: To exit: use 'exit', 'quit', or Ctrl-D.\n",
      "  warn(\"To exit: use 'exit', 'quit', or Ctrl-D.\", stacklevel=1)\n"
     ]
    }
   ],
   "source": [
    "my_args = vars(parser.parse_args())\n",
    "trainFlag = my_args['train']\n",
    "trainFlag = trainFlag.lower() in (\"True\", \"t\", \"true\", \"1\", 1)"
   ]
  },
  {
   "cell_type": "code",
   "execution_count": 11,
   "metadata": {
    "collapsed": false
   },
   "outputs": [
    {
     "name": "stdout",
     "output_type": "stream",
     "text": [
      "2017-04-11 20:27:02.710280\n",
      "Using this many files 999\n"
     ]
    }
   ],
   "source": [
    "print datetime.datetime.now()\n",
    "validFilePaths = []\n",
    "for f in os.listdir(\"data/anomaly_data\"):\n",
    "    filePath = os.path.join(\"data/anomaly_data\", f)\n",
    "    if os.path.isdir(filePath):\n",
    "        continue\n",
    "    if os.stat(filePath).st_size <= 3:\n",
    "        continue\n",
    "    validFilePaths.append(filePath)\n",
    "    \n",
    "numF = int(0.1 * len(validFilePaths))\n",
    "print 'Using this many files {0}'.format(numF)\n",
    "validFilePaths = np.random.choice(validFilePaths, numF, replace=False)\n",
    "df_list = (pandas.read_csv(f) for f in validFilePaths)\n",
    "df = pandas.concat(df_list, ignore_index=True)\n",
    "df = df[df['radiant_win'].notnull()]"
   ]
  },
  {
   "cell_type": "code",
   "execution_count": 12,
   "metadata": {
    "collapsed": false
   },
   "outputs": [
    {
     "name": "stdout",
     "output_type": "stream",
     "text": [
      "(32191, 331)\n"
     ]
    }
   ],
   "source": [
    "print df.shape\n",
    "columns = df.columns\n",
    "df_catInteger_features_example = filter(lambda x: 'hero_id' in x, columns)"
   ]
  },
  {
   "cell_type": "code",
   "execution_count": 34,
   "metadata": {
    "collapsed": false
   },
   "outputs": [],
   "source": [
    "from itertools import chain\n",
    "# these will require string processing on the column names to work\n",
    "numericalFeatures = ['match_id', 'positive_votes', 'negative_votes', 'first_blood_time', 'radiant_win',\n",
    "                    'duration', 'kills', 'deaths', 'assists', 'apm', 'kpm', 'kda', 'hero_dmg',\n",
    "                    'gpm', 'hero_heal', 'xpm', 'totalgold', 'totalxp', 'lasthits', 'denies',\n",
    "                    'tower_kills', 'courier_kills', 'gold_spent', 'observer_uses', 'sentry_uses',\n",
    "                    'ancient_kills', 'neutral_kills', 'camps_stacked', 'pings', 'rune_pickups']\n",
    "categoricalIntegerFeatures = ['barracks_status', 'tower_status', 'hero_id'] \n",
    "                              #'item0', 'item1', 'item2', 'item3', 'item4', 'item5']\n",
    "categoricalFullFeatures = ['patch']\n",
    "numFeatures = [filter(lambda x: z in x, columns) for z in numericalFeatures]\n",
    "categoricalIntegerFeatures  = [filter(lambda x: z in x, columns) for z in categoricalIntegerFeatures]\n",
    "catFull = [filter(lambda x: z in x, columns) for z in categoricalFullFeatures]\n",
    "numFeatures = list(chain(*numFeatures))\n",
    "categoricalIntegerFeatures = list(chain(*categoricalIntegerFeatures))\n",
    "catFull = list(chain(*catFull))"
   ]
  },
  {
   "cell_type": "code",
   "execution_count": 58,
   "metadata": {
    "collapsed": false
   },
   "outputs": [
    {
     "name": "stdout",
     "output_type": "stream",
     "text": [
      "  (0, 5529)\t1.0\n",
      "  (1, 5602)\t1.0\n",
      "  (3, 7842)\t1.0\n",
      "  (5, 7943)\t1.0\n",
      "  (7, 5603)\t1.0\n",
      "  (9, 7953)\t1.0\n",
      "  (10, 8017)\t1.0\n",
      "  (11, 7953)\t1.0\n",
      "  (12, 5426)\t1.0\n",
      "  (14, 5531)\t1.0\n",
      "  (15, 8017)\t1.0\n",
      "  (16, 7945)\t1.0\n",
      "  (17, 7953)\t1.0\n",
      "  (19, 7831)\t1.0\n",
      "  (20, 7945)\t1.0\n",
      "  (22, 7840)\t1.0\n",
      "  (23, 5515)\t1.0\n",
      "  (24, 7846)\t1.0\n",
      "  (25, 7954)\t1.0\n",
      "  (26, 5603)\t1.0\n",
      "  (27, 4855)\t1.0\n",
      "  (28, 5594)\t1.0\n",
      "  (29, 7831)\t1.0\n",
      "  (30, 7831)\t1.0\n",
      "  (31, 7945)\t1.0\n",
      "  :\t:\n",
      "  (32161, 5539)\t1.0\n",
      "  (32163, 5529)\t1.0\n",
      "  (32164, 5417)\t1.0\n",
      "  (32165, 5428)\t1.0\n",
      "  (32166, 5539)\t1.0\n",
      "  (32167, 7840)\t1.0\n",
      "  (32168, 7943)\t1.0\n",
      "  (32169, 5578)\t1.0\n",
      "  (32171, 7831)\t1.0\n",
      "  (32172, 7954)\t1.0\n",
      "  (32173, 5531)\t1.0\n",
      "  (32174, 5595)\t1.0\n",
      "  (32176, 5515)\t1.0\n",
      "  (32177, 7842)\t1.0\n",
      "  (32178, 5529)\t1.0\n",
      "  (32179, 7953)\t1.0\n",
      "  (32180, 7840)\t1.0\n",
      "  (32181, 5531)\t1.0\n",
      "  (32182, 7954)\t1.0\n",
      "  (32183, 7943)\t1.0\n",
      "  (32185, 7954)\t1.0\n",
      "  (32186, 5428)\t1.0\n",
      "  (32187, 5595)\t1.0\n",
      "  (32188, 7848)\t1.0\n",
      "  (32190, 7953)\t1.0\n"
     ]
    }
   ],
   "source": [
    "df_numerical = df[numFeatures]\n",
    "df_numerical.loc[:, 'radiant_win'] = df_numerical.loc[:, 'radiant_win'].apply(lambda x : int(x))\n",
    "df_cat_num = df[categoricalIntegerFeatures]\n",
    "df_cat = df[catFull]\n",
    "\n",
    "#scipy sparse\n",
    "vectorizer = DictVectorizer(sparse = True)\n",
    "df_cat = vectorizer.fit_transform(df_cat.fillna('NA').to_dict(orient=\"records\"))\n",
    "\n",
    "#scipy sparse\n",
    "# need to make sure that the categorical columns see all fields during training\n",
    "enc = OneHotEncoder(sparse = True)\n",
    "fitMatrix = dict.fromkeys(categoricalIntegerFeatures)\n",
    "heroColumns = [filter(lambda x: z in x, columns) for z in categoricalIntegerFeatures]\n",
    "barrackColumns = [filter(lambda x: z in x, columns) for z in categoricalIntegerFeatures]\n",
    "towerColumns = [filter(lambda x: z in x, columns) for z in categoricalIntegerFeatures]\n",
    "heroesAllCategories = list(set(range(1, 115) + [i[0] for i in \\\n",
    "                            reduce(lambda x, y: x+y, [df_cat_num[i].values for i in heroColumns])]))\n",
    "barrackAllCategories = list(set([i[0] for i in reduce(lambda x, y: x+y, [df_cat_num[i].values for i in barrackColumns])]))\n",
    "towerAllCategories = list(set([i[0] for i in reduce(lambda x, y: x+y, [df_cat_num[i].values for i in towerColumns])]))\n",
    "towerAllCategories =list(itertools.chain.from_iterable(itertools.repeat(towerAllCategories, \\\n",
    "                            1+len(heroesAllCategories)/len(towerAllCategories))))[:len(heroesAllCategories)]\n",
    "barrackAllCategories=list(itertools.chain.from_iterable(itertools.repeat(barrackAllCategories, \\\n",
    "                            1+len(heroesAllCategories)/len(barrackAllCategories))))[:len(heroesAllCategories)]\n",
    "\n",
    "for column in heroColumns:\n",
    "    fitMatrix[column[0]] = heroesAllCategories\n",
    "for column in towerColumns:\n",
    "    fitMatrix[column[0]] = towerAllCategories\n",
    "for column in barrackColumns:\n",
    "    fitMatrix[column[0]] = barrackAllCategories\n",
    "enc.fit(pandas.DataFrame.from_dict(fitMatrix))\n",
    "df_cat_num = enc.transform(df_cat_num)"
   ]
  },
  {
   "cell_type": "code",
   "execution_count": null,
   "metadata": {
    "collapsed": false
   },
   "outputs": [],
   "source": [
    "from scipy.sparse import coo_matrix, hstack\n",
    "\n",
    "df_cat_num = coo_matrix(df_cat_num)\n",
    "df_cat = coo_matrix(df_cat)\n",
    "df = hstack([df_cat_num, df_numerical])"
   ]
  },
  {
   "cell_type": "code",
   "execution_count": null,
   "metadata": {
    "collapsed": false
   },
   "outputs": [],
   "source": [
    "# df = pandas.concat([df_numerical, df_cat, df_cat_num], ignore_index=True)"
   ]
  },
  {
   "cell_type": "code",
   "execution_count": null,
   "metadata": {
    "collapsed": false
   },
   "outputs": [],
   "source": [
    "np.random.seed(1)\n",
    "x = np.random.rand(df.shape[0])\n",
    "mask = np.where(x < 0.7)[0]\n",
    "mask1 = np.where(np.logical_and(x >= 0.7, x < 0.9))[0] \n",
    "mask2 = np.where(x >= 0.9)[0]"
   ]
  },
  {
   "cell_type": "code",
   "execution_count": null,
   "metadata": {
    "collapsed": false
   },
   "outputs": [],
   "source": [
    "df_train = df.tocsr()[mask, :]\n",
    "df_validation = df.tocsr()[mask1, :]\n",
    "df_test = df.tocsr()[mask2, :]"
   ]
  },
  {
   "cell_type": "code",
   "execution_count": null,
   "metadata": {
    "collapsed": false
   },
   "outputs": [],
   "source": [
    "NumFeatures = df.shape[1]\n",
    "layer_size = [10, 10, NumFeatures]\n",
    "learning_rate = 0.1"
   ]
  },
  {
   "cell_type": "code",
   "execution_count": null,
   "metadata": {
    "collapsed": false
   },
   "outputs": [],
   "source": [
    "x = tf.placeholder(tf.float32, [None, NumFeatures])\n",
    "y = x\n",
    "#encoders\n",
    "weights_1 = tf.Variable(tf.random_normal([NumFeatures, layer_size[0]]), name='weights_1')\n",
    "bias_1 = tf.Variable(tf.random_normal([layer_size[0]]), name='bias_1')\n",
    "weights_2 = tf.Variable(tf.random_normal([layer_size[0], layer_size[1]]), name='weights_2')\n",
    "bias_2 = tf.Variable(tf.random_normal([layer_size[1]]), name='bias_2')\n",
    "    \n",
    "#decoders\n",
    "weights_3 = tf.Variable(tf.random_normal([layer_size[1], layer_size[2]]), name='weights_3')\n",
    "bias_3 = tf.Variable(tf.random_normal([layer_size[2]]), name='bias_3')\n",
    "weights_4 = tf.Variable(tf.random_normal([layer_size[2], NumFeatures]), name='weights_4')\n",
    "bias_4 = tf.Variable(tf.random_normal([NumFeatures]), name='bias_4')\n",
    "    \n",
    "layer1 = tf.nn.relu(tf.matmul(x, weights_1, a_is_sparse=True) + bias_1)\n",
    "layer2 = tf.nn.relu(tf.matmul(layer1, weights_2, a_is_sparse=True, b_is_sparse=True) + bias_2)\n",
    "layer3 = tf.nn.relu(tf.matmul(layer2, weights_3, a_is_sparse=True, b_is_sparse=True) + bias_3)\n",
    "output = tf.nn.relu(tf.matmul(layer3, weights_4, a_is_sparse=True, b_is_sparse=True) + bias_4)\n",
    "    \n",
    "cost = tf.reduce_mean(tf.reduce_sum(tf.pow(y-output, 2), 1))\n",
    "rank = tf.rank(cost)\n",
    "\n",
    "momentum = 0.5\n",
    "optimizer = tf.train.MomentumOptimizer(learning_rate, momentum).minimize(cost)\n",
    "    \n",
    "variable_dict = {'weights_1': weights_1, 'weights_2': weights_2, 'weights_3': weights_3, 'weights_4': weights_4,\n",
    "                     'bias_1': bias_1, 'bias_2': bias_2, 'bias_3': bias_3, 'bias_4': bias_4}\n",
    "saver = tf.train.Saver(variable_dict)\n",
    "init = tf.global_variables_initializer()\n",
    "\n",
    "ckpoint_dir = os.path.join(os.getcwd(), 'model-backups/model.ckpt')"
   ]
  },
  {
   "cell_type": "code",
   "execution_count": null,
   "metadata": {
    "collapsed": true
   },
   "outputs": [],
   "source": [
    "def test(test_data):\n",
    "    batch = test_data[indices, :].tolil()\n",
    "    ind = [[[i, batch.rows[i][j]] for j in range(len(batch.rows[i]))] for i in range(batch.shape[0])]\n",
    "    ind = flatten(ind)\n",
    "    dat = np.nan_to_num(flatten(batch.data))\n",
    "    batch = tf.sparse_to_dense(ind, [batch.shape[0], batch.shape[1]], dat)\n",
    "    data = batch.eval()\n",
    "    layer1 = tf.nn.relu(tf.matmul(data, weights_1, a_is_sparse=True) + bias_1)\n",
    "    layer2 = tf.nn.relu(tf.matmul(layer1, weights_2, a_is_sparse=True, b_is_sparse=True) + bias_2)\n",
    "    layer3 = tf.nn.relu(tf.matmul(layer2, weights_3, a_is_sparse=True, b_is_sparse=True) + bias_3)\n",
    "    output = tf.nn.relu(tf.matmul(layer3, weights_4, a_is_sparse=True, b_is_sparse=True) + bias_4)"
   ]
  },
  {
   "cell_type": "code",
   "execution_count": null,
   "metadata": {
    "collapsed": false
   },
   "outputs": [],
   "source": [
    "def train():\n",
    "    numEpochs = 1000\n",
    "    numBatches = 100\n",
    "    batchSize = int(round(0.001 * df_train.shape[0]))\n",
    "    flatten = lambda l: [item for sublist in l for item in sublist]\n",
    "    for epochIter in xrange(numEpochs):\n",
    "        print 'Epoch: {0}'.format(epochIter)\n",
    "        gc.collect()\n",
    "        if epochIter % 100 == 0:\n",
    "            saver.save(sess, ckpoint_dir)\n",
    "        for batchItr in xrange(numBatches):\n",
    "            indices = np.random.choice(range(df_train.shape[0]), batchSize, replace=False)\n",
    "            batch = df_train[indices, :].tolil()\n",
    "            ind = [[[i, batch.rows[i][j]] for j in range(len(batch.rows[i]))] for i in range(batch.shape[0])]\n",
    "            ind = flatten(ind)\n",
    "            dat = np.nan_to_num(flatten(batch.data))\n",
    "            batch = tf.sparse_to_dense(ind, [batch.shape[0], batch.shape[1]], dat)\n",
    "            batch = batch.eval()\n",
    "            sess.run(optimizer, feed_dict = {x : batch})\n",
    "\n",
    "with tf.Session() as sess:\n",
    "    if sess.run(rank) != 0:\n",
    "        raise Exception(\"Wrong dimenions of cost\")\n",
    "    if (trainFlag):\n",
    "        sess.run(init)\n",
    "        train()\n",
    "    else:\n",
    "        saver.restore(sess, ckpoint_dir)"
   ]
  },
  {
   "cell_type": "code",
   "execution_count": null,
   "metadata": {
    "collapsed": false
   },
   "outputs": [],
   "source": [
    "print 'Done'\n",
    "print datetime.datetime.now()"
   ]
  }
 ],
 "metadata": {
  "kernelspec": {
   "display_name": "Python 2",
   "language": "python",
   "name": "python2"
  },
  "language_info": {
   "codemirror_mode": {
    "name": "ipython",
    "version": 2
   },
   "file_extension": ".py",
   "mimetype": "text/x-python",
   "name": "python",
   "nbconvert_exporter": "python",
   "pygments_lexer": "ipython2",
   "version": "2.7.9"
  }
 },
 "nbformat": 4,
 "nbformat_minor": 2
}
