{
 "cells": [
  {
   "cell_type": "code",
   "execution_count": 1,
   "metadata": {
    "collapsed": false
   },
   "outputs": [],
   "source": [
    "import pandas\n",
    "import numpy as np\n",
    "import matplotlib.pyplot as plt\n",
    "from sklearn.feature_extraction import DictVectorizer\n",
    "from sklearn.preprocessing import OneHotEncoder\n",
    "import tensorflow as tf\n",
    "import glob\n",
    "import datetime\n",
    "import itertools\n",
    "from time import sleep"
   ]
  },
  {
   "cell_type": "code",
   "execution_count": 2,
   "metadata": {
    "collapsed": true
   },
   "outputs": [],
   "source": [
    "np.random.seed(1)"
   ]
  },
  {
   "cell_type": "code",
   "execution_count": 3,
   "metadata": {
    "collapsed": false
   },
   "outputs": [],
   "source": [
    "import os\n",
    "import os.path\n",
    "import gc"
   ]
  },
  {
   "cell_type": "code",
   "execution_count": 4,
   "metadata": {
    "collapsed": false
   },
   "outputs": [],
   "source": [
    "import argparse\n",
    "parser = argparse.ArgumentParser(description = \"Please insert the train flag\")"
   ]
  },
  {
   "cell_type": "code",
   "execution_count": 5,
   "metadata": {
    "collapsed": false
   },
   "outputs": [
    {
     "data": {
      "text/plain": [
       "_StoreAction(option_strings=['-t', '--train'], dest='train', nargs=None, const=None, default=None, type=None, choices=None, help='If true, we train and save. Else, otherwise.', metavar=None)"
      ]
     },
     "execution_count": 5,
     "metadata": {},
     "output_type": "execute_result"
    }
   ],
   "source": [
    "parser.add_argument('-t', '--train', action = \"store\",\n",
    "                    help='If true, we train and save. Else, otherwise.', required = True)"
   ]
  },
  {
   "cell_type": "code",
   "execution_count": 6,
   "metadata": {
    "collapsed": false
   },
   "outputs": [
    {
     "name": "stderr",
     "output_type": "stream",
     "text": [
      "usage: __main__.py [-h] -t TRAIN\n",
      "__main__.py: error: argument -t/--train is required\n"
     ]
    },
    {
     "ename": "SystemExit",
     "evalue": "2",
     "output_type": "error",
     "traceback": [
      "An exception has occurred, use %tb to see the full traceback.\n",
      "\u001b[0;31mSystemExit\u001b[0m\u001b[0;31m:\u001b[0m 2\n"
     ]
    },
    {
     "name": "stderr",
     "output_type": "stream",
     "text": [
      "/home/nabeel/miniconda2/lib/python2.7/site-packages/IPython/core/interactiveshell.py:2889: UserWarning: To exit: use 'exit', 'quit', or Ctrl-D.\n",
      "  warn(\"To exit: use 'exit', 'quit', or Ctrl-D.\", stacklevel=1)\n"
     ]
    }
   ],
   "source": [
    "my_args = vars(parser.parse_args())\n",
    "trainFlag = my_args['train']\n",
    "trainFlag = trainFlag.lower() in (\"True\", \"t\", \"true\", \"1\", 1)"
   ]
  },
  {
   "cell_type": "code",
   "execution_count": null,
   "metadata": {
    "collapsed": false
   },
   "outputs": [
    {
     "name": "stdout",
     "output_type": "stream",
     "text": [
      "2017-05-18 19:17:41.413300\n",
      "Using this many files 995\n"
     ]
    }
   ],
   "source": [
    "print datetime.datetime.now()\n",
    "validFilePaths = []\n",
    "for f in os.listdir(\"data/anomaly_data\"):\n",
    "    filePath = os.path.join(\"data/anomaly_data\", f)\n",
    "    if os.path.isdir(filePath):\n",
    "        continue\n",
    "    if os.stat(filePath).st_size <= 3:\n",
    "        continue\n",
    "    validFilePaths.append(filePath)\n",
    "    \n",
    "numF = int(0.1 * len(validFilePaths))\n",
    "print 'Using this many files {0}'.format(numF)\n",
    "validFilePaths = np.random.choice(validFilePaths, numF, replace=False)\n",
    "df_list = (pandas.read_csv(f) for f in validFilePaths)\n",
    "df = pandas.concat(df_list, ignore_index=True)\n",
    "df = df[df['radiant_win'].notnull()]"
   ]
  },
  {
   "cell_type": "code",
   "execution_count": null,
   "metadata": {
    "collapsed": false
   },
   "outputs": [],
   "source": [
    "print df.shape\n",
    "columns = df.columns\n",
    "df_catInteger_features_example = filter(lambda x: 'hero_id' in x, columns)"
   ]
  },
  {
   "cell_type": "code",
   "execution_count": null,
   "metadata": {
    "collapsed": false
   },
   "outputs": [],
   "source": [
    "from itertools import chain\n",
    "# these will require string processing on the column names to work\n",
    "numericalFeatures = ['match_id', 'positive_votes', 'negative_votes', 'first_blood_time', 'radiant_win',\n",
    "                    'duration', 'kills', 'deaths', 'assists', 'apm', 'kpm', 'kda', 'hero_dmg',\n",
    "                    'gpm', 'hero_heal', 'xpm', 'totalgold', 'totalxp', 'lasthits', 'denies',\n",
    "                    'tower_kills', 'courier_kills', 'gold_spent', 'observer_uses', 'sentry_uses',\n",
    "                    'ancient_kills', 'neutral_kills', 'camps_stacked', 'pings', 'rune_pickups']\n",
    "categoricalIntegerFeatures = ['barracks_status', 'tower_status', 'hero_id'] \n",
    "                              #'item0', 'item1', 'item2', 'item3', 'item4', 'item5']\n",
    "categoricalFullFeatures = ['patch']\n",
    "numFeatures = [filter(lambda x: z in x, columns) for z in numericalFeatures]\n",
    "categoricalIntegerFeatures  = [filter(lambda x: z in x, columns) for z in categoricalIntegerFeatures]\n",
    "catFull = [filter(lambda x: z in x, columns) for z in categoricalFullFeatures]\n",
    "numFeatures = list(chain(*numFeatures))\n",
    "categoricalIntegerFeatures = list(chain(*categoricalIntegerFeatures))\n",
    "catFull = list(chain(*catFull))"
   ]
  },
  {
   "cell_type": "code",
   "execution_count": null,
   "metadata": {
    "collapsed": false
   },
   "outputs": [],
   "source": [
    "df_numerical = df[numFeatures]\n",
    "df_numerical.loc[:, 'radiant_win'] = df_numerical.loc[:, 'radiant_win'].apply(lambda x : int(x))\n",
    "df_cat_num = df[categoricalIntegerFeatures]\n",
    "df_cat = df[catFull]\n",
    "\n",
    "#scipy sparse\n",
    "vectorizer = DictVectorizer(sparse = True)\n",
    "df_cat = vectorizer.fit_transform(df_cat.fillna('NA').to_dict(orient=\"records\"))\n",
    "\n",
    "#scipy sparse\n",
    "# need to make sure that the categorical columns see all fields during training\n",
    "enc = OneHotEncoder(sparse = True)\n",
    "fitMatrix = dict.fromkeys(map(lambda x: unicode(x), categoricalIntegerFeatures))\n",
    "\n",
    "towerColumns = [filter(lambda x: z in x, columns) for z in ['tower_status']]\n",
    "towerAllCategories = list(set(reduce(lambda x, y: x+y, [df_cat_num[i].values.tolist() for i in towerColumns[0]])))\n",
    "\n",
    "\n",
    "heroColumns = [filter(lambda x: z in x, columns) for z in ['hero_id']]\n",
    "heroesAllCategories = list(set(range(1, 115) \\\n",
    "                        + reduce(lambda x, y: x+y, [df_cat_num[i].values.tolist() for i in heroColumns[0]])))\n",
    "heroesAllCategories = list(itertools.chain.from_iterable(itertools.repeat(heroesAllCategories, \\\n",
    "                            1+len(towerAllCategories)/len(heroesAllCategories))))[:len(towerAllCategories)]\n",
    "\n",
    "barrackColumns = [filter(lambda x: z in x, columns) for z in ['barracks_status']]\n",
    "barrackAllCategories = list(set(reduce(lambda x, y: x+y, [df_cat_num[i].values.tolist() for i in barrackColumns[0]])))\n",
    "barrackAllCategories = list(itertools.chain.from_iterable(itertools.repeat(barrackAllCategories, \\\n",
    "                            1+len(towerAllCategories)/len(barrackAllCategories))))[:len(towerAllCategories)]\n",
    "\n",
    "\n",
    "\n",
    "\n",
    "for column in heroColumns[0]:\n",
    "    fitMatrix[column] = heroesAllCategories\n",
    "for column in towerColumns[0]:\n",
    "    fitMatrix[column] = towerAllCategories\n",
    "for column in barrackColumns[0]:\n",
    "    fitMatrix[column] = barrackAllCategories\n",
    "\n",
    "fitMatrix = pandas.DataFrame.from_dict(fitMatrix)\n",
    "# order of columns matters\n",
    "fitMatrix = fitMatrix[df_cat_num.columns.values.tolist()]\n",
    "enc.fit(fitMatrix)\n",
    "df_cat_num = enc.transform(df_cat_num)"
   ]
  },
  {
   "cell_type": "code",
   "execution_count": null,
   "metadata": {
    "collapsed": false
   },
   "outputs": [],
   "source": [
    "from scipy.sparse import coo_matrix, hstack\n",
    "\n",
    "df_cat_num = coo_matrix(df_cat_num)\n",
    "df_cat = coo_matrix(df_cat)\n",
    "df = hstack([df_numerical, df_cat_num])"
   ]
  },
  {
   "cell_type": "code",
   "execution_count": null,
   "metadata": {
    "collapsed": false
   },
   "outputs": [],
   "source": [
    "df.shape"
   ]
  },
  {
   "cell_type": "code",
   "execution_count": null,
   "metadata": {
    "collapsed": false
   },
   "outputs": [],
   "source": [
    "# df = pandas.concat([df_numerical, df_cat, df_cat_num], ignore_index=True)"
   ]
  },
  {
   "cell_type": "code",
   "execution_count": null,
   "metadata": {
    "collapsed": false
   },
   "outputs": [],
   "source": [
    "x = np.random.rand(df.shape[0])\n",
    "mask = np.where(x < 0.7)[0]\n",
    "mask1 = np.where(np.logical_and(x >= 0.7, x < 0.9))[0] \n",
    "mask2 = np.where(x >= 0.9)[0]"
   ]
  },
  {
   "cell_type": "code",
   "execution_count": null,
   "metadata": {
    "collapsed": false
   },
   "outputs": [],
   "source": [
    "df_train = df.tocsr()[mask, :]\n",
    "df_validation = df.tocsr()[mask1, :]\n",
    "df_test = df.tocsr()[mask2, :]"
   ]
  },
  {
   "cell_type": "code",
   "execution_count": null,
   "metadata": {
    "collapsed": false
   },
   "outputs": [],
   "source": [
    "NumFeatures = df.shape[1]\n",
    "layer_size = [10, 10, NumFeatures]\n",
    "learning_rate = 0.1"
   ]
  },
  {
   "cell_type": "code",
   "execution_count": null,
   "metadata": {
    "collapsed": false
   },
   "outputs": [],
   "source": [
    "print NumFeatures"
   ]
  },
  {
   "cell_type": "code",
   "execution_count": null,
   "metadata": {
    "collapsed": false
   },
   "outputs": [],
   "source": [
    "print df_train.shape"
   ]
  },
  {
   "cell_type": "code",
   "execution_count": null,
   "metadata": {
    "collapsed": false
   },
   "outputs": [],
   "source": [
    "x = tf.placeholder(tf.float32, [None, NumFeatures])\n",
    "y = x\n",
    "#encoders\n",
    "weights_1 = tf.Variable(tf.random_normal([NumFeatures, layer_size[0]]), name='weights_1')\n",
    "bias_1 = tf.Variable(tf.random_normal([layer_size[0]]), name='bias_1')\n",
    "weights_2 = tf.Variable(tf.random_normal([layer_size[0], layer_size[1]]), name='weights_2')\n",
    "bias_2 = tf.Variable(tf.random_normal([layer_size[1]]), name='bias_2')\n",
    "    \n",
    "#decoders\n",
    "weights_3 = tf.Variable(tf.random_normal([layer_size[1], layer_size[2]]), name='weights_3')\n",
    "bias_3 = tf.Variable(tf.random_normal([layer_size[2]]), name='bias_3')\n",
    "  \n",
    "layer1 = tf.nn.relu(tf.matmul(x, weights_1, a_is_sparse=True) + bias_1)\n",
    "layer2 = tf.nn.relu(tf.matmul(layer1, weights_2, a_is_sparse=True, b_is_sparse=True) + bias_2)\n",
    "output = tf.nn.relu(tf.matmul(layer2, weights_3, a_is_sparse=True, b_is_sparse=True) + bias_3)\n",
    "    \n",
    "cost = tf.reduce_mean(tf.reduce_sum(tf.pow(y[:, 1:y.shape[1].value]-output[:, 1:y.shape[1].value], 2), 1))\n",
    "rank = tf.rank(cost)\n",
    "\n",
    "momentum = 0.5\n",
    "optimizer = tf.train.MomentumOptimizer(learning_rate, momentum).minimize(cost)\n",
    "    \n",
    "variable_dict = {'weights_1': weights_1, 'weights_2': weights_2, 'weights_3': weights_3,\n",
    "                     'bias_1': bias_1, 'bias_2': bias_2, 'bias_3': bias_3}\n",
    "saver = tf.train.Saver(variable_dict)\n",
    "init = tf.global_variables_initializer()\n",
    "\n",
    "ckpoint_dir = os.path.join(os.getcwd(), 'model-backups/model.ckpt')"
   ]
  },
  {
   "cell_type": "code",
   "execution_count": null,
   "metadata": {
    "collapsed": true
   },
   "outputs": [],
   "source": [
    "flatten = lambda l: [item for sublist in l for item in sublist]\n",
    "import requests\n",
    "import json\n",
    "\n",
    "def canIAnalyzeThisMatch(currentMatchID):\n",
    "    host = \"https://api.opendota.com/api/matches/\" + str(currentMatchID)\n",
    "    data = {'match_id': currentMatchID}\n",
    "    data = requests.get(host, data)\n",
    "    return data.status_code == 200\n",
    "\n",
    "    \n",
    "def test(sess, test_data):\n",
    "    batch = test_data.tolil()\n",
    "    ind = [[[i, batch.rows[i][j]] for j in range(len(batch.rows[i]))] for i in range(batch.shape[0])]\n",
    "    ind = flatten(ind)\n",
    "    dat = np.nan_to_num(flatten(batch.data))\n",
    "    batch = tf.sparse_to_dense(ind, [batch.shape[0], batch.shape[1]], dat)\n",
    "    data = batch.eval()\n",
    "    data = data.astype(np.float32)\n",
    "    layer1 = tf.nn.relu(tf.matmul(data, weights_1, a_is_sparse=True) + bias_1)\n",
    "    layer2 = tf.nn.relu(tf.matmul(layer1, weights_2, a_is_sparse=True, b_is_sparse=True) + bias_2)\n",
    "    output = tf.nn.relu(tf.matmul(layer2, weights_3, a_is_sparse=True, b_is_sparse=True) + bias_3)\n",
    "    residuals = tf.reduce_sum(tf.abs(output[:, 1:output.shape[1].value] - tf.cast(batch[:, 1:output.shape[1].value], \n",
    "                                                                                tf.float32)), axis = 1)\n",
    "    residuals = sess.run(residuals)\n",
    "    indices = np.argsort(residuals)[::-1]\n",
    "    return data, output, indices, residuals"
   ]
  },
  {
   "cell_type": "code",
   "execution_count": null,
   "metadata": {
    "collapsed": false
   },
   "outputs": [],
   "source": [
    "trainFlag = True\n",
    "def train():\n",
    "    numEpochs = 1000\n",
    "    numBatches = 100\n",
    "    batchSize = int(round(0.001 * df_train.shape[0]))\n",
    "    for epochIter in xrange(numEpochs):\n",
    "        print 'Epoch: {0}'.format(epochIter)\n",
    "        gc.collect()\n",
    "        if epochIter % 100 == 0:\n",
    "            saver.save(sess, ckpoint_dir)\n",
    "        for batchItr in xrange(numBatches):\n",
    "            indices = np.random.choice(range(df_train.shape[0]), batchSize, replace=False)\n",
    "            batch = df_train[indices, :].tolil()\n",
    "            ind = [[[i, batch.rows[i][j]] for j in range(len(batch.rows[i]))] for i in range(batch.shape[0])]\n",
    "            ind = flatten(ind)\n",
    "            dat = np.nan_to_num(flatten(batch.data))\n",
    "            batch = tf.sparse_to_dense(ind, [batch.shape[0], batch.shape[1]], dat)\n",
    "            batch = batch.eval()\n",
    "            sess.run(optimizer, feed_dict = {x : batch})\n",
    "\n",
    "\n",
    "with tf.Session() as sess:\n",
    "    if sess.run(rank) != 0:\n",
    "        raise Exception(\"Wrong dimenions of cost\")\n",
    "    if (trainFlag):\n",
    "        sess.run(init)\n",
    "        train()\n",
    "    else:\n",
    "        print 'Doing test'\n",
    "        saver.restore(sess, ckpoint_dir)\n",
    "        np.savetxt(\"data/weights1.csv\", weights_1.eval(), delimiter=\",\")\n",
    "        np.savetxt(\"data/bias1.csv\", bias_1.eval(), delimiter=\",\")\n",
    "        print \"BarrackColumns\"\n",
    "        print barrackColumns\n",
    "        print \"tower Columns\"\n",
    "        print towerColumns\n",
    "        print \"Hero Columns\"\n",
    "        print heroColumns\n",
    "        anomalies, output, indices_test, residuals = test(sess, df_test)\n",
    "        output = output.eval()\n",
    "        anomaliesSave = anomalies[indices_test[0:10], :]\n",
    "        output = output[indices_test[0:10], :]\n",
    "        print anomalies[0, 0:10]\n",
    "        print output[0, 0:10]\n",
    "        np.savetxt(\"data/anomalies.csv\", anomaliesSave, delimiter=\",\")\n",
    "        np.savetxt(\"data/output.csv\", output, delimiter=\",\")\n",
    "        np.savetxt('data/indices.csv', indices_test, delimiter = ',')\n",
    "        anomalizedAnalizable = anomalies[:, 0]\n",
    "        goodMatches = []\n",
    "        print len(anomalizedAnalizable)\n",
    "        for i in range(len(anomalizedAnalizable)):\n",
    "            an = anomalizedAnalizable[i]\n",
    "            residual = residuals[i]\n",
    "            sleep(1)\n",
    "            if canIAnalyzeThisMatch(int(an)):\n",
    "                print '{0:.10f}'.format(an)\n",
    "                goodMatches.append([int(an), residual])\n",
    "        np.savetxt('data/goodAnomaliesResidual.csv', np.array(goodMatches), delimiter = ',')"
   ]
  },
  {
   "cell_type": "code",
   "execution_count": null,
   "metadata": {
    "collapsed": false
   },
   "outputs": [],
   "source": [
    "print 'Done'\n",
    "print datetime.datetime.now()"
   ]
  },
  {
   "cell_type": "code",
   "execution_count": null,
   "metadata": {
    "collapsed": true
   },
   "outputs": [],
   "source": []
  }
 ],
 "metadata": {
  "kernelspec": {
   "display_name": "Python 2",
   "language": "python",
   "name": "python2"
  },
  "language_info": {
   "codemirror_mode": {
    "name": "ipython",
    "version": 2
   },
   "file_extension": ".py",
   "mimetype": "text/x-python",
   "name": "python",
   "nbconvert_exporter": "python",
   "pygments_lexer": "ipython2",
   "version": "2.7.12"
  }
 },
 "nbformat": 4,
 "nbformat_minor": 2
}
