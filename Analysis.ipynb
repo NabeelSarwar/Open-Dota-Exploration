{
 "cells": [
  {
   "cell_type": "code",
   "execution_count": 10,
   "metadata": {
    "collapsed": false
   },
   "outputs": [],
   "source": [
    "import pandas\n",
    "import numpy as np\n",
    "import matplotlib.pyplot as plt\n",
    "from sklearn.feature_extraction import DictVectorizer\n",
    "%matplotlib inline\n",
    "import tensorflow as tf"
   ]
  },
  {
   "cell_type": "code",
   "execution_count": 4,
   "metadata": {
    "collapsed": true
   },
   "outputs": [],
   "source": [
    "import os\n",
    "import os.path"
   ]
  },
  {
   "cell_type": "code",
   "execution_count": 5,
   "metadata": {
    "collapsed": false
   },
   "outputs": [],
   "source": [
    "validFilePaths = []\n",
    "for f in os.listdir(\"data/anomaly_data\"):\n",
    "    filePath = os.path.join(\"data/anomaly_data\", f)\n",
    "    if os.path.isdir(filePath):\n",
    "        continue\n",
    "    if os.stat(filePath).st_size <= 3:\n",
    "        continue\n",
    "    validFilePaths.append(filePath)"
   ]
  },
  {
   "cell_type": "code",
   "execution_count": 6,
   "metadata": {
    "collapsed": false
   },
   "outputs": [],
   "source": [
    "df = pandas.concat([pandas.read_csv(e) for e in validFilePaths])\n",
    "df.columns"
   ]
  },
  {
   "cell_type": "code",
   "execution_count": null,
   "metadata": {
    "collapsed": true
   },
   "outputs": [],
   "source": [
    "# these will require string processing on the column names to work\n",
    "numericalFeatures = []\n",
    "categoricalIntegerFeatures = []\n",
    "categoricalFullFeatures = []"
   ]
  },
  {
   "cell_type": "code",
   "execution_count": null,
   "metadata": {
    "collapsed": true
   },
   "outputs": [],
   "source": [
    "df_numerical = df[numericalFeatures]\n",
    "df_cat_num = df[categoricalIntegerFeatures]\n",
    "df_cat = df[categoricalFullFeatures]\n",
    "\n",
    "vectorizer = DictVectorizer(sparse = False)\n",
    "df_cat = vectorizer.fit_transform(df_cat.fillna( 'NA' ).to_dict(orient=\"records\"))\n",
    "\n",
    "enc = OneHotEncoder(sparse=False)\n",
    "df_cat_num = enc.fit_(data_cat_num)"
   ]
  },
  {
   "cell_type": "code",
   "execution_count": null,
   "metadata": {
    "collapsed": true
   },
   "outputs": [],
   "source": [
    "df = pd.concat([df_numerical, df_cat, df_cat_num], axis=1)"
   ]
  },
  {
   "cell_type": "code",
   "execution_count": 33,
   "metadata": {
    "collapsed": false
   },
   "outputs": [],
   "source": [
    "np.random.seed(1)\n",
    "x = np.random.rand(len(df))\n",
    "mask = x < 0.7\n",
    "mask1 = np.logical_and(x >= 0.7, x < 0.9) \n",
    "mask2 = np.logical_and(x >= 0.9)"
   ]
  },
  {
   "cell_type": "code",
   "execution_count": 34,
   "metadata": {
    "collapsed": false
   },
   "outputs": [],
   "source": [
    "df_train = df[mask]\n",
    "df_validation = df[mask1]\n",
    "df_test = df[mask2]"
   ]
  },
  {
   "cell_type": "code",
   "execution_count": 7,
   "metadata": {
    "collapsed": true
   },
   "outputs": [],
   "source": [
    "NumFeatures = len(df.columns)"
   ]
  },
  {
   "cell_type": "code",
   "execution_count": 29,
   "metadata": {
    "collapsed": false
   },
   "outputs": [],
   "source": [
    "def construct(x, layer_size=[10, 10, NumFeatures], learning_rate=0.1):\n",
    "    y = x\n",
    "    #encoders\n",
    "    weights_1 = tf.Variable(tf.random_normal([NumFeatures, layer_size[0]]))\n",
    "    bias_1 = tf.Variable(tf.random_normal([layer_size[0]]))\n",
    "    weights_2 = tf.Variable(tf.random_normal([layer_size[0], layer_size[1]]))\n",
    "    bias_2 = tf.Variable(tf.random_normal([layer_size[1]]))\n",
    "    \n",
    "    #decoders\n",
    "    weights_3 = tf.Variable(tf.random_normal([layer_size[1], layer_size[2]]))\n",
    "    bias_3 = tf.Variable(tf.random_normal([layer_size[2]]))\n",
    "    weights_4 = tf.Variable(tf.random_normal([layer_size[2], NumFeatures]))\n",
    "    bias_4 = tf.Variable(tf.random_normal([NumFeatures]))\n",
    "    \n",
    "    layer1 = tf.nn.relu(tf.matmul(x, weights_1) + bias_1)\n",
    "    layer2 = tf.nn.relu(tf.matmul(layer1, weights_2) + bias_2)\n",
    "    layer3 = tf.nn.relu(tf.matmul(layer2, weights_3) + bias_3)\n",
    "    output = tf.nn.relu(tf.matmul(layer3, weights_4) + bias_4)\n",
    "    \n",
    "    cost = tf.reduce_mean(tf.pow(y-output, 2))\n",
    "    momentum = 0.5\n",
    "    optimizer = tf.train.MomentumOptimizer(learning_rate, momentum).minimize(cost)\n",
    "    \n",
    "    init = tf.global_variables_initializer()\n",
    "    \n",
    "    return init, optimizer     "
   ]
  },
  {
   "cell_type": "code",
   "execution_count": 30,
   "metadata": {
    "collapsed": false
   },
   "outputs": [],
   "source": [
    "with tf.Session() as sess:\n",
    "    x = tf.placeholder(tf.float32, [None, NumFeatures])\n",
    "    init, optimizer = construct(x)\n",
    "    sess.run(init)\n",
    "    numEpochs = 1000\n",
    "    numBatches = 1000"
   ]
  }
 ],
 "metadata": {
  "kernelspec": {
   "display_name": "Python 2",
   "language": "python",
   "name": "python2"
  },
  "language_info": {
   "codemirror_mode": {
    "name": "ipython",
    "version": 2
   },
   "file_extension": ".py",
   "mimetype": "text/x-python",
   "name": "python",
   "nbconvert_exporter": "python",
   "pygments_lexer": "ipython2",
   "version": "2.7.12"
  }
 },
 "nbformat": 4,
 "nbformat_minor": 2
}
