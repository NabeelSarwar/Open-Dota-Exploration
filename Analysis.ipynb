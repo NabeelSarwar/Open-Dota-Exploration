{
 "cells": [
  {
   "cell_type": "code",
   "execution_count": 54,
   "metadata": {
    "collapsed": false
   },
   "outputs": [],
   "source": [
    "import pandas\n",
    "import numpy as np\n",
    "import matplotlib.pyplot as plt\n",
    "from sklearn.feature_extraction import DictVectorizer\n",
    "from sklearn.preprocessing import OneHotEncoder\n",
    "%matplotlib inline\n",
    "import tensorflow as tf\n",
    "import glob"
   ]
  },
  {
   "cell_type": "code",
   "execution_count": 55,
   "metadata": {
    "collapsed": false
   },
   "outputs": [],
   "source": [
    "import os\n",
    "import os.path"
   ]
  },
  {
   "cell_type": "code",
   "execution_count": 56,
   "metadata": {
    "collapsed": false
   },
   "outputs": [],
   "source": [
    "validFilePaths = []\n",
    "for f in os.listdir(\"data/anomaly_data\"):\n",
    "    filePath = os.path.join(\"data/anomaly_data\", f)\n",
    "    if os.path.isdir(filePath):\n",
    "        continue\n",
    "    if os.stat(filePath).st_size <= 3:\n",
    "        continue\n",
    "    validFilePaths.append(filePath)\n",
    "validFilePaths = np.random.choice(validFilePaths, 10, replace=False)\n",
    "df_list = (pandas.read_csv(f) for f in validFilePaths)\n",
    "df = pandas.concat(df_list, ignore_index=True)\n",
    "df = df[df['radiant_win'].notnull()]"
   ]
  },
  {
   "cell_type": "code",
   "execution_count": 57,
   "metadata": {
    "collapsed": false
   },
   "outputs": [
    {
     "name": "stdout",
     "output_type": "stream",
     "text": [
      "(285, 331)\n"
     ]
    }
   ],
   "source": [
    "print df.shape\n",
    "columns = df.columns\n",
    "df_catInteger_features_example = filter(lambda x: 'hero_id' in x, columns)"
   ]
  },
  {
   "cell_type": "code",
   "execution_count": 58,
   "metadata": {
    "collapsed": false
   },
   "outputs": [],
   "source": [
    "from itertools import chain\n",
    "# these will require string processing on the column names to work\n",
    "numericalFeatures = ['match_id', 'positive_votes', 'negative_votes', 'first_blood_time', 'radiant_win',\n",
    "                    'duration', 'kills', 'deaths', 'assists', 'apm', 'kpm', 'kda', 'hero_dmg',\n",
    "                    'gpm', 'hero_heal', 'xpm', 'totalgold', 'totalxp', 'lasthits', 'denies',\n",
    "                    'tower_kills', 'courier_kills', 'gold_spent', 'observer_uses', 'sentry_uses',\n",
    "                    'ancient_kills', 'neutral_kills', 'camps_stacked', 'pings', 'rune_pickups']\n",
    "categoricalIntegerFeatures = ['barracks_status', 'tower_status', 'hero_id', \n",
    "                              'item0', 'item1', 'item2', 'item3', 'item4', 'item5']\n",
    "categoricalFullFeatures = ['patch']\n",
    "numFeatures = [filter(lambda x: z in x, columns) for z in numericalFeatures]\n",
    "categoricalIntegerFeatures  = [filter(lambda x: z in x, columns) for z in categoricalIntegerFeatures]\n",
    "catFull = [filter(lambda x: z in x, columns) for z in categoricalFullFeatures]\n",
    "numFeatures = list(chain(*numFeatures))\n",
    "categoricalIntegerFeatures = list(chain(*categoricalIntegerFeatures))\n",
    "catFull = list(chain(*catFull))"
   ]
  },
  {
   "cell_type": "code",
   "execution_count": 61,
   "metadata": {
    "collapsed": false
   },
   "outputs": [],
   "source": [
    "df_numerical = df[numFeatures]\n",
    "df_numerical.loc[:, 'radiant_win'] = df_numerical.loc[:, 'radiant_win'].apply(lambda x : int(x))\n",
    "df_cat_num = df[categoricalIntegerFeatures]\n",
    "df_cat = df[catFull]\n",
    "\n",
    "#scipy sparse\n",
    "vectorizer = DictVectorizer(sparse = True)\n",
    "df_cat = vectorizer.fit_transform(df_cat.fillna('NA').to_dict(orient=\"records\"))\n",
    "\n",
    "#scipy sparse\n",
    "enc = OneHotEncoder(sparse = True)\n",
    "df_cat_num = enc.fit_transform(df_cat_num)"
   ]
  },
  {
   "cell_type": "code",
   "execution_count": 62,
   "metadata": {
    "collapsed": false
   },
   "outputs": [
    {
     "name": "stdout",
     "output_type": "stream",
     "text": [
      "<class 'pandas.core.frame.DataFrame'>\n",
      "<class 'scipy.sparse.csr.csr_matrix'>\n",
      "<class 'scipy.sparse.csr.csr_matrix'>\n"
     ]
    }
   ],
   "source": [
    "from scipy.sparse import coo_matrix, hstack\n",
    "print type(df_numerical)\n",
    "print type(df_cat_num)\n",
    "print type(df_cat)\n",
    "df_cat_num = coo_matrix(df_cat_num)\n",
    "df_cat = coo_matrix(df_cat)\n",
    "df = hstack([df_cat_num, df_numerical])"
   ]
  },
  {
   "cell_type": "code",
   "execution_count": null,
   "metadata": {
    "collapsed": false
   },
   "outputs": [],
   "source": [
    "# df = pandas.concat([df_numerical, df_cat, df_cat_num], ignore_index=True)"
   ]
  },
  {
   "cell_type": "code",
   "execution_count": 71,
   "metadata": {
    "collapsed": false
   },
   "outputs": [],
   "source": [
    "np.random.seed(1)\n",
    "x = np.random.rand(df.shape[0])\n",
    "mask = np.where(x < 0.7)[0]\n",
    "mask1 = np.where(np.logical_and(x >= 0.7, x < 0.9))[0] \n",
    "mask2 = np.where(x >= 0.9)[0]"
   ]
  },
  {
   "cell_type": "code",
   "execution_count": 70,
   "metadata": {
    "collapsed": false
   },
   "outputs": [
    {
     "name": "stdout",
     "output_type": "stream",
     "text": [
      "[  0   2   3   4   5   6   7   8   9  10  11  12  14  15  16  17  18  19\n",
      "  22  23  26  27  28  30  31  33  34  35  36  38  42  44  45  47  48  49\n",
      "  50  51  52  53  54  55  56  57  58  59  60  61  62  63  64  65  66  67\n",
      "  69  71  72  74  75  77  81  83  84  86  88  89  90  92  93  94  95  97\n",
      "  98  99 100 101 103 105 106 108 110 111 113 114 119 120 121 122 123 125\n",
      " 126 128 129 130 132 133 135 137 140 141 142 143 144 145 146 148 149 150\n",
      " 152 153 154 156 157 160 161 162 164 165 166 167 168 169 170 172 173 174\n",
      " 176 177 178 179 180 181 183 184 186 187 188 190 191 196 197 198 201 203\n",
      " 204 205 206 207 210 212 213 214 215 216 219 220 221 222 224 226 230 231\n",
      " 233 234 235 236 237 238 240 242 243 245 246 247 248 250 252 254 256 257\n",
      " 258 259 263 265 266 267 268 269 270 271 272 273 275 276 277 278 282 283\n",
      " 284]\n"
     ]
    }
   ],
   "source": [
    "print np.where(mask)[0]"
   ]
  },
  {
   "cell_type": "code",
   "execution_count": 73,
   "metadata": {
    "collapsed": false
   },
   "outputs": [],
   "source": [
    "df_train = df.tocsr()[mask, :]\n",
    "df_validation = df.tocsr()[mask1, :]\n",
    "df_test = df.tocsr()[mask2, :]"
   ]
  },
  {
   "cell_type": "code",
   "execution_count": 76,
   "metadata": {
    "collapsed": false
   },
   "outputs": [],
   "source": [
    "NumFeatures = df.shape[1]"
   ]
  },
  {
   "cell_type": "code",
   "execution_count": 77,
   "metadata": {
    "collapsed": false
   },
   "outputs": [],
   "source": [
    "def construct(x, layer_size=[10, 10, NumFeatures], learning_rate=0.1):\n",
    "    y = x\n",
    "    #encoders\n",
    "    weights_1 = tf.Variable(tf.random_normal([NumFeatures, layer_size[0]]))\n",
    "    bias_1 = tf.Variable(tf.random_normal([layer_size[0]]))\n",
    "    weights_2 = tf.Variable(tf.random_normal([layer_size[0], layer_size[1]]))\n",
    "    bias_2 = tf.Variable(tf.random_normal([layer_size[1]]))\n",
    "    \n",
    "    #decoders\n",
    "    weights_3 = tf.Variable(tf.random_normal([layer_size[1], layer_size[2]]))\n",
    "    bias_3 = tf.Variable(tf.random_normal([layer_size[2]]))\n",
    "    weights_4 = tf.Variable(tf.random_normal([layer_size[2], NumFeatures]))\n",
    "    bias_4 = tf.Variable(tf.random_normal([NumFeatures]))\n",
    "    \n",
    "    layer1 = tf.nn.relu(tf.matmul(x, weights_1) + bias_1)\n",
    "    layer2 = tf.nn.relu(tf.matmul(layer1, weights_2) + bias_2)\n",
    "    layer3 = tf.nn.relu(tf.matmul(layer2, weights_3) + bias_3)\n",
    "    output = tf.nn.relu(tf.matmul(layer3, weights_4) + bias_4)\n",
    "    \n",
    "    cost = tf.reduce_mean(tf.pow(y-output, 2))\n",
    "    momentum = 0.5\n",
    "    optimizer = tf.train.MomentumOptimizer(learning_rate, momentum).minimize(cost)\n",
    "    \n",
    "    init = tf.global_variables_initializer()\n",
    "    \n",
    "    return init, optimizer     "
   ]
  },
  {
   "cell_type": "code",
   "execution_count": null,
   "metadata": {
    "collapsed": false
   },
   "outputs": [],
   "source": [
    "with tf.Session() as sess:\n",
    "    x = tf.placeholder(tf.float32, [None, NumFeatures])\n",
    "    init, optimizer = construct(x)\n",
    "    sess.run(init)\n",
    "    numEpochs = 1000\n",
    "    numBatches = 1000\n",
    "    batchSize = int(round(0.1 * df_train.shape[0]))\n",
    "    for epochIter in xrange(numEpochs):\n",
    "        for batchItr in xrange(numBatches):\n",
    "            indices = np.random.choice(range(df_train.shape[0]), batchSize, replace=False)\n",
    "            batch = df_train[indices, :].toarray()\n",
    "            sess.run(optimizer, feed_dict = {x : batch})"
   ]
  },
  {
   "cell_type": "code",
   "execution_count": null,
   "metadata": {
    "collapsed": true
   },
   "outputs": [],
   "source": []
  }
 ],
 "metadata": {
  "kernelspec": {
   "display_name": "Python 2",
   "language": "python",
   "name": "python2"
  },
  "language_info": {
   "codemirror_mode": {
    "name": "ipython",
    "version": 2
   },
   "file_extension": ".py",
   "mimetype": "text/x-python",
   "name": "python",
   "nbconvert_exporter": "python",
   "pygments_lexer": "ipython2",
   "version": "2.7.12"
  }
 },
 "nbformat": 4,
 "nbformat_minor": 2
}
