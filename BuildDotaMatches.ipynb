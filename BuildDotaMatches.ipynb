{
 "cells": [
  {
   "cell_type": "code",
   "execution_count": 7,
   "metadata": {
    "collapsed": true
   },
   "outputs": [],
   "source": [
    "import requests\n",
    "import json"
   ]
  },
  {
   "cell_type": "code",
   "execution_count": 8,
   "metadata": {
    "collapsed": true
   },
   "outputs": [],
   "source": [
    "match_id = 2812759987"
   ]
  },
  {
   "cell_type": "code",
   "execution_count": 9,
   "metadata": {
    "collapsed": false
   },
   "outputs": [],
   "source": [
    "host = \"https://api.opendota.com/api/matches/\" + str(match_id)\n",
    "data = {'match_id': match_id}"
   ]
  },
  {
   "cell_type": "code",
   "execution_count": 10,
   "metadata": {
    "collapsed": true
   },
   "outputs": [],
   "source": [
    "request = requests.get(host, data=data)"
   ]
  },
  {
   "cell_type": "code",
   "execution_count": 11,
   "metadata": {
    "collapsed": false
   },
   "outputs": [
    {
     "data": {
      "text/plain": [
       "200"
      ]
     },
     "execution_count": 11,
     "metadata": {},
     "output_type": "execute_result"
    }
   ],
   "source": [
    "request.status_code"
   ]
  },
  {
   "cell_type": "code",
   "execution_count": 51,
   "metadata": {
    "collapsed": false
   },
   "outputs": [],
   "source": [
    "match_data = request.content\n",
    "match_data = json.loads(match_data)"
   ]
  },
  {
   "cell_type": "code",
   "execution_count": 52,
   "metadata": {
    "collapsed": false
   },
   "outputs": [
    {
     "data": {
      "text/plain": [
       "[u'replay_url',\n",
       " u'barracks_status_dire',\n",
       " u'match_id',\n",
       " u'barracks_status_radiant',\n",
       " u'cluster',\n",
       " u'replay_salt',\n",
       " u'first_blood_time',\n",
       " u'chat',\n",
       " u'game_mode',\n",
       " u'duration',\n",
       " u'radiant_win',\n",
       " u'lobby_type',\n",
       " u'tower_status_dire',\n",
       " u'teamfights',\n",
       " u'series_type',\n",
       " u'objectives',\n",
       " u'all_word_counts',\n",
       " u'version',\n",
       " u'cosmetics',\n",
       " u'leagueid',\n",
       " u'stomp',\n",
       " u'engine',\n",
       " u'human_players',\n",
       " u'start_time',\n",
       " u'match_seq_num',\n",
       " u'series_id',\n",
       " u'tower_status_radiant',\n",
       " u'negative_votes',\n",
       " u'comeback',\n",
       " u'picks_bans',\n",
       " u'positive_votes',\n",
       " u'my_word_counts',\n",
       " u'radiant_xp_adv',\n",
       " u'region',\n",
       " u'patch',\n",
       " u'radiant_gold_adv',\n",
       " u'players']"
      ]
     },
     "execution_count": 52,
     "metadata": {},
     "output_type": "execute_result"
    }
   ],
   "source": [
    "match_data.keys()"
   ]
  },
  {
   "cell_type": "code",
   "execution_count": 26,
   "metadata": {
    "collapsed": false
   },
   "outputs": [],
   "source": [
    "# Here we analyze a player\n",
    "player1 = match_data['players'][0]"
   ]
  },
  {
   "cell_type": "code",
   "execution_count": 29,
   "metadata": {
    "collapsed": false
   },
   "outputs": [
    {
     "data": {
      "text/plain": [
       "[u'purchase_time',\n",
       " u'lane_efficiency',\n",
       " u'gold',\n",
       " u'sentry_kills',\n",
       " u'lane_efficiency_pct',\n",
       " u'actions',\n",
       " u'damage_inflictor_received',\n",
       " u'lh_t',\n",
       " u'damage_taken',\n",
       " u'kill_streaks',\n",
       " u'cosmetics',\n",
       " u'hero_id',\n",
       " u'necronomicon_kills',\n",
       " u'kills_log',\n",
       " u'sentry_uses',\n",
       " u'account_id',\n",
       " u'kills',\n",
       " u'kills_per_min',\n",
       " u'start_time',\n",
       " u'isRadiant',\n",
       " u'purchase_ward_sentry',\n",
       " u'leaver_status',\n",
       " u'killed',\n",
       " u'stuns',\n",
       " u'gold_per_min',\n",
       " u'name',\n",
       " u'level',\n",
       " u'actions_per_min',\n",
       " u'damage_inflictor',\n",
       " u'life_state_dead',\n",
       " u'patch',\n",
       " u'item_4',\n",
       " u'item_5',\n",
       " u'item_2',\n",
       " u'item_3',\n",
       " u'item_0',\n",
       " u'lose',\n",
       " u'sen_left_log',\n",
       " u'buyback_count',\n",
       " u'obs_placed',\n",
       " u'match_id',\n",
       " u'kda',\n",
       " u'pings',\n",
       " u'gold_reasons',\n",
       " u'total_gold',\n",
       " u'item_uses',\n",
       " u'duration',\n",
       " u'sen',\n",
       " u'lobby_type',\n",
       " u'denies',\n",
       " u'ancient_kills',\n",
       " u'killed_by',\n",
       " u'neutral_kills',\n",
       " u'permanent_buffs',\n",
       " u'last_login',\n",
       " u'gold_t',\n",
       " u'xp_per_min',\n",
       " u'ability_uses',\n",
       " u'item_1',\n",
       " u'abandons',\n",
       " u'rune_pickups',\n",
       " u'assists',\n",
       " u'obs_left_log',\n",
       " u'xp_reasons',\n",
       " u'purchase_log',\n",
       " u'region',\n",
       " u'obs_log',\n",
       " u'times',\n",
       " u'hero_kills',\n",
       " u'obs',\n",
       " u'win',\n",
       " u'purchase_tpscroll',\n",
       " u'radiant_win',\n",
       " u'runes',\n",
       " u'game_mode',\n",
       " u'ability_upgrades_arr',\n",
       " u'observer_uses',\n",
       " u'item_win',\n",
       " u'item_usage',\n",
       " u'party_id',\n",
       " u'hero_healing',\n",
       " u'life_state',\n",
       " u'xp_t',\n",
       " u'benchmarks',\n",
       " u'courier_kills',\n",
       " u'buyback_log',\n",
       " u'tower_kills',\n",
       " u'additional_units',\n",
       " u'gold_spent',\n",
       " u'deaths',\n",
       " u'cluster',\n",
       " u'last_hits',\n",
       " u'total_xp',\n",
       " u'player_slot',\n",
       " u'creeps_stacked',\n",
       " u'multi_kills',\n",
       " u'camps_stacked',\n",
       " u'first_purchase_time',\n",
       " u'damage',\n",
       " u'sen_log',\n",
       " u'hero_hits',\n",
       " u'solo_competitive_rank',\n",
       " u'tower_damage',\n",
       " u'lane_kills',\n",
       " u'hero_damage',\n",
       " u'personaname',\n",
       " u'roshan_kills',\n",
       " u'max_hero_hit',\n",
       " u'observer_kills',\n",
       " u'lane_role',\n",
       " u'lane_pos',\n",
       " u'purchase',\n",
       " u'lane',\n",
       " u'sen_placed',\n",
       " u'dn_t']"
      ]
     },
     "execution_count": 29,
     "metadata": {},
     "output_type": "execute_result"
    }
   ],
   "source": [
    "player1.keys()"
   ]
  },
  {
   "cell_type": "markdown",
   "metadata": {},
   "source": [
    "https://github.com/kronusme/dota2-api/blob/master/data/heroes.json\n",
    "https://github.com/kronusme/dota2-api/blob/master/data/items.json\n",
    "\n",
    "Of interest from the player fields are:\n",
    "    1. gold\n",
    "    2. last_hints\n",
    "    3. damage_taken\n",
    "    4. isRadiant\n",
    "    5. hero_id\n",
    "    6. actions_per_min\n",
    "    7. kills\n",
    "    8. kills_per_min\n",
    "    9. item_win for end state items\n",
    "    10. kda\n",
    "    11. assists\n",
    "    12. deaths\n",
    "    13. total_gold and total_xp\n",
    "    14. denies\n",
    "    15. item_0, item_1, item_2, ..., item_5\n",
    "    16. lane_role\n",
    "    17. lane_efficiency_pct\n",
    "    18. solo_competitive_rank"
   ]
  },
  {
   "cell_type": "code",
   "execution_count": 50,
   "metadata": {
    "collapsed": false
   },
   "outputs": [
    {
     "data": {
      "text/plain": [
       "55"
      ]
     },
     "execution_count": 50,
     "metadata": {},
     "output_type": "execute_result"
    }
   ],
   "source": [
    "player1['lane_efficiency_pct']"
   ]
  },
  {
   "cell_type": "code",
   "execution_count": 53,
   "metadata": {
    "collapsed": false
   },
   "outputs": [
    {
     "data": {
      "text/plain": [
       "False"
      ]
     },
     "execution_count": 53,
     "metadata": {},
     "output_type": "execute_result"
    }
   ],
   "source": [
    "match_data['radiant_win']"
   ]
  },
  {
   "cell_type": "code",
   "execution_count": null,
   "metadata": {
    "collapsed": true
   },
   "outputs": [],
   "source": []
  }
 ],
 "metadata": {
  "kernelspec": {
   "display_name": "Python 2",
   "language": "python",
   "name": "python2"
  },
  "language_info": {
   "codemirror_mode": {
    "name": "ipython",
    "version": 2
   },
   "file_extension": ".py",
   "mimetype": "text/x-python",
   "name": "python",
   "nbconvert_exporter": "python",
   "pygments_lexer": "ipython2",
   "version": "2.7.12"
  }
 },
 "nbformat": 4,
 "nbformat_minor": 2
}
