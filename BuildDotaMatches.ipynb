{
 "cells": [
  {
   "cell_type": "code",
   "execution_count": 4,
   "metadata": {
    "collapsed": true
   },
   "outputs": [],
   "source": [
    "import requests\n",
    "import json"
   ]
  },
  {
   "cell_type": "code",
   "execution_count": 91,
   "metadata": {
    "collapsed": true
   },
   "outputs": [],
   "source": [
    "match_id = 2853522349"
   ]
  },
  {
   "cell_type": "code",
   "execution_count": 92,
   "metadata": {
    "collapsed": false
   },
   "outputs": [],
   "source": [
    "host = \"https://api.opendota.com/api/matches/\" + str(match_id)\n",
    "data = {'match_id': match_id}"
   ]
  },
  {
   "cell_type": "code",
   "execution_count": 93,
   "metadata": {
    "collapsed": true
   },
   "outputs": [],
   "source": [
    "request = requests.get(host, data=data)"
   ]
  },
  {
   "cell_type": "code",
   "execution_count": 94,
   "metadata": {
    "collapsed": false
   },
   "outputs": [
    {
     "data": {
      "text/plain": [
       "200"
      ]
     },
     "execution_count": 94,
     "metadata": {},
     "output_type": "execute_result"
    }
   ],
   "source": [
    "request.status_code"
   ]
  },
  {
   "cell_type": "code",
   "execution_count": 95,
   "metadata": {
    "collapsed": false
   },
   "outputs": [],
   "source": [
    "match_data = request.content\n",
    "match_data = json.loads(match_data)"
   ]
  },
  {
   "cell_type": "code",
   "execution_count": 96,
   "metadata": {
    "collapsed": false
   },
   "outputs": [
    {
     "data": {
      "text/plain": [
       "[u'replay_url',\n",
       " u'barracks_status_dire',\n",
       " u'match_id',\n",
       " u'barracks_status_radiant',\n",
       " u'cluster',\n",
       " u'replay_salt',\n",
       " u'first_blood_time',\n",
       " u'chat',\n",
       " u'dire_score',\n",
       " u'duration',\n",
       " u'radiant_win',\n",
       " u'skill',\n",
       " u'lobby_type',\n",
       " u'tower_status_dire',\n",
       " u'teamfights',\n",
       " u'series_type',\n",
       " u'objectives',\n",
       " u'version',\n",
       " u'cosmetics',\n",
       " u'leagueid',\n",
       " u'engine',\n",
       " u'radiant_score',\n",
       " u'human_players',\n",
       " u'start_time',\n",
       " u'match_seq_num',\n",
       " u'series_id',\n",
       " u'tower_status_radiant',\n",
       " u'negative_votes',\n",
       " u'picks_bans',\n",
       " u'positive_votes',\n",
       " u'radiant_xp_adv',\n",
       " u'region',\n",
       " u'game_mode',\n",
       " u'patch',\n",
       " u'radiant_gold_adv',\n",
       " u'players']"
      ]
     },
     "execution_count": 96,
     "metadata": {},
     "output_type": "execute_result"
    }
   ],
   "source": [
    "match_data.keys()"
   ]
  },
  {
   "cell_type": "markdown",
   "metadata": {},
   "source": [
    "Fields of interest in match:\n",
    "    1. version AND patch\n",
    "    2. positive_votes and negative_votes\n",
    "    3. first_blood_time\n",
    "    4. barracks_status_radiant\n",
    "    5. barracks_status_dire\n",
    "    6. radiant_win\n",
    "    7. possibly teamfights in the future"
   ]
  },
  {
   "cell_type": "code",
   "execution_count": 97,
   "metadata": {
    "collapsed": false
   },
   "outputs": [],
   "source": [
    "# Here we analyze a player\n",
    "player1 = match_data['players'][0]"
   ]
  },
  {
   "cell_type": "code",
   "execution_count": 98,
   "metadata": {
    "collapsed": false
   },
   "outputs": [
    {
     "data": {
      "text/plain": [
       "[u'gold',\n",
       " u'actions',\n",
       " u'damage_inflictor_received',\n",
       " u'lh_t',\n",
       " u'damage_taken',\n",
       " u'kill_streaks',\n",
       " u'cosmetics',\n",
       " u'hero_id',\n",
       " u'kills_log',\n",
       " u'account_id',\n",
       " u'kills',\n",
       " u'kills_per_min',\n",
       " u'start_time',\n",
       " u'isRadiant',\n",
       " u'backpack_1',\n",
       " u'backpack_0',\n",
       " u'leaver_status',\n",
       " u'killed',\n",
       " u'stuns',\n",
       " u'gold_per_min',\n",
       " u'name',\n",
       " u'level',\n",
       " u'damage_inflictor',\n",
       " u'patch',\n",
       " u'item_4',\n",
       " u'item_5',\n",
       " u'item_2',\n",
       " u'item_3',\n",
       " u'item_0',\n",
       " u'lose',\n",
       " u'sen_left_log',\n",
       " u'obs_placed',\n",
       " u'match_id',\n",
       " u'kda',\n",
       " u'pings',\n",
       " u'gold_reasons',\n",
       " u'total_gold',\n",
       " u'item_uses',\n",
       " u'duration',\n",
       " u'sen',\n",
       " u'lobby_type',\n",
       " u'denies',\n",
       " u'killed_by',\n",
       " u'permanent_buffs',\n",
       " u'last_login',\n",
       " u'gold_t',\n",
       " u'xp_per_min',\n",
       " u'ability_uses',\n",
       " u'item_1',\n",
       " u'abandons',\n",
       " u'rune_pickups',\n",
       " u'assists',\n",
       " u'obs_left_log',\n",
       " u'xp_reasons',\n",
       " u'purchase_log',\n",
       " u'region',\n",
       " u'obs_log',\n",
       " u'times',\n",
       " u'obs',\n",
       " u'win',\n",
       " u'radiant_win',\n",
       " u'runes',\n",
       " u'game_mode',\n",
       " u'ability_upgrades_arr',\n",
       " u'party_id',\n",
       " u'hero_healing',\n",
       " u'life_state',\n",
       " u'xp_t',\n",
       " u'benchmarks',\n",
       " u'buyback_log',\n",
       " u'additional_units',\n",
       " u'gold_spent',\n",
       " u'deaths',\n",
       " u'cluster',\n",
       " u'last_hits',\n",
       " u'total_xp',\n",
       " u'player_slot',\n",
       " u'creeps_stacked',\n",
       " u'multi_kills',\n",
       " u'camps_stacked',\n",
       " u'damage',\n",
       " u'sen_log',\n",
       " u'hero_hits',\n",
       " u'solo_competitive_rank',\n",
       " u'tower_damage',\n",
       " u'hero_damage',\n",
       " u'personaname',\n",
       " u'max_hero_hit',\n",
       " u'lane_pos',\n",
       " u'purchase',\n",
       " u'backpack_2',\n",
       " u'sen_placed',\n",
       " u'dn_t']"
      ]
     },
     "execution_count": 98,
     "metadata": {},
     "output_type": "execute_result"
    }
   ],
   "source": [
    "player1.keys()"
   ]
  },
  {
   "cell_type": "markdown",
   "metadata": {},
   "source": [
    "https://github.com/kronusme/dota2-api/blob/master/data/heroes.json\n",
    "https://github.com/kronusme/dota2-api/blob/master/data/items.json\n",
    "\n",
    "Of interest from the player fields are:\n",
    "    1. gold\n",
    "    2. last_hints\n",
    "    3. damage_taken\n",
    "    4. isRadiant\n",
    "    5. hero_id\n",
    "    6. actions_per_min\n",
    "    7. kills\n",
    "    8. kills_per_min\n",
    "    9. item_win for end state items\n",
    "    10. kda\n",
    "    11. assists\n",
    "    12. deaths\n",
    "    13. total_gold and total_xp\n",
    "    14. denies\n",
    "    15. item_0, item_1, item_2, ..., item_5\n",
    "    16. lane_role\n",
    "    17. lane_efficiency_pct\n",
    "    18. solo_competitive_rank\n",
    "    19. hero_damage\n",
    "    20. hero_healing"
   ]
  },
  {
   "cell_type": "code",
   "execution_count": 50,
   "metadata": {
    "collapsed": true
   },
   "outputs": [],
   "source": [
    "def extractDotaInformation(matchJSON):\n",
    "    matchInfo = {}\n",
    "    matchInfo['version'] = matchJSON['version']\n",
    "    matchInfo['patch'] = matchJSON['patch']\n",
    "    matchInfo['positive_votes'] = matchJSON['positive_votes']\n",
    "    matchInfo['negative_votes'] = matchJSON['negative_votes']\n",
    "    matchInfo['first_blood_time'] = matchJSON['first_blood_time']\n",
    "    matchInfo['barracks_status_radiant'] = matchJSON['barracks_status_radiant']\n",
    "    matchInfo['barracks_status_dire'] = matchJSON['barracks_status_dire']\n",
    "    matchInfo['tower_status_radiant'] = matchJSON['tower_status_radiant']\n",
    "    matchInfo['tower_status_dire'] = matchJSON['tower_status_dire']\n",
    "    matchInfo['radiant_win'] = matchJSON['radiant_win']\n",
    "    matchInfo['duration'] = matchJSON['duration']\n",
    "    # player info now\n",
    "    # organize the heroes into positions and radiant vs dire\n",
    "\n",
    "    for player in matchJSON['players']:\n",
    "        if player['isRadiant']:\n",
    "            matchInfo['hero_radiant' + str(player['lane_role'])] = player['hero_id']\n",
    "            print player['lane_role']\n",
    "            \n",
    "            # rad.remove(player['lane_role'])\n",
    "        else:\n",
    "            matchInfo['hero_dire' + str(player['lane_role'])] = player['hero_id']\n",
    "            print player['lane_role']\n",
    "            \n",
    "            # dire.remove(player['lane_role'])\n",
    "    if len(rad) != 0 and len(rad) != len(dire):\n",
    "        raise Exception()\n",
    "    \n",
    "    "
   ]
  },
  {
   "cell_type": "code",
   "execution_count": 51,
   "metadata": {
    "collapsed": false
   },
   "outputs": [
    {
     "name": "stdout",
     "output_type": "stream",
     "text": [
      "[u'purchase_time', u'lane_efficiency', u'gold', u'sentry_kills', u'lane_efficiency_pct', u'actions', u'damage_inflictor_received', u'lh_t', u'damage_taken', u'kill_streaks', u'cosmetics', u'hero_id', u'necronomicon_kills', u'kills_log', u'sentry_uses', u'account_id', u'kills', u'kills_per_min', u'start_time', u'isRadiant', u'backpack_1', u'backpack_0', u'leaver_status', u'killed', u'stuns', u'gold_per_min', u'name', u'level', u'actions_per_min', u'damage_inflictor', u'life_state_dead', u'patch', u'item_4', u'item_5', u'item_2', u'item_3', u'item_0', u'lose', u'sen_left_log', u'buyback_count', u'obs_placed', u'match_id', u'kda', u'pings', u'gold_reasons', u'total_gold', u'item_uses', u'duration', u'sen', u'lobby_type', u'denies', u'ancient_kills', u'killed_by', u'neutral_kills', u'permanent_buffs', u'last_login', u'gold_t', u'xp_per_min', u'ability_uses', u'item_1', u'abandons', u'rune_pickups', u'assists', u'obs_left_log', u'xp_reasons', u'purchase_log', u'purchase_ward_sentry', u'region', u'obs_log', u'times', u'hero_kills', u'obs', u'win', u'purchase_tpscroll', u'radiant_win', u'runes', u'game_mode', u'ability_upgrades_arr', u'observer_uses', u'item_win', u'item_usage', u'party_id', u'hero_healing', u'life_state', u'xp_t', u'benchmarks', u'courier_kills', u'buyback_log', u'tower_kills', u'additional_units', u'gold_spent', u'deaths', u'cluster', u'purchase_ward_observer', u'last_hits', u'total_xp', u'player_slot', u'creeps_stacked', u'multi_kills', u'camps_stacked', u'first_purchase_time', u'damage', u'sen_log', u'hero_hits', u'solo_competitive_rank', u'tower_damage', u'lane_kills', u'hero_damage', u'personaname', u'roshan_kills', u'max_hero_hit', u'observer_kills', u'lane_role', u'lane_pos', u'purchase', u'lane', u'backpack_2', u'sen_placed', u'dn_t']\n",
      "3\n",
      "[u'purchase_time', u'lane_efficiency', u'gold', u'sentry_kills', u'lane_efficiency_pct', u'actions', u'damage_inflictor_received', u'lh_t', u'damage_taken', u'kill_streaks', u'cosmetics', u'hero_id', u'necronomicon_kills', u'kills_log', u'sentry_uses', u'account_id', u'kills', u'kills_per_min', u'start_time', u'isRadiant', u'backpack_1', u'backpack_0', u'leaver_status', u'killed', u'stuns', u'gold_per_min', u'name', u'level', u'actions_per_min', u'damage_inflictor', u'life_state_dead', u'patch', u'item_4', u'item_5', u'item_2', u'item_3', u'item_0', u'lose', u'sen_left_log', u'buyback_count', u'obs_placed', u'match_id', u'kda', u'pings', u'gold_reasons', u'total_gold', u'item_uses', u'duration', u'sen', u'lobby_type', u'denies', u'ancient_kills', u'killed_by', u'neutral_kills', u'permanent_buffs', u'last_login', u'gold_t', u'xp_per_min', u'ability_uses', u'item_1', u'abandons', u'rune_pickups', u'assists', u'obs_left_log', u'xp_reasons', u'purchase_log', u'purchase_ward_sentry', u'region', u'obs_log', u'times', u'hero_kills', u'obs', u'win', u'purchase_tpscroll', u'radiant_win', u'runes', u'game_mode', u'ability_upgrades_arr', u'observer_uses', u'item_win', u'item_usage', u'party_id', u'hero_healing', u'life_state', u'xp_t', u'benchmarks', u'courier_kills', u'buyback_log', u'tower_kills', u'additional_units', u'gold_spent', u'deaths', u'cluster', u'last_hits', u'total_xp', u'player_slot', u'creeps_stacked', u'multi_kills', u'camps_stacked', u'first_purchase_time', u'damage', u'sen_log', u'hero_hits', u'solo_competitive_rank', u'tower_damage', u'lane_kills', u'hero_damage', u'personaname', u'roshan_kills', u'max_hero_hit', u'observer_kills', u'lane_role', u'lane_pos', u'purchase', u'lane', u'backpack_2', u'sen_placed', u'dn_t']\n",
      "2\n",
      "[u'purchase_time', u'lane_efficiency', u'gold', u'sentry_kills', u'lane_efficiency_pct', u'actions', u'damage_inflictor_received', u'lh_t', u'damage_taken', u'kill_streaks', u'cosmetics', u'hero_id', u'necronomicon_kills', u'kills_log', u'sentry_uses', u'account_id', u'kills', u'kills_per_min', u'start_time', u'isRadiant', u'backpack_1', u'backpack_0', u'leaver_status', u'killed', u'stuns', u'gold_per_min', u'level', u'actions_per_min', u'damage_inflictor', u'life_state_dead', u'patch', u'item_4', u'item_5', u'item_2', u'item_3', u'item_0', u'lose', u'sen_left_log', u'buyback_count', u'obs_placed', u'match_id', u'kda', u'pings', u'gold_reasons', u'total_gold', u'item_uses', u'duration', u'sen', u'lobby_type', u'denies', u'ancient_kills', u'killed_by', u'neutral_kills', u'permanent_buffs', u'gold_t', u'xp_per_min', u'ability_uses', u'item_1', u'abandons', u'rune_pickups', u'assists', u'obs_left_log', u'xp_reasons', u'purchase_log', u'purchase_ward_sentry', u'region', u'obs_log', u'times', u'hero_kills', u'obs', u'win', u'purchase_tpscroll', u'radiant_win', u'runes', u'game_mode', u'ability_upgrades_arr', u'observer_uses', u'item_win', u'item_usage', u'party_id', u'hero_healing', u'life_state', u'xp_t', u'benchmarks', u'courier_kills', u'buyback_log', u'tower_kills', u'additional_units', u'gold_spent', u'deaths', u'cluster', u'last_hits', u'total_xp', u'player_slot', u'creeps_stacked', u'multi_kills', u'camps_stacked', u'first_purchase_time', u'damage', u'sen_log', u'hero_hits', u'solo_competitive_rank', u'tower_damage', u'lane_kills', u'hero_damage', u'roshan_kills', u'max_hero_hit', u'observer_kills', u'lane_role', u'lane_pos', u'purchase', u'lane', u'backpack_2', u'sen_placed', u'dn_t']\n",
      "4\n",
      "[u'purchase_time', u'lane_efficiency', u'gold', u'sentry_kills', u'lane_efficiency_pct', u'actions', u'damage_inflictor_received', u'lh_t', u'damage_taken', u'kill_streaks', u'cosmetics', u'hero_id', u'necronomicon_kills', u'kills_log', u'sentry_uses', u'account_id', u'abandons', u'start_time', u'isRadiant', u'backpack_1', u'backpack_0', u'leaver_status', u'killed', u'stuns', u'gold_per_min', u'level', u'actions_per_min', u'damage_inflictor', u'life_state_dead', u'patch', u'item_4', u'item_5', u'item_2', u'item_3', u'item_0', u'lose', u'sen_left_log', u'buyback_count', u'obs_placed', u'match_id', u'kda', u'pings', u'gold_reasons', u'total_gold', u'item_uses', u'duration', u'sen', u'lobby_type', u'denies', u'ancient_kills', u'killed_by', u'neutral_kills', u'permanent_buffs', u'gold_t', u'xp_per_min', u'ability_uses', u'item_1', u'rune_pickups', u'assists', u'obs_left_log', u'xp_reasons', u'purchase_log', u'purchase_ward_sentry', u'region', u'obs_log', u'times', u'hero_kills', u'obs', u'win', u'purchase_tpscroll', u'radiant_win', u'runes', u'game_mode', u'ability_upgrades_arr', u'observer_uses', u'item_win', u'item_usage', u'party_id', u'hero_healing', u'life_state', u'xp_t', u'benchmarks', u'courier_kills', u'buyback_log', u'tower_kills', u'additional_units', u'gold_spent', u'deaths', u'cluster', u'purchase_ward_observer', u'last_hits', u'total_xp', u'player_slot', u'creeps_stacked', u'multi_kills', u'camps_stacked', u'first_purchase_time', u'kills', u'damage', u'sen_log', u'hero_hits', u'solo_competitive_rank', u'tower_damage', u'lane_kills', u'hero_damage', u'roshan_kills', u'max_hero_hit', u'observer_kills', u'lane_role', u'lane_pos', u'purchase', u'lane', u'backpack_2', u'sen_placed', u'dn_t']\n",
      "1\n",
      "[u'purchase_time', u'lane_efficiency', u'gold', u'sentry_kills', u'lane_efficiency_pct', u'actions', u'damage_inflictor_received', u'lh_t', u'damage_taken', u'kill_streaks', u'cosmetics', u'hero_id', u'necronomicon_kills', u'kills_log', u'sentry_uses', u'account_id', u'kills', u'start_time', u'isRadiant', u'backpack_1', u'backpack_0', u'leaver_status', u'killed', u'stuns', u'gold_per_min', u'name', u'level', u'actions_per_min', u'damage_inflictor', u'life_state_dead', u'patch', u'item_4', u'item_5', u'item_2', u'item_3', u'item_0', u'lose', u'sen_left_log', u'buyback_count', u'obs_placed', u'match_id', u'kda', u'pings', u'gold_reasons', u'total_gold', u'item_uses', u'duration', u'sen', u'lobby_type', u'denies', u'ancient_kills', u'killed_by', u'neutral_kills', u'permanent_buffs', u'last_login', u'gold_t', u'xp_per_min', u'ability_uses', u'item_1', u'abandons', u'rune_pickups', u'assists', u'obs_left_log', u'xp_reasons', u'purchase_log', u'purchase_ward_sentry', u'region', u'obs_log', u'times', u'hero_kills', u'obs', u'win', u'purchase_tpscroll', u'radiant_win', u'runes', u'game_mode', u'ability_upgrades_arr', u'observer_uses', u'item_win', u'item_usage', u'party_id', u'hero_healing', u'life_state', u'xp_t', u'benchmarks', u'courier_kills', u'buyback_log', u'tower_kills', u'additional_units', u'gold_spent', u'deaths', u'cluster', u'purchase_ward_observer', u'last_hits', u'total_xp', u'player_slot', u'creeps_stacked', u'multi_kills', u'camps_stacked', u'first_purchase_time', u'damage', u'sen_log', u'hero_hits', u'solo_competitive_rank', u'tower_damage', u'lane_kills', u'hero_damage', u'personaname', u'roshan_kills', u'max_hero_hit', u'observer_kills', u'lane_role', u'lane_pos', u'purchase', u'lane', u'backpack_2', u'sen_placed', u'dn_t']\n",
      "1\n",
      "[u'purchase_time', u'lane_efficiency', u'gold', u'sentry_kills', u'lane_efficiency_pct', u'actions', u'damage_inflictor_received', u'lh_t', u'damage_taken', u'kill_streaks', u'cosmetics', u'hero_id', u'necronomicon_kills', u'kills_log', u'sentry_uses', u'account_id', u'kills', u'kills_per_min', u'start_time', u'isRadiant', u'backpack_1', u'backpack_0', u'leaver_status', u'killed', u'stuns', u'gold_per_min', u'level', u'actions_per_min', u'damage_inflictor', u'life_state_dead', u'patch', u'item_4', u'item_5', u'item_2', u'item_3', u'item_0', u'lose', u'sen_left_log', u'buyback_count', u'obs_placed', u'match_id', u'kda', u'pings', u'gold_reasons', u'total_gold', u'item_uses', u'duration', u'sen', u'lobby_type', u'denies', u'ancient_kills', u'killed_by', u'neutral_kills', u'permanent_buffs', u'gold_t', u'xp_per_min', u'ability_uses', u'item_1', u'abandons', u'rune_pickups', u'assists', u'obs_left_log', u'xp_reasons', u'purchase_log', u'purchase_ward_sentry', u'region', u'obs_log', u'times', u'hero_kills', u'obs', u'win', u'purchase_tpscroll', u'radiant_win', u'runes', u'game_mode', u'ability_upgrades_arr', u'observer_uses', u'item_win', u'item_usage', u'party_id', u'hero_healing', u'life_state', u'xp_t', u'benchmarks', u'courier_kills', u'buyback_log', u'tower_kills', u'additional_units', u'gold_spent', u'deaths', u'cluster', u'last_hits', u'total_xp', u'player_slot', u'creeps_stacked', u'multi_kills', u'camps_stacked', u'first_purchase_time', u'damage', u'sen_log', u'hero_hits', u'solo_competitive_rank', u'tower_damage', u'lane_kills', u'hero_damage', u'roshan_kills', u'max_hero_hit', u'observer_kills', u'lane_role', u'lane_pos', u'purchase', u'lane', u'backpack_2', u'sen_placed', u'dn_t']\n",
      "3\n",
      "[u'purchase_time', u'lane_efficiency', u'gold', u'sentry_kills', u'lane_efficiency_pct', u'actions', u'damage_inflictor_received', u'lh_t', u'damage_taken', u'kill_streaks', u'cosmetics', u'hero_id', u'necronomicon_kills', u'kills_log', u'sentry_uses', u'account_id', u'kills', u'kills_per_min', u'start_time', u'isRadiant', u'backpack_1', u'backpack_0', u'leaver_status', u'killed', u'stuns', u'gold_per_min', u'level', u'actions_per_min', u'damage_inflictor', u'life_state_dead', u'patch', u'item_4', u'item_5', u'item_2', u'item_3', u'item_0', u'lose', u'sen_left_log', u'buyback_count', u'obs_placed', u'match_id', u'kda', u'pings', u'gold_reasons', u'total_gold', u'item_uses', u'duration', u'sen', u'lobby_type', u'denies', u'ancient_kills', u'killed_by', u'neutral_kills', u'permanent_buffs', u'gold_t', u'xp_per_min', u'ability_uses', u'item_1', u'abandons', u'rune_pickups', u'assists', u'obs_left_log', u'xp_reasons', u'purchase_log', u'purchase_ward_sentry', u'region', u'obs_log', u'times', u'hero_kills', u'obs', u'win', u'purchase_tpscroll', u'radiant_win', u'runes', u'game_mode', u'ability_upgrades_arr', u'observer_uses', u'item_win', u'item_usage', u'party_id', u'hero_healing', u'life_state', u'xp_t', u'benchmarks', u'courier_kills', u'buyback_log', u'tower_kills', u'additional_units', u'gold_spent', u'deaths', u'cluster', u'purchase_ward_observer', u'last_hits', u'total_xp', u'player_slot', u'creeps_stacked', u'multi_kills', u'camps_stacked', u'first_purchase_time', u'damage', u'sen_log', u'hero_hits', u'solo_competitive_rank', u'tower_damage', u'lane_kills', u'hero_damage', u'roshan_kills', u'max_hero_hit', u'observer_kills', u'lane_role', u'lane_pos', u'purchase', u'lane', u'backpack_2', u'sen_placed', u'dn_t']\n",
      "2\n",
      "[u'purchase_time', u'lane_efficiency', u'gold', u'sentry_kills', u'lane_efficiency_pct', u'actions', u'damage_inflictor_received', u'lh_t', u'damage_taken', u'kill_streaks', u'cosmetics', u'hero_id', u'necronomicon_kills', u'kills_log', u'sentry_uses', u'account_id', u'kills', u'kills_per_min', u'start_time', u'isRadiant', u'backpack_1', u'backpack_0', u'leaver_status', u'killed', u'stuns', u'gold_per_min', u'name', u'level', u'actions_per_min', u'damage_inflictor', u'life_state_dead', u'patch', u'item_4', u'item_5', u'item_2', u'item_3', u'item_0', u'lose', u'sen_left_log', u'buyback_count', u'obs_placed', u'match_id', u'kda', u'pings', u'gold_reasons', u'total_gold', u'item_uses', u'duration', u'sen', u'lobby_type', u'denies', u'ancient_kills', u'killed_by', u'neutral_kills', u'permanent_buffs', u'last_login', u'gold_t', u'xp_per_min', u'ability_uses', u'item_1', u'abandons', u'rune_pickups', u'assists', u'obs_left_log', u'xp_reasons', u'purchase_log', u'purchase_ward_sentry', u'region', u'obs_log', u'times', u'hero_kills', u'obs', u'win', u'purchase_tpscroll', u'radiant_win', u'runes', u'game_mode', u'ability_upgrades_arr', u'observer_uses', u'item_win', u'item_usage', u'party_id', u'hero_healing', u'life_state', u'xp_t', u'benchmarks', u'courier_kills', u'buyback_log', u'tower_kills', u'additional_units', u'gold_spent', u'deaths', u'cluster', u'purchase_ward_observer', u'last_hits', u'total_xp', u'player_slot', u'creeps_stacked', u'multi_kills', u'camps_stacked', u'first_purchase_time', u'damage', u'sen_log', u'hero_hits', u'solo_competitive_rank', u'tower_damage', u'lane_kills', u'hero_damage', u'personaname', u'roshan_kills', u'max_hero_hit', u'observer_kills', u'lane_role', u'lane_pos', u'purchase', u'lane', u'backpack_2', u'sen_placed', u'dn_t']\n",
      "1\n",
      "[u'purchase_time', u'lane_efficiency', u'gold', u'sentry_kills', u'lane_efficiency_pct', u'actions', u'damage_inflictor_received', u'lh_t', u'damage_taken', u'kill_streaks', u'cosmetics', u'hero_id', u'necronomicon_kills', u'kills_log', u'sentry_uses', u'account_id', u'kills', u'kills_per_min', u'start_time', u'isRadiant', u'backpack_1', u'backpack_0', u'leaver_status', u'killed', u'stuns', u'gold_per_min', u'name', u'level', u'actions_per_min', u'damage_inflictor', u'life_state_dead', u'patch', u'item_4', u'item_5', u'item_2', u'item_3', u'item_0', u'lose', u'sen_left_log', u'buyback_count', u'obs_placed', u'match_id', u'kda', u'pings', u'gold_reasons', u'total_gold', u'item_uses', u'duration', u'sen', u'lobby_type', u'denies', u'ancient_kills', u'killed_by', u'neutral_kills', u'permanent_buffs', u'last_login', u'gold_t', u'xp_per_min', u'ability_uses', u'item_1', u'abandons', u'rune_pickups', u'assists', u'obs_left_log', u'xp_reasons', u'purchase_log', u'purchase_ward_sentry', u'region', u'obs_log', u'times', u'hero_kills', u'obs', u'win', u'purchase_tpscroll', u'radiant_win', u'runes', u'game_mode', u'ability_upgrades_arr', u'observer_uses', u'item_win', u'item_usage', u'party_id', u'hero_healing', u'life_state', u'xp_t', u'benchmarks', u'courier_kills', u'buyback_log', u'tower_kills', u'additional_units', u'gold_spent', u'deaths', u'cluster', u'last_hits', u'total_xp', u'player_slot', u'creeps_stacked', u'multi_kills', u'camps_stacked', u'first_purchase_time', u'damage', u'sen_log', u'hero_hits', u'solo_competitive_rank', u'tower_damage', u'lane_kills', u'hero_damage', u'personaname', u'roshan_kills', u'max_hero_hit', u'observer_kills', u'lane_role', u'lane_pos', u'purchase', u'lane', u'backpack_2', u'sen_placed', u'dn_t']\n",
      "1\n",
      "[u'purchase_time', u'lane_efficiency', u'gold', u'sentry_kills', u'lane_efficiency_pct', u'actions', u'damage_inflictor_received', u'lh_t', u'damage_taken', u'kill_streaks', u'cosmetics', u'hero_id', u'necronomicon_kills', u'kills_log', u'sentry_uses', u'account_id', u'kills', u'kills_per_min', u'start_time', u'isRadiant', u'backpack_1', u'backpack_0', u'leaver_status', u'killed', u'stuns', u'gold_per_min', u'level', u'actions_per_min', u'damage_inflictor', u'life_state_dead', u'patch', u'item_4', u'item_5', u'item_2', u'item_3', u'item_0', u'lose', u'sen_left_log', u'buyback_count', u'obs_placed', u'match_id', u'kda', u'pings', u'gold_reasons', u'total_gold', u'item_uses', u'duration', u'sen', u'lobby_type', u'denies', u'ancient_kills', u'killed_by', u'neutral_kills', u'permanent_buffs', u'gold_t', u'xp_per_min', u'ability_uses', u'item_1', u'abandons', u'rune_pickups', u'assists', u'obs_left_log', u'xp_reasons', u'purchase_log', u'purchase_ward_sentry', u'region', u'obs_log', u'times', u'hero_kills', u'obs', u'win', u'purchase_tpscroll', u'radiant_win', u'runes', u'game_mode', u'ability_upgrades_arr', u'observer_uses', u'item_win', u'item_usage', u'party_id', u'hero_healing', u'life_state', u'xp_t', u'benchmarks', u'courier_kills', u'buyback_log', u'tower_kills', u'additional_units', u'gold_spent', u'deaths', u'cluster', u'last_hits', u'total_xp', u'player_slot', u'creeps_stacked', u'multi_kills', u'camps_stacked', u'first_purchase_time', u'damage', u'sen_log', u'hero_hits', u'solo_competitive_rank', u'tower_damage', u'lane_kills', u'hero_damage', u'roshan_kills', u'max_hero_hit', u'observer_kills', u'lane_role', u'lane_pos', u'purchase', u'lane', u'backpack_2', u'sen_placed', u'dn_t']\n",
      "3\n",
      "[u'gold', u'actions', u'damage_inflictor_received', u'lh_t', u'damage_taken', u'kill_streaks', u'cosmetics', u'hero_id', u'kills_log', u'account_id', u'kills', u'kills_per_min', u'start_time', u'isRadiant', u'backpack_1', u'backpack_0', u'leaver_status', u'killed', u'stuns', u'gold_per_min', u'level', u'damage_inflictor', u'patch', u'item_4', u'item_5', u'item_2', u'item_3', u'item_0', u'lose', u'sen_left_log', u'obs_placed', u'match_id', u'kda', u'pings', u'gold_reasons', u'total_gold', u'item_uses', u'duration', u'sen', u'lobby_type', u'denies', u'killed_by', u'permanent_buffs', u'gold_t', u'xp_per_min', u'ability_uses', u'item_1', u'abandons', u'rune_pickups', u'assists', u'obs_left_log', u'xp_reasons', u'purchase_log', u'region', u'obs_log', u'times', u'obs', u'win', u'radiant_win', u'runes', u'game_mode', u'ability_upgrades_arr', u'party_id', u'hero_healing', u'life_state', u'xp_t', u'benchmarks', u'buyback_log', u'additional_units', u'gold_spent', u'deaths', u'cluster', u'last_hits', u'total_xp', u'player_slot', u'creeps_stacked', u'multi_kills', u'camps_stacked', u'damage', u'sen_log', u'hero_hits', u'solo_competitive_rank', u'tower_damage', u'hero_damage', u'max_hero_hit', u'lane_pos', u'purchase', u'backpack_2', u'sen_placed', u'dn_t']\n"
     ]
    },
    {
     "ename": "KeyError",
     "evalue": "'lane_role'",
     "output_type": "error",
     "traceback": [
      "\u001b[0;31m---------------------------------------------------------------------------\u001b[0m",
      "\u001b[0;31mKeyError\u001b[0m                                  Traceback (most recent call last)",
      "\u001b[0;32m<ipython-input-51-6d723dfd46cb>\u001b[0m in \u001b[0;36m<module>\u001b[0;34m()\u001b[0m\n\u001b[1;32m      9\u001b[0m         \u001b[0;32mraise\u001b[0m \u001b[0mException\u001b[0m\u001b[0;34m(\u001b[0m\u001b[0;34m\"Status code is {0}\"\u001b[0m\u001b[0;34m.\u001b[0m\u001b[0mformat\u001b[0m\u001b[0;34m(\u001b[0m\u001b[0mresponse\u001b[0m\u001b[0;34m.\u001b[0m\u001b[0mstatus_code\u001b[0m\u001b[0;34m)\u001b[0m\u001b[0;34m)\u001b[0m\u001b[0;34m\u001b[0m\u001b[0m\n\u001b[1;32m     10\u001b[0m     \u001b[0mmatch\u001b[0m \u001b[0;34m=\u001b[0m \u001b[0mjson\u001b[0m\u001b[0;34m.\u001b[0m\u001b[0mloads\u001b[0m\u001b[0;34m(\u001b[0m\u001b[0mresponse\u001b[0m\u001b[0;34m.\u001b[0m\u001b[0mcontent\u001b[0m\u001b[0;34m)\u001b[0m\u001b[0;34m\u001b[0m\u001b[0m\n\u001b[0;32m---> 11\u001b[0;31m     \u001b[0mrelevantMatch\u001b[0m \u001b[0;34m=\u001b[0m \u001b[0mextractDotaInformation\u001b[0m\u001b[0;34m(\u001b[0m\u001b[0mmatch\u001b[0m\u001b[0;34m)\u001b[0m\u001b[0;34m\u001b[0m\u001b[0m\n\u001b[0m\u001b[1;32m     12\u001b[0m     \u001b[0mf\u001b[0m\u001b[0;34m.\u001b[0m\u001b[0mwrite\u001b[0m\u001b[0;34m(\u001b[0m\u001b[0mjson\u001b[0m\u001b[0;34m.\u001b[0m\u001b[0mdumps\u001b[0m\u001b[0;34m(\u001b[0m\u001b[0mrelevantMatch\u001b[0m\u001b[0;34m)\u001b[0m \u001b[0;34m+\u001b[0m \u001b[0;34m'\\n'\u001b[0m\u001b[0;34m)\u001b[0m\u001b[0;34m\u001b[0m\u001b[0m\n\u001b[1;32m     13\u001b[0m \u001b[0;34m\u001b[0m\u001b[0m\n",
      "\u001b[0;32m<ipython-input-50-ef72a289fe9f>\u001b[0m in \u001b[0;36mextractDotaInformation\u001b[0;34m(matchJSON)\u001b[0m\n\u001b[1;32m     19\u001b[0m         \u001b[0;32mprint\u001b[0m \u001b[0mplayer\u001b[0m\u001b[0;34m.\u001b[0m\u001b[0mkeys\u001b[0m\u001b[0;34m(\u001b[0m\u001b[0;34m)\u001b[0m\u001b[0;34m\u001b[0m\u001b[0m\n\u001b[1;32m     20\u001b[0m         \u001b[0;32mif\u001b[0m \u001b[0mplayer\u001b[0m\u001b[0;34m[\u001b[0m\u001b[0;34m'isRadiant'\u001b[0m\u001b[0;34m]\u001b[0m\u001b[0;34m:\u001b[0m\u001b[0;34m\u001b[0m\u001b[0m\n\u001b[0;32m---> 21\u001b[0;31m             \u001b[0mmatchInfo\u001b[0m\u001b[0;34m[\u001b[0m\u001b[0;34m'hero_radiant'\u001b[0m \u001b[0;34m+\u001b[0m \u001b[0mstr\u001b[0m\u001b[0;34m(\u001b[0m\u001b[0mplayer\u001b[0m\u001b[0;34m[\u001b[0m\u001b[0;34m'lane_role'\u001b[0m\u001b[0;34m]\u001b[0m\u001b[0;34m)\u001b[0m\u001b[0;34m]\u001b[0m \u001b[0;34m=\u001b[0m \u001b[0mplayer\u001b[0m\u001b[0;34m[\u001b[0m\u001b[0;34m'hero_id'\u001b[0m\u001b[0;34m]\u001b[0m\u001b[0;34m\u001b[0m\u001b[0m\n\u001b[0m\u001b[1;32m     22\u001b[0m             \u001b[0;32mprint\u001b[0m \u001b[0mplayer\u001b[0m\u001b[0;34m[\u001b[0m\u001b[0;34m'lane_role'\u001b[0m\u001b[0;34m]\u001b[0m\u001b[0;34m\u001b[0m\u001b[0m\n\u001b[1;32m     23\u001b[0m \u001b[0;34m\u001b[0m\u001b[0m\n",
      "\u001b[0;31mKeyError\u001b[0m: 'lane_role'"
     ]
    }
   ],
   "source": [
    "entriesPerFile = 2\n",
    "f = open('data/test_matches_'+str(2853522349)+'.txt', 'wb')\n",
    "\n",
    "for x in range(match_id, match_id + 10):\n",
    "    host = \"https://api.opendota.com/api/matches/\" + str(x)\n",
    "    data = {'match_id': x}\n",
    "    response = requests.get(host, data=data)\n",
    "    if response.status_code != 200:\n",
    "        raise Exception(\"Status code is {0}\".format(response.status_code))\n",
    "    match = json.loads(response.content)\n",
    "    relevantMatch = extractDotaInformation(match)\n",
    "    f.write(json.dumps(relevantMatch) + '\\n')\n",
    "\n",
    "f.close()"
   ]
  },
  {
   "cell_type": "code",
   "execution_count": null,
   "metadata": {
    "collapsed": true
   },
   "outputs": [],
   "source": []
  }
 ],
 "metadata": {
  "kernelspec": {
   "display_name": "Python 2",
   "language": "python",
   "name": "python2"
  },
  "language_info": {
   "codemirror_mode": {
    "name": "ipython",
    "version": 2
   },
   "file_extension": ".py",
   "mimetype": "text/x-python",
   "name": "python",
   "nbconvert_exporter": "python",
   "pygments_lexer": "ipython2",
   "version": "2.7.12"
  }
 },
 "nbformat": 4,
 "nbformat_minor": 2
}
