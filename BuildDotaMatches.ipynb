{
 "cells": [
  {
   "cell_type": "code",
   "execution_count": 7,
   "metadata": {
    "collapsed": true
   },
   "outputs": [],
   "source": [
    "import requests\n",
    "import json"
   ]
  },
  {
   "cell_type": "code",
   "execution_count": 69,
   "metadata": {
    "collapsed": true
   },
   "outputs": [],
   "source": [
    "match_id = 2824476884"
   ]
  },
  {
   "cell_type": "code",
   "execution_count": 70,
   "metadata": {
    "collapsed": false
   },
   "outputs": [],
   "source": [
    "host = \"https://api.opendota.com/api/matches/\" + str(match_id)\n",
    "data = {'match_id': match_id}"
   ]
  },
  {
   "cell_type": "code",
   "execution_count": 71,
   "metadata": {
    "collapsed": true
   },
   "outputs": [],
   "source": [
    "request = requests.get(host, data=data)"
   ]
  },
  {
   "cell_type": "code",
   "execution_count": 72,
   "metadata": {
    "collapsed": false
   },
   "outputs": [
    {
     "data": {
      "text/plain": [
       "200"
      ]
     },
     "execution_count": 72,
     "metadata": {},
     "output_type": "execute_result"
    }
   ],
   "source": [
    "request.status_code"
   ]
  },
  {
   "cell_type": "code",
   "execution_count": 73,
   "metadata": {
    "collapsed": false
   },
   "outputs": [],
   "source": [
    "match_data = request.content\n",
    "match_data = json.loads(match_data)"
   ]
  },
  {
   "cell_type": "code",
   "execution_count": 74,
   "metadata": {
    "collapsed": false
   },
   "outputs": [
    {
     "data": {
      "text/plain": [
       "[u'replay_url',\n",
       " u'barracks_status_dire',\n",
       " u'match_id',\n",
       " u'barracks_status_radiant',\n",
       " u'cluster',\n",
       " u'replay_salt',\n",
       " u'first_blood_time',\n",
       " u'chat',\n",
       " u'game_mode',\n",
       " u'duration',\n",
       " u'radiant_win',\n",
       " u'lobby_type',\n",
       " u'tower_status_dire',\n",
       " u'teamfights',\n",
       " u'series_type',\n",
       " u'objectives',\n",
       " u'all_word_counts',\n",
       " u'version',\n",
       " u'cosmetics',\n",
       " u'leagueid',\n",
       " u'engine',\n",
       " u'human_players',\n",
       " u'loss',\n",
       " u'start_time',\n",
       " u'match_seq_num',\n",
       " u'series_id',\n",
       " u'tower_status_radiant',\n",
       " u'negative_votes',\n",
       " u'throw',\n",
       " u'picks_bans',\n",
       " u'positive_votes',\n",
       " u'my_word_counts',\n",
       " u'radiant_xp_adv',\n",
       " u'region',\n",
       " u'patch',\n",
       " u'radiant_gold_adv',\n",
       " u'players']"
      ]
     },
     "execution_count": 74,
     "metadata": {},
     "output_type": "execute_result"
    }
   ],
   "source": [
    "match_data.keys()"
   ]
  },
  {
   "cell_type": "markdown",
   "metadata": {},
   "source": [
    "Fields of interest in match:\n",
    "    1. version AND patch\n",
    "    2. positive_votes and negative_votes\n",
    "    3. first_blood_time\n",
    "    4. barracks_status_radiant\n",
    "    5. barracks_status_dire\n",
    "    6. radiant_win\n",
    "    7. possibly teamfights in the future"
   ]
  },
  {
   "cell_type": "code",
   "execution_count": 82,
   "metadata": {
    "collapsed": false
   },
   "outputs": [
    {
     "name": "stdout",
     "output_type": "stream",
     "text": [
      "[{u'start': 78, u'players': [{u'buybacks': 0, u'xp_delta': 337, u'ability_uses': {u'faceless_void_time_walk': 1}, u'deaths': 1, u'xp_end': 449, u'damage': 46, u'xp_start': 112, u'deaths_pos': {u'76': {u'156': 1}}, u'gold_delta': 17, u'healing': 163, u'item_uses': {u'tpscroll': 1}, u'killed': {}}, {u'buybacks': 0, u'xp_delta': 151, u'ability_uses': {u'silencer_curse_of_the_silent': 2}, u'deaths': 0, u'xp_end': 308, u'damage': 571, u'xp_start': 157, u'deaths_pos': {}, u'gold_delta': 527, u'healing': 0, u'item_uses': {}, u'killed': {u'npc_dota_hero_razor': 1, u'npc_dota_hero_weaver': 1}}, {u'buybacks': 0, u'xp_delta': 495, u'ability_uses': {u'alchemist_acid_spray': 2}, u'deaths': 1, u'xp_end': 697, u'damage': 427, u'xp_start': 202, u'deaths_pos': {u'118': {u'122': 1}}, u'gold_delta': -34, u'healing': 0, u'item_uses': {}, u'killed': {}}, {u'buybacks': 0, u'xp_delta': 193, u'ability_uses': {u'antimage_blink': 2}, u'deaths': 1, u'xp_end': 350, u'damage': 119, u'xp_start': 157, u'deaths_pos': {u'174': {u'92': 1}}, u'gold_delta': 82, u'healing': 70, u'item_uses': {u'flask': 1, u'tango': 1, u'tpscroll': 1}, u'killed': {}}, {u'buybacks': 0, u'xp_delta': 151, u'ability_uses': {u'mirana_arrow': 2}, u'deaths': 0, u'xp_end': 286, u'damage': 269, u'xp_start': 135, u'deaths_pos': {}, u'gold_delta': 200, u'healing': 0, u'item_uses': {u'clarity': 1}, u'killed': {}}, {u'buybacks': 0, u'xp_delta': 246, u'ability_uses': {}, u'deaths': 1, u'xp_end': 358, u'damage': 0, u'xp_start': 112, u'deaths_pos': {u'174': {u'114': 1}}, u'gold_delta': -29, u'healing': 0, u'item_uses': {u'tpscroll': 1}, u'killed': {}}, {u'buybacks': 0, u'xp_delta': 605, u'ability_uses': {u'juggernaut_healing_ward': 1, u'juggernaut_blade_fury': 1}, u'deaths': 0, u'xp_end': 1055, u'damage': 575, u'xp_start': 450, u'deaths_pos': {}, u'gold_delta': 405, u'healing': 0, u'item_uses': {u'tango': 1}, u'killed': {u'npc_dota_hero_alchemist': 1}}, {u'buybacks': 0, u'xp_delta': 369, u'ability_uses': {u'storm_spirit_static_remnant': 3}, u'deaths': 0, u'xp_end': 682, u'damage': 460, u'xp_start': 313, u'deaths_pos': {}, u'gold_delta': 199, u'healing': 0, u'item_uses': {u'tango': 1}, u'killed': {}}, {u'buybacks': 0, u'xp_delta': 378, u'ability_uses': {u'witch_doctor_paralyzing_cask': 1, u'witch_doctor_maledict': 1}, u'deaths': 0, u'xp_end': 511, u'damage': 410, u'xp_start': 133, u'deaths_pos': {}, u'gold_delta': 293, u'healing': 0, u'item_uses': {}, u'killed': {u'npc_dota_hero_faceless_void': 1}}, {u'buybacks': 0, u'xp_delta': 406, u'ability_uses': {u'weaver_shukuchi': 2}, u'deaths': 1, u'xp_end': 473, u'damage': 351, u'xp_start': 67, u'deaths_pos': {u'168': {u'98': 1}}, u'gold_delta': 222, u'healing': 0, u'item_uses': {}, u'killed': {u'npc_dota_hero_antimage': 1}}], u'end': 142, u'last_death': 127, u'deaths': 5}, {u'start': 364, u'players': [{u'buybacks': 0, u'xp_delta': 294, u'ability_uses': {u'faceless_void_time_walk': 1, u'faceless_void_time_dilation': 1, u'faceless_void_chronosphere': 1}, u'deaths': 1, u'xp_end': 2382, u'damage': 387, u'xp_start': 2088, u'deaths_pos': {u'84': {u'154': 1}}, u'gold_delta': 126, u'healing': 225, u'item_uses': {u'magic_wand': 1, u'tango': 1}, u'killed': {u'npc_dota_hero_witch_doctor': 1}}, {u'buybacks': 0, u'xp_delta': 337, u'ability_uses': {u'silencer_curse_of_the_silent': 1}, u'deaths': 0, u'xp_end': 1026, u'damage': 240, u'xp_start': 689, u'deaths_pos': {}, u'gold_delta': 73, u'healing': 0, u'item_uses': {}, u'killed': {}}, {u'buybacks': 0, u'xp_delta': 67, u'ability_uses': {}, u'deaths': 1, u'xp_end': 2336, u'damage': 0, u'xp_start': 2269, u'deaths_pos': {u'118': {u'112': 1}}, u'gold_delta': -179, u'healing': 2, u'item_uses': {u'bottle': 2, u'tpscroll': 1}, u'killed': {}}, {u'buybacks': 0, u'xp_delta': 222, u'ability_uses': {}, u'deaths': 0, u'xp_end': 1614, u'damage': 0, u'xp_start': 1392, u'deaths_pos': {}, u'gold_delta': 323, u'healing': 0, u'item_uses': {}, u'killed': {}}, {u'buybacks': 0, u'xp_delta': 222, u'ability_uses': {u'mirana_arrow': 1}, u'deaths': 0, u'xp_end': 1280, u'damage': 122, u'xp_start': 1058, u'deaths_pos': {}, u'gold_delta': 0, u'healing': 30, u'item_uses': {u'tango': 1, u'magic_stick': 2}, u'killed': {}}, {u'buybacks': 0, u'xp_delta': 342, u'ability_uses': {u'razor_static_link': 1, u'razor_plasma_field': 1}, u'deaths': 0, u'xp_end': 1601, u'damage': 116, u'xp_start': 1259, u'deaths_pos': {}, u'gold_delta': 290, u'healing': 0, u'item_uses': {u'ward_dispenser': 3}, u'killed': {}}, {u'buybacks': 0, u'xp_delta': 252, u'ability_uses': {u'juggernaut_blade_fury': 1, u'juggernaut_omni_slash': 1}, u'deaths': 0, u'xp_end': 2946, u'damage': 778, u'xp_start': 2694, u'deaths_pos': {}, u'gold_delta': 357, u'healing': 0, u'item_uses': {u'phase_boots': 3}, u'killed': {u'npc_dota_hero_alchemist': 1}}, {u'buybacks': 0, u'xp_delta': 781, u'ability_uses': {u'storm_spirit_static_remnant': 6}, u'deaths': 0, u'xp_end': 2392, u'damage': 960, u'xp_start': 1611, u'deaths_pos': {}, u'gold_delta': 703, u'healing': 0, u'item_uses': {u'soul_ring': 2, u'tango': 1}, u'killed': {u'npc_dota_hero_faceless_void': 1}}, {u'buybacks': 0, u'xp_delta': 66, u'ability_uses': {u'witch_doctor_paralyzing_cask': 1, u'witch_doctor_maledict': 1}, u'deaths': 1, u'xp_end': 1337, u'damage': 222, u'xp_start': 1271, u'deaths_pos': {u'82': {u'154': 1}}, u'gold_delta': -119, u'healing': 0, u'item_uses': {u'arcane_boots': 1}, u'killed': {}}, {u'buybacks': 0, u'xp_delta': 315, u'ability_uses': {u'weaver_shukuchi': 2}, u'deaths': 0, u'xp_end': 1539, u'damage': 121, u'xp_start': 1269, u'deaths_pos': {}, u'gold_delta': 40, u'healing': 0, u'item_uses': {}, u'killed': {}}], u'end': 410, u'last_death': 395, u'deaths': 3}, {u'start': 551, u'players': [{u'buybacks': 0, u'xp_delta': 225, u'ability_uses': {}, u'deaths': 0, u'xp_end': 3189, u'damage': 53, u'xp_start': 2964, u'deaths_pos': {}, u'gold_delta': 127, u'healing': 0, u'item_uses': {}, u'killed': {}}, {u'buybacks': 0, u'xp_delta': 232, u'ability_uses': {u'silencer_last_word': 1, u'silencer_curse_of_the_silent': 1}, u'deaths': 1, u'xp_end': 1716, u'damage': 882, u'xp_start': 1484, u'deaths_pos': {u'174': {u'94': 1}}, u'gold_delta': 389, u'healing': 135, u'item_uses': {u'magic_wand': 1}, u'killed': {u'npc_dota_hero_weaver': 1}}, {u'buybacks': 0, u'xp_delta': 432, u'ability_uses': {u'alchemist_chemical_rage': 1}, u'deaths': 0, u'xp_end': 4083, u'damage': 75, u'xp_start': 3651, u'deaths_pos': {}, u'gold_delta': 419, u'healing': 0, u'item_uses': {u'quelling_blade': 1, u'armlet': 1}, u'killed': {}}, {u'buybacks': 0, u'xp_delta': 254, u'ability_uses': {u'antimage_blink': 2, u'antimage_mana_void': 1}, u'deaths': 0, u'xp_end': 2481, u'damage': 717, u'xp_start': 2249, u'deaths_pos': {}, u'gold_delta': 280, u'healing': 0, u'item_uses': {u'tango': 1}, u'killed': {u'npc_dota_hero_witch_doctor': 1}}, {u'buybacks': 0, u'xp_delta': 112, u'ability_uses': {u'mirana_invis': 1}, u'deaths': 0, u'xp_end': 2233, u'damage': 0, u'xp_start': 2143, u'deaths_pos': {}, u'gold_delta': 48, u'healing': 0, u'item_uses': {}, u'killed': {}}, {u'buybacks': 0, u'xp_delta': 193, u'ability_uses': {u'razor_plasma_field': 1}, u'deaths': 0, u'xp_end': 1957, u'damage': 38, u'xp_start': 1764, u'deaths_pos': {}, u'gold_delta': 47, u'healing': 0, u'item_uses': {u'tpscroll': 1}, u'killed': {}}, {u'buybacks': 0, u'xp_delta': 111, u'ability_uses': {}, u'deaths': 0, u'xp_end': 3939, u'damage': 0, u'xp_start': 3828, u'deaths_pos': {}, u'gold_delta': 165, u'healing': 0, u'item_uses': {u'phase_boots': 3, u'tpscroll': 1}, u'killed': {}}, {u'buybacks': 0, u'xp_delta': 349, u'ability_uses': {u'storm_spirit_static_remnant': 2}, u'deaths': 0, u'xp_end': 3185, u'damage': 54, u'xp_start': 2836, u'deaths_pos': {}, u'gold_delta': 207, u'healing': 0, u'item_uses': {u'soul_ring': 1}, u'killed': {}}, {u'buybacks': 0, u'xp_delta': 15, u'ability_uses': {u'witch_doctor_voodoo_restoration': 1, u'witch_doctor_paralyzing_cask': 1, u'witch_doctor_maledict': 1}, u'deaths': 1, u'xp_end': 1863, u'damage': 381, u'xp_start': 1848, u'deaths_pos': {u'172': {u'94': 1}}, u'gold_delta': -149, u'healing': 142, u'item_uses': {u'arcane_boots': 1}, u'killed': {}}, {u'buybacks': 0, u'xp_delta': 366, u'ability_uses': {u'weaver_shukuchi': 2, u'weaver_the_swarm': 1, u'weaver_time_lapse': 1}, u'deaths': 1, u'xp_end': 2735, u'damage': 595, u'xp_start': 2369, u'deaths_pos': {u'172': {u'112': 1}}, u'gold_delta': 260, u'healing': 0, u'item_uses': {u'tango': 1}, u'killed': {u'npc_dota_hero_silencer': 1}}], u'end': 591, u'last_death': 576, u'deaths': 3}, {u'start': 1454, u'players': [{u'buybacks': 0, u'xp_delta': 522, u'ability_uses': {u'faceless_void_time_walk': 3, u'faceless_void_time_dilation': 1}, u'deaths': 0, u'xp_end': 9158, u'damage': 866, u'xp_start': 8658, u'deaths_pos': {}, u'gold_delta': 150, u'healing': 405, u'item_uses': {u'mask_of_madness': 1}, u'killed': {}}, {u'buybacks': 0, u'xp_delta': 75, u'ability_uses': {}, u'deaths': 1, u'xp_end': 8627, u'damage': 63, u'xp_start': 8552, u'deaths_pos': {u'174': {u'104': 1}}, u'gold_delta': -359, u'healing': 45, u'item_uses': {u'magic_wand': 1}, u'killed': {}}, {u'buybacks': 0, u'xp_delta': 619, u'ability_uses': {u'alchemist_unstable_concoction': 2, u'alchemist_acid_spray': 1, u'alchemist_unstable_concoction_throw': 2, u'alchemist_chemical_rage': 1}, u'deaths': 0, u'xp_end': 16320, u'damage': 2036, u'xp_start': 15723, u'deaths_pos': {}, u'gold_delta': 241, u'healing': 0, u'item_uses': {u'armlet': 3}, u'killed': {}}, {u'buybacks': 0, u'xp_delta': 360, u'ability_uses': {}, u'deaths': 0, u'xp_end': 12235, u'damage': 0, u'xp_start': 11875, u'deaths_pos': {}, u'gold_delta': 259, u'healing': 0, u'item_uses': {u'tpscroll': 1}, u'killed': {}}, {u'buybacks': 0, u'xp_delta': 597, u'ability_uses': {u'mirana_arrow': 1}, u'deaths': 1, u'xp_end': 7023, u'damage': 525, u'xp_start': 6426, u'deaths_pos': {u'172': {u'106': 1}}, u'gold_delta': 51, u'healing': 15, u'item_uses': {u'magic_stick': 1}, u'killed': {u'npc_dota_hero_juggernaut': 1}}, {u'buybacks': 0, u'xp_delta': 0, u'ability_uses': {}, u'deaths': 0, u'xp_end': 7360, u'damage': 0, u'xp_start': 7360, u'deaths_pos': {}, u'gold_delta': 0, u'healing': 0, u'item_uses': {u'tpscroll': 1}, u'killed': {}}, {u'buybacks': 0, u'xp_delta': 957, u'ability_uses': {u'juggernaut_blade_fury': 1, u'juggernaut_omni_slash': 1}, u'deaths': 1, u'xp_end': 11096, u'damage': 1197, u'xp_start': 10139, u'deaths_pos': {u'174': {u'112': 1}}, u'gold_delta': 127, u'healing': 0, u'item_uses': {u'phase_boots': 1}, u'killed': {}}, {u'buybacks': 0, u'xp_delta': 2030, u'ability_uses': {u'storm_spirit_static_remnant': 3, u'storm_spirit_ball_lightning': 3, u'storm_spirit_electric_vortex': 1}, u'deaths': 0, u'xp_end': 13326, u'damage': 1154, u'xp_start': 11296, u'deaths_pos': {}, u'gold_delta': 744, u'healing': 451, u'item_uses': {u'bloodstone': 1}, u'killed': {u'npc_dota_hero_silencer': 1, u'npc_dota_hero_mirana': 1}}, {u'buybacks': 0, u'xp_delta': 0, u'ability_uses': {}, u'deaths': 0, u'xp_end': 4500, u'damage': 61, u'xp_start': 4500, u'deaths_pos': {}, u'gold_delta': 0, u'healing': 0, u'item_uses': {u'tpscroll': 1}, u'killed': {}}, {u'buybacks': 0, u'xp_delta': 85, u'ability_uses': {u'weaver_shukuchi': 2, u'weaver_the_swarm': 1}, u'deaths': 0, u'xp_end': 6805, u'damage': 0, u'xp_start': 6720, u'deaths_pos': {}, u'gold_delta': 44, u'healing': 0, u'item_uses': {}, u'killed': {}}], u'end': 1487, u'last_death': 1472, u'deaths': 3}, {u'start': 1532, u'players': [{u'buybacks': 0, u'xp_delta': 2277, u'ability_uses': {u'faceless_void_time_walk': 1, u'faceless_void_time_dilation': 1, u'faceless_void_chronosphere': 1}, u'deaths': 0, u'xp_end': 11693, u'damage': 2388, u'xp_start': 9416, u'deaths_pos': {}, u'gold_delta': 1021, u'healing': 1048, u'item_uses': {u'mask_of_madness': 1, u'magic_wand': 1}, u'killed': {u'npc_dota_hero_witch_doctor': 1, u'npc_dota_hero_weaver': 1}}, {u'buybacks': 0, u'xp_delta': 691, u'ability_uses': {u'silencer_last_word': 1, u'silencer_global_silence': 1, u'silencer_curse_of_the_silent': 1}, u'deaths': 1, u'xp_end': 9318, u'damage': 221, u'xp_start': 8627, u'deaths_pos': {u'172': {u'80': 1}}, u'gold_delta': -3, u'healing': 60, u'item_uses': {u'cyclone': 1, u'hand_of_midas': 1, u'magic_wand': 1}, u'killed': {}}, {u'buybacks': 0, u'xp_delta': 270, u'ability_uses': {u'alchemist_unstable_concoction': 1, u'alchemist_chemical_rage': 1}, u'deaths': 0, u'xp_end': 16679, u'damage': 607, u'xp_start': 16409, u'deaths_pos': {}, u'gold_delta': 246, u'healing': 47, u'item_uses': {u'travel_boots': 1, u'armlet': 1}, u'killed': {}}, {u'buybacks': 0, u'xp_delta': 1090, u'ability_uses': {u'antimage_blink': 4}, u'deaths': 0, u'xp_end': 14433, u'damage': 0, u'xp_start': 13343, u'deaths_pos': {}, u'gold_delta': 698, u'healing': 0, u'item_uses': {u'tpscroll': 1}, u'killed': {}}, {u'buybacks': 0, u'xp_delta': 0, u'ability_uses': {u'mirana_arrow': 1, u'mirana_starfall': 1, u'mirana_leap': 1}, u'deaths': 1, u'xp_end': 7023, u'damage': 200, u'xp_start': 7023, u'deaths_pos': {u'102': {u'104': 1}}, u'gold_delta': -329, u'healing': 165, u'item_uses': {u'magic_stick': 1, u'bottle': 1, u'tpscroll': 1}, u'killed': {}}, {u'buybacks': 0, u'xp_delta': 308, u'ability_uses': {u'razor_plasma_field': 1}, u'deaths': 0, u'xp_end': 8658, u'damage': 0, u'xp_start': 8350, u'deaths_pos': {}, u'gold_delta': 337, u'healing': 0, u'item_uses': {}, u'killed': {}}, {u'buybacks': 0, u'xp_delta': 894, u'ability_uses': {}, u'deaths': 0, u'xp_end': 11990, u'damage': 424, u'xp_start': 11096, u'deaths_pos': {}, u'gold_delta': 639, u'healing': 0, u'item_uses': {u'phase_boots': 4, u'manta': 1, u'ring_of_aquila': 2}, u'killed': {}}, {u'buybacks': 0, u'xp_delta': 1253, u'ability_uses': {u'storm_spirit_static_remnant': 4, u'storm_spirit_ball_lightning': 5, u'storm_spirit_electric_vortex': 1}, u'deaths': 0, u'xp_end': 15206, u'damage': 1437, u'xp_start': 13954, u'deaths_pos': {}, u'gold_delta': 801, u'healing': 0, u'item_uses': {}, u'killed': {u'npc_dota_hero_mirana': 1}}, {u'buybacks': 0, u'xp_delta': 44, u'ability_uses': {u'witch_doctor_voodoo_restoration': 1}, u'deaths': 1, u'xp_end': 5643, u'damage': 47, u'xp_start': 5599, u'deaths_pos': {u'180': {u'92': 1}}, u'gold_delta': -139, u'healing': 238, u'item_uses': {}, u'killed': {}}, {u'buybacks': 0, u'xp_delta': 1543, u'ability_uses': {u'weaver_shukuchi': 3, u'weaver_the_swarm': 1, u'weaver_time_lapse': 1}, u'deaths': 1, u'xp_end': 9357, u'damage': 1555, u'xp_start': 7814, u'deaths_pos': {u'174': {u'86': 1}}, u'gold_delta': 504, u'healing': 0, u'item_uses': {}, u'killed': {u'npc_dota_hero_silencer': 1}}], u'end': 1583, u'last_death': 1568, u'deaths': 4}, {u'start': 1583, u'players': [{u'buybacks': 0, u'xp_delta': 90, u'ability_uses': {u'faceless_void_time_walk': 1, u'faceless_void_time_dilation': 1}, u'deaths': 1, u'xp_end': 11783, u'damage': 0, u'xp_start': 11693, u'deaths_pos': {u'182': {u'102': 1}}, u'gold_delta': -332, u'healing': 584, u'item_uses': {u'magic_wand': 1}, u'killed': {}}, {u'buybacks': 0, u'xp_delta': 0, u'ability_uses': {}, u'deaths': 0, u'xp_end': 9318, u'damage': 0, u'xp_start': 9318, u'deaths_pos': {}, u'gold_delta': 0, u'healing': 0, u'item_uses': {u'tpscroll': 1}, u'killed': {}}, {u'buybacks': 0, u'xp_delta': 1150, u'ability_uses': {u'alchemist_unstable_concoction': 1, u'alchemist_acid_spray': 1, u'alchemist_unstable_concoction_throw': 1}, u'deaths': 1, u'xp_end': 17829, u'damage': 2458, u'xp_start': 16679, u'deaths_pos': {u'128': {u'168': 1}}, u'gold_delta': 251, u'healing': 314, u'item_uses': {}, u'killed': {u'npc_dota_hero_witch_doctor': 1}}, {u'buybacks': 0, u'xp_delta': 207, u'ability_uses': {u'antimage_blink': 1}, u'deaths': 0, u'xp_end': 14640, u'damage': 677, u'xp_start': 14433, u'deaths_pos': {}, u'gold_delta': 132, u'healing': 0, u'item_uses': {u'manta': 1}, u'killed': {}}, {u'buybacks': 0, u'xp_delta': 45, u'ability_uses': {u'mirana_invis': 1, u'mirana_leap': 1}, u'deaths': 0, u'xp_end': 7068, u'damage': 0, u'xp_start': 7023, u'deaths_pos': {}, u'gold_delta': 0, u'healing': 0, u'item_uses': {u'tpscroll': 1}, u'killed': {}}, {u'buybacks': 0, u'xp_delta': 295, u'ability_uses': {}, u'deaths': 0, u'xp_end': 8953, u'damage': 0, u'xp_start': 8658, u'deaths_pos': {}, u'gold_delta': 173, u'healing': 0, u'item_uses': {}, u'killed': {}}, {u'buybacks': 0, u'xp_delta': 2327, u'ability_uses': {u'juggernaut_blade_fury': 1, u'juggernaut_omni_slash': 1}, u'deaths': 0, u'xp_end': 14317, u'damage': 1258, u'xp_start': 11990, u'deaths_pos': {}, u'gold_delta': 1253, u'healing': 0, u'item_uses': {u'phase_boots': 1, u'manta': 1, u'ring_of_aquila': 2}, u'killed': {u'npc_dota_hero_alchemist': 1}}, {u'buybacks': 0, u'xp_delta': 1982, u'ability_uses': {u'storm_spirit_static_remnant': 4, u'storm_spirit_ball_lightning': 4, u'storm_spirit_electric_vortex': 1}, u'deaths': 0, u'xp_end': 17188, u'damage': 1731, u'xp_start': 15206, u'deaths_pos': {}, u'gold_delta': 1000, u'healing': 0, u'item_uses': {u'tpscroll': 1}, u'killed': {u'npc_dota_hero_faceless_void': 1}}, {u'buybacks': 0, u'xp_delta': 66, u'ability_uses': {u'witch_doctor_voodoo_restoration': 1, u'witch_doctor_paralyzing_cask': 1, u'witch_doctor_maledict': 1}, u'deaths': 1, u'xp_end': 5709, u'damage': 375, u'xp_start': 5643, u'deaths_pos': {u'128': {u'170': 1}}, u'gold_delta': -299, u'healing': 36, u'item_uses': {u'tpscroll': 1}, u'killed': {}}, {u'buybacks': 0, u'xp_delta': 0, u'ability_uses': {}, u'deaths': 0, u'xp_end': 9357, u'damage': 0, u'xp_start': 9357, u'deaths_pos': {}, u'gold_delta': 0, u'healing': 0, u'item_uses': {}, u'killed': {}}], u'end': 1622, u'last_death': 1607, u'deaths': 3}, {u'start': 1673, u'players': [{u'buybacks': 0, u'xp_delta': 560, u'ability_uses': {u'faceless_void_time_walk': 2, u'faceless_void_time_dilation': 1}, u'deaths': 0, u'xp_end': 12432, u'damage': 0, u'xp_start': 11873, u'deaths_pos': {}, u'gold_delta': 566, u'healing': 26, u'item_uses': {u'mask_of_madness': 1}, u'killed': {}}, {u'buybacks': 0, u'xp_delta': 1, u'ability_uses': {u'silencer_global_silence': 1}, u'deaths': 1, u'xp_end': 10454, u'damage': 0, u'xp_start': 10454, u'deaths_pos': {u'126': {u'132': 1}}, u'gold_delta': -219, u'healing': 30, u'item_uses': {u'cyclone': 1, u'magic_wand': 1}, u'killed': {}}, {u'buybacks': 0, u'xp_delta': 1403, u'ability_uses': {u'alchemist_unstable_concoction': 2, u'alchemist_acid_spray': 1, u'alchemist_unstable_concoction_throw': 1, u'alchemist_chemical_rage': 1}, u'deaths': 0, u'xp_end': 19230, u'damage': 3549, u'xp_start': 17829, u'deaths_pos': {}, u'gold_delta': 445, u'healing': 164, u'item_uses': {u'travel_boots': 1, u'armlet': 2}, u'killed': {}}, {u'buybacks': 0, u'xp_delta': 1398, u'ability_uses': {u'antimage_blink': 5, u'antimage_mana_void': 1}, u'deaths': 0, u'xp_end': 18968, u'damage': 2222, u'xp_start': 17573, u'deaths_pos': {}, u'gold_delta': 1572, u'healing': 0, u'item_uses': {u'manta': 1}, u'killed': {u'npc_dota_hero_juggernaut': 1, u'npc_dota_hero_witch_doctor': 1}}, {u'buybacks': 0, u'xp_delta': 458, u'ability_uses': {u'mirana_arrow': 1, u'mirana_starfall': 1, u'mirana_leap': 1}, u'deaths': 0, u'xp_end': 7584, u'damage': 622, u'xp_start': 7128, u'deaths_pos': {}, u'gold_delta': 280, u'healing': 60, u'item_uses': {u'bottle': 1, u'magic_stick': 2}, u'killed': {}}, {u'buybacks': 0, u'xp_delta': 90, u'ability_uses': {u'razor_plasma_field': 1}, u'deaths': 0, u'xp_end': 9043, u'damage': 655, u'xp_start': 8953, u'deaths_pos': {}, u'gold_delta': 0, u'healing': 0, u'item_uses': {}, u'killed': {}}, {u'buybacks': 0, u'xp_delta': 706, u'ability_uses': {u'juggernaut_healing_ward': 1, u'juggernaut_blade_fury': 1}, u'deaths': 1, u'xp_end': 15428, u'damage': 444, u'xp_start': 14722, u'deaths_pos': {u'150': {u'142': 1}}, u'gold_delta': -141, u'healing': 0, u'item_uses': {u'phase_boots': 2, u'manta': 1, u'ring_of_aquila': 2}, u'killed': {}}, {u'buybacks': 0, u'xp_delta': 592, u'ability_uses': {u'storm_spirit_static_remnant': 2, u'storm_spirit_ball_lightning': 4}, u'deaths': 0, u'xp_end': 17820, u'damage': 1325, u'xp_start': 17228, u'deaths_pos': {}, u'gold_delta': 398, u'healing': 0, u'item_uses': {u'cyclone': 1, u'tpscroll': 1}, u'killed': {u'npc_dota_hero_silencer': 1}}, {u'buybacks': 0, u'xp_delta': 97, u'ability_uses': {u'witch_doctor_voodoo_restoration': 2, u'witch_doctor_death_ward': 1, u'witch_doctor_paralyzing_cask': 2, u'witch_doctor_maledict': 1}, u'deaths': 1, u'xp_end': 5806, u'damage': 664, u'xp_start': 5709, u'deaths_pos': {u'136': {u'134': 1}}, u'gold_delta': -257, u'healing': 203, u'item_uses': {u'arcane_boots': 1, u'ward_dispenser': 1}, u'killed': {}}, {u'buybacks': 0, u'xp_delta': 667, u'ability_uses': {u'weaver_shukuchi': 4, u'weaver_the_swarm': 1, u'weaver_time_lapse': 1}, u'deaths': 0, u'xp_end': 10429, u'damage': 966, u'xp_start': 9762, u'deaths_pos': {}, u'gold_delta': 294, u'healing': 0, u'item_uses': {}, u'killed': {}}], u'end': 1717, u'last_death': 1702, u'deaths': 3}, {u'start': 1704, u'players': [{u'buybacks': 0, u'xp_delta': 1370, u'ability_uses': {u'faceless_void_time_walk': 1, u'faceless_void_time_dilation': 1, u'faceless_void_chronosphere': 1}, u'deaths': 0, u'xp_end': 13790, u'damage': 2311, u'xp_start': 12427, u'deaths_pos': {}, u'gold_delta': 956, u'healing': 852, u'item_uses': {u'mask_of_madness': 1, u'magic_wand': 1}, u'killed': {u'npc_dota_hero_storm_spirit': 1}}, {u'buybacks': 0, u'xp_delta': 0, u'ability_uses': {}, u'deaths': 0, u'xp_end': 10454, u'damage': 0, u'xp_start': 10454, u'deaths_pos': {}, u'gold_delta': 200, u'healing': 0, u'item_uses': {}, u'killed': {}}, {u'buybacks': 0, u'xp_delta': 1370, u'ability_uses': {u'alchemist_unstable_concoction': 1, u'alchemist_acid_spray': 1, u'alchemist_unstable_concoction_throw': 1, u'alchemist_chemical_rage': 1}, u'deaths': 0, u'xp_end': 20588, u'damage': 1957, u'xp_start': 19225, u'deaths_pos': {}, u'gold_delta': 941, u'healing': 257, u'item_uses': {u'armlet': 4}, u'killed': {u'npc_dota_hero_razor': 1}}, {u'buybacks': 0, u'xp_delta': 6, u'ability_uses': {u'antimage_blink': 1}, u'deaths': 1, u'xp_end': 18968, u'damage': 0, u'xp_start': 18963, u'deaths_pos': {u'142': {u'142': 1}}, u'gold_delta': -110, u'healing': 0, u'item_uses': {}, u'killed': {}}, {u'buybacks': 0, u'xp_delta': 1370, u'ability_uses': {u'mirana_arrow': 1, u'mirana_starfall': 2, u'mirana_invis': 1, u'mirana_leap': 1}, u'deaths': 0, u'xp_end': 8942, u'damage': 1083, u'xp_start': 7579, u'deaths_pos': {}, u'gold_delta': 555, u'healing': 90, u'item_uses': {u'magic_stick': 3}, u'killed': {}}, {u'buybacks': 0, u'xp_delta': 1427, u'ability_uses': {u'razor_static_link': 1, u'razor_plasma_field': 1, u'razor_eye_of_the_storm': 1}, u'deaths': 1, u'xp_end': 10380, u'damage': 1232, u'xp_start': 8953, u'deaths_pos': {u'150': {u'144': 1}}, u'gold_delta': 262, u'healing': 195, u'item_uses': {u'magic_wand': 1}, u'killed': {}}, {u'buybacks': 0, u'xp_delta': 0, u'ability_uses': {}, u'deaths': 0, u'xp_end': 15428, u'damage': 0, u'xp_start': 15428, u'deaths_pos': {}, u'gold_delta': 0, u'healing': 0, u'item_uses': {}, u'killed': {}}, {u'buybacks': 0, u'xp_delta': 1337, u'ability_uses': {u'storm_spirit_static_remnant': 1, u'storm_spirit_ball_lightning': 1, u'storm_spirit_electric_vortex': 1}, u'deaths': 1, u'xp_end': 19157, u'damage': 535, u'xp_start': 17820, u'deaths_pos': {u'142': {u'144': 1}}, u'gold_delta': 193, u'healing': 259, u'item_uses': {}, u'killed': {u'npc_dota_hero_antimage': 1}}, {u'buybacks': 0, u'xp_delta': 0, u'ability_uses': {}, u'deaths': 0, u'xp_end': 5806, u'damage': 0, u'xp_start': 5806, u'deaths_pos': {}, u'gold_delta': 0, u'healing': 0, u'item_uses': {}, u'killed': {}}, {u'buybacks': 0, u'xp_delta': 358, u'ability_uses': {u'weaver_shukuchi': 2, u'weaver_the_swarm': 1}, u'deaths': 0, u'xp_end': 10787, u'damage': 206, u'xp_start': 10429, u'deaths_pos': {}, u'gold_delta': 142, u'healing': 0, u'item_uses': {u'tpscroll': 1}, u'killed': {}}], u'end': 1746, u'last_death': 1731, u'deaths': 3}, {u'start': 2144, u'players': [{u'buybacks': 0, u'xp_delta': 1364, u'ability_uses': {u'faceless_void_time_walk': 2, u'faceless_void_time_dilation': 1, u'faceless_void_chronosphere': 1}, u'deaths': 0, u'xp_end': 17464, u'damage': 2255, u'xp_start': 16100, u'deaths_pos': {}, u'gold_delta': 258, u'healing': 463, u'item_uses': {u'mask_of_madness': 1}, u'killed': {}}, {u'buybacks': 0, u'xp_delta': 1815, u'ability_uses': {u'silencer_last_word': 1, u'silencer_global_silence': 1, u'silencer_curse_of_the_silent': 1}, u'deaths': 0, u'xp_end': 15084, u'damage': 236, u'xp_start': 13269, u'deaths_pos': {}, u'gold_delta': 591, u'healing': 0, u'item_uses': {u'ward_sentry': 1, u'glimmer_cape': 1}, u'killed': {u'npc_dota_hero_razor': 1}}, {u'buybacks': 0, u'xp_delta': 1555, u'ability_uses': {u'alchemist_chemical_rage': 1}, u'deaths': 0, u'xp_end': 27389, u'damage': 3217, u'xp_start': 25834, u'deaths_pos': {}, u'gold_delta': 1497, u'healing': 317, u'item_uses': {u'abyssal_blade': 1, u'travel_boots': 1, u'armlet': 2}, u'killed': {u'npc_dota_hero_witch_doctor': 1, u'npc_dota_hero_weaver': 1}}, {u'buybacks': 0, u'xp_delta': 1800, u'ability_uses': {u'antimage_blink': 2, u'antimage_mana_void': 1}, u'deaths': 0, u'xp_end': 24933, u'damage': 1926, u'xp_start': 23133, u'deaths_pos': {}, u'gold_delta': 392, u'healing': 0, u'item_uses': {u'abyssal_blade': 1, u'manta': 1}, u'killed': {}}, {u'buybacks': 0, u'xp_delta': 1270, u'ability_uses': {u'mirana_arrow': 2, u'mirana_starfall': 2, u'mirana_invis': 1, u'mirana_leap': 1}, u'deaths': 0, u'xp_end': 12660, u'damage': 394, u'xp_start': 11390, u'deaths_pos': {}, u'gold_delta': 682, u'healing': 0, u'item_uses': {u'bottle': 1, u'magic_stick': 1}, u'killed': {u'npc_dota_hero_juggernaut': 1}}, {u'buybacks': 0, u'xp_delta': 120, u'ability_uses': {u'razor_plasma_field': 1}, u'deaths': 1, u'xp_end': 13173, u'damage': 777, u'xp_start': 13053, u'deaths_pos': {u'120': {u'128': 1}}, u'gold_delta': -406, u'healing': 250, u'item_uses': {u'ward_dispenser': 1, u'mekansm': 1}, u'killed': {}}, {u'buybacks': 0, u'xp_delta': 146, u'ability_uses': {u'juggernaut_blade_fury': 1}, u'deaths': 1, u'xp_end': 20970, u'damage': 683, u'xp_start': 20824, u'deaths_pos': {u'116': {u'126': 1}}, u'gold_delta': -599, u'healing': 0, u'item_uses': {u'phase_boots': 2, u'manta': 1, u'ring_of_aquila': 2}, u'killed': {}}, {u'buybacks': 0, u'xp_delta': 557, u'ability_uses': {u'storm_spirit_static_remnant': 1, u'storm_spirit_ball_lightning': 2, u'storm_spirit_electric_vortex': 1}, u'deaths': 0, u'xp_end': 26312, u'damage': 244, u'xp_start': 25755, u'deaths_pos': {}, u'gold_delta': 506, u'healing': 0, u'item_uses': {}, u'killed': {}}, {u'buybacks': 0, u'xp_delta': 134, u'ability_uses': {}, u'deaths': 1, u'xp_end': 9386, u'damage': 0, u'xp_start': 9252, u'deaths_pos': {u'130': {u'128': 1}}, u'gold_delta': -389, u'healing': 0, u'item_uses': {u'black_king_bar': 1}, u'killed': {}}, {u'buybacks': 0, u'xp_delta': 134, u'ability_uses': {u'weaver_shukuchi': 3, u'weaver_the_swarm': 1, u'weaver_time_lapse': 1}, u'deaths': 1, u'xp_end': 14977, u'damage': 798, u'xp_start': 14843, u'deaths_pos': {u'134': {u'132': 1}}, u'gold_delta': -342, u'healing': 0, u'item_uses': {}, u'killed': {}}], u'end': 2189, u'last_death': 2174, u'deaths': 4}, {u'start': 2508, u'players': [{u'buybacks': 0, u'xp_delta': 2440, u'ability_uses': {u'faceless_void_time_walk': 4, u'faceless_void_time_dilation': 2, u'faceless_void_chronosphere': 1}, u'deaths': 0, u'xp_end': 22527, u'damage': 2104, u'xp_start': 20092, u'deaths_pos': {}, u'gold_delta': 1645, u'healing': 1115, u'item_uses': {u'mask_of_madness': 1, u'magic_wand': 1}, u'killed': {u'npc_dota_hero_witch_doctor': 1}}, {u'buybacks': 0, u'xp_delta': 1107, u'ability_uses': {u'silencer_global_silence': 1}, u'deaths': 0, u'xp_end': 19733, u'damage': 0, u'xp_start': 18631, u'deaths_pos': {}, u'gold_delta': 942, u'healing': 0, u'item_uses': {u'cyclone': 1, u'ward_sentry': 1, u'glimmer_cape': 1, u'ethereal_blade': 1}, u'killed': {}}, {u'buybacks': 0, u'xp_delta': 934, u'ability_uses': {u'alchemist_unstable_concoction': 3, u'alchemist_acid_spray': 2, u'alchemist_unstable_concoction_throw': 3, u'alchemist_chemical_rage': 1}, u'deaths': 0, u'xp_end': 32456, u'damage': 3468, u'xp_start': 31523, u'deaths_pos': {}, u'gold_delta': 3350, u'healing': 161, u'item_uses': {u'abyssal_blade': 2, u'armlet': 3}, u'killed': {u'npc_dota_hero_storm_spirit': 2}}, {u'buybacks': 0, u'xp_delta': 0, u'ability_uses': {u'antimage_blink': 3}, u'deaths': 0, u'xp_end': 32467, u'damage': 3573, u'xp_start': 32467, u'deaths_pos': {}, u'gold_delta': 1054, u'healing': 840, u'item_uses': {u'abyssal_blade': 2, u'manta': 2}, u'killed': {}}, {u'buybacks': 0, u'xp_delta': 1444, u'ability_uses': {u'mirana_arrow': 2, u'mirana_starfall': 1, u'mirana_invis': 1, u'mirana_leap': 2}, u'deaths': 0, u'xp_end': 15571, u'damage': 1211, u'xp_start': 14132, u'deaths_pos': {}, u'gold_delta': 1108, u'healing': 164, u'item_uses': {u'ward_sentry': 1, u'bottle': 2, u'magic_stick': 1}, u'killed': {u'npc_dota_hero_razor': 1}}, {u'buybacks': 0, u'xp_delta': 22, u'ability_uses': {u'razor_static_link': 1, u'razor_plasma_field': 1}, u'deaths': 1, u'xp_end': 13606, u'damage': 495, u'xp_start': 13584, u'deaths_pos': {u'168': {u'156': 1}}, u'gold_delta': -429, u'healing': 0, u'item_uses': {}, u'killed': {}}, {u'buybacks': 0, u'xp_delta': 0, u'ability_uses': {}, u'deaths': 0, u'xp_end': 21927, u'damage': 0, u'xp_start': 21927, u'deaths_pos': {}, u'gold_delta': 0, u'healing': 0, u'item_uses': {}, u'killed': {}}, {u'buybacks': 1, u'xp_delta': 112, u'ability_uses': {u'storm_spirit_ball_lightning': 3, u'storm_spirit_electric_vortex': 1}, u'deaths': 2, u'xp_end': 31638, u'damage': 1669, u'xp_start': 31526, u'deaths_pos': {u'164': {u'154': 1}, u'172': {u'158': 1}}, u'gold_delta': -2204, u'healing': 907, u'item_uses': {u'cyclone': 1, u'shivas_guard': 1, u'orchid': 1}, u'killed': {}}, {u'buybacks': 0, u'xp_delta': 0, u'ability_uses': {u'witch_doctor_voodoo_restoration': 1, u'witch_doctor_paralyzing_cask': 1}, u'deaths': 1, u'xp_end': 11332, u'damage': 38, u'xp_start': 11332, u'deaths_pos': {u'174': {u'160': 1}}, u'gold_delta': -419, u'healing': 212, u'item_uses': {u'black_king_bar': 1}, u'killed': {}}, {u'buybacks': 0, u'xp_delta': 144, u'ability_uses': {u'weaver_shukuchi': 5, u'weaver_the_swarm': 1}, u'deaths': 0, u'xp_end': 16157, u'damage': 866, u'xp_start': 16013, u'deaths_pos': {}, u'gold_delta': 31, u'healing': 0, u'item_uses': {}, u'killed': {}}], u'end': 2563, u'last_death': 2548, u'deaths': 4}]\n"
     ]
    }
   ],
   "source": [
    "print match_data['teamfights']"
   ]
  },
  {
   "cell_type": "code",
   "execution_count": 26,
   "metadata": {
    "collapsed": false
   },
   "outputs": [],
   "source": [
    "# Here we analyze a player\n",
    "player1 = match_data['players'][0]"
   ]
  },
  {
   "cell_type": "code",
   "execution_count": 29,
   "metadata": {
    "collapsed": false
   },
   "outputs": [
    {
     "data": {
      "text/plain": [
       "[u'purchase_time',\n",
       " u'lane_efficiency',\n",
       " u'gold',\n",
       " u'sentry_kills',\n",
       " u'lane_efficiency_pct',\n",
       " u'actions',\n",
       " u'damage_inflictor_received',\n",
       " u'lh_t',\n",
       " u'damage_taken',\n",
       " u'kill_streaks',\n",
       " u'cosmetics',\n",
       " u'hero_id',\n",
       " u'necronomicon_kills',\n",
       " u'kills_log',\n",
       " u'sentry_uses',\n",
       " u'account_id',\n",
       " u'kills',\n",
       " u'kills_per_min',\n",
       " u'start_time',\n",
       " u'isRadiant',\n",
       " u'purchase_ward_sentry',\n",
       " u'leaver_status',\n",
       " u'killed',\n",
       " u'stuns',\n",
       " u'gold_per_min',\n",
       " u'name',\n",
       " u'level',\n",
       " u'actions_per_min',\n",
       " u'damage_inflictor',\n",
       " u'life_state_dead',\n",
       " u'patch',\n",
       " u'item_4',\n",
       " u'item_5',\n",
       " u'item_2',\n",
       " u'item_3',\n",
       " u'item_0',\n",
       " u'lose',\n",
       " u'sen_left_log',\n",
       " u'buyback_count',\n",
       " u'obs_placed',\n",
       " u'match_id',\n",
       " u'kda',\n",
       " u'pings',\n",
       " u'gold_reasons',\n",
       " u'total_gold',\n",
       " u'item_uses',\n",
       " u'duration',\n",
       " u'sen',\n",
       " u'lobby_type',\n",
       " u'denies',\n",
       " u'ancient_kills',\n",
       " u'killed_by',\n",
       " u'neutral_kills',\n",
       " u'permanent_buffs',\n",
       " u'last_login',\n",
       " u'gold_t',\n",
       " u'xp_per_min',\n",
       " u'ability_uses',\n",
       " u'item_1',\n",
       " u'abandons',\n",
       " u'rune_pickups',\n",
       " u'assists',\n",
       " u'obs_left_log',\n",
       " u'xp_reasons',\n",
       " u'purchase_log',\n",
       " u'region',\n",
       " u'obs_log',\n",
       " u'times',\n",
       " u'hero_kills',\n",
       " u'obs',\n",
       " u'win',\n",
       " u'purchase_tpscroll',\n",
       " u'radiant_win',\n",
       " u'runes',\n",
       " u'game_mode',\n",
       " u'ability_upgrades_arr',\n",
       " u'observer_uses',\n",
       " u'item_win',\n",
       " u'item_usage',\n",
       " u'party_id',\n",
       " u'hero_healing',\n",
       " u'life_state',\n",
       " u'xp_t',\n",
       " u'benchmarks',\n",
       " u'courier_kills',\n",
       " u'buyback_log',\n",
       " u'tower_kills',\n",
       " u'additional_units',\n",
       " u'gold_spent',\n",
       " u'deaths',\n",
       " u'cluster',\n",
       " u'last_hits',\n",
       " u'total_xp',\n",
       " u'player_slot',\n",
       " u'creeps_stacked',\n",
       " u'multi_kills',\n",
       " u'camps_stacked',\n",
       " u'first_purchase_time',\n",
       " u'damage',\n",
       " u'sen_log',\n",
       " u'hero_hits',\n",
       " u'solo_competitive_rank',\n",
       " u'tower_damage',\n",
       " u'lane_kills',\n",
       " u'hero_damage',\n",
       " u'personaname',\n",
       " u'roshan_kills',\n",
       " u'max_hero_hit',\n",
       " u'observer_kills',\n",
       " u'lane_role',\n",
       " u'lane_pos',\n",
       " u'purchase',\n",
       " u'lane',\n",
       " u'sen_placed',\n",
       " u'dn_t']"
      ]
     },
     "execution_count": 29,
     "metadata": {},
     "output_type": "execute_result"
    }
   ],
   "source": [
    "player1.keys()"
   ]
  },
  {
   "cell_type": "markdown",
   "metadata": {},
   "source": [
    "https://github.com/kronusme/dota2-api/blob/master/data/heroes.json\n",
    "https://github.com/kronusme/dota2-api/blob/master/data/items.json\n",
    "\n",
    "Of interest from the player fields are:\n",
    "    1. gold\n",
    "    2. last_hints\n",
    "    3. damage_taken\n",
    "    4. isRadiant\n",
    "    5. hero_id\n",
    "    6. actions_per_min\n",
    "    7. kills\n",
    "    8. kills_per_min\n",
    "    9. item_win for end state items\n",
    "    10. kda\n",
    "    11. assists\n",
    "    12. deaths\n",
    "    13. total_gold and total_xp\n",
    "    14. denies\n",
    "    15. item_0, item_1, item_2, ..., item_5\n",
    "    16. lane_role\n",
    "    17. lane_efficiency_pct\n",
    "    18. solo_competitive_rank\n",
    "    19. hero_damage"
   ]
  }
 ],
 "metadata": {
  "kernelspec": {
   "display_name": "Python 2",
   "language": "python",
   "name": "python2"
  },
  "language_info": {
   "codemirror_mode": {
    "name": "ipython",
    "version": 2
   },
   "file_extension": ".py",
   "mimetype": "text/x-python",
   "name": "python",
   "nbconvert_exporter": "python",
   "pygments_lexer": "ipython2",
   "version": "2.7.12"
  }
 },
 "nbformat": 4,
 "nbformat_minor": 2
}
